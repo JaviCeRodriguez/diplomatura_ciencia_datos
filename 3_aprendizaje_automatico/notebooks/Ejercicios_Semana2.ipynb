{
  "cells": [
    {
      "cell_type": "markdown",
      "id": "turkish-walker",
      "metadata": {
        "tags": [],
        "id": "turkish-walker"
      },
      "source": [
        "# Argentina programa 4.0 - Módulo 3: Aprendizaje Automático\n",
        "---\n",
        "# Ejercicios semana 2 - Ensembles, Pasting/Bagging, balance cesgo-varianza"
      ]
    },
    {
      "cell_type": "markdown",
      "metadata": {
        "id": "UW7WWWs2u6b_"
      },
      "source": [
        "## **Ejercicio 1**\n",
        "\n",
        "* Muestren cómo evolucionan los errores de entrenamiento y prueba en el conjunto de datos _Moons_ a medida que aumentamos el número de árboles en el _random forest_."
      ],
      "id": "UW7WWWs2u6b_"
    },
    {
      "cell_type": "code",
      "execution_count": null,
      "metadata": {
        "id": "991Dv0MXu6b_"
      },
      "outputs": [],
      "source": [
        "from sklearn.ensemble import RandomForestClassifier"
      ],
      "id": "991Dv0MXu6b_"
    },
    {
      "cell_type": "markdown",
      "metadata": {
        "id": "vAQ5JqFIu6cA"
      },
      "source": [
        "## **Ejercicio 2**\n",
        "\n",
        "* Entrenar un Clasificador de árbol de decisión (`DecisionTreeClassifier`) no regularizado (es decir, un árbol salvaje) en el conjunto de datos. Evalúe su rendimiento con la validación cruzada.\n",
        "* Entrene ahora un `DecisionTreeClassifier`. Utilice la validación cruzada para encontrar los hiperparámetros óptimos.\n",
        "\n",
        "**Consejo**: Reflexione sobre cuáles son los parámetros más relevantes a explorar (elija no más de tres).\n",
        "\n",
        "* Registrar los mejores hiperparámetros.\n",
        "* Entrene un Clasificador de bosque aleatorio (`RandomForestClassifier`) en el mismo conjunto de datos.\n",
        "* De nuevo, utilice el CV para encontrar los hiperparámetros óptimos\n",
        "\n",
        "**Consejo2**: recuerda que además de los parámetros del punto anterior, necesitarás optimizar N estimadores (`n_estimators`);\n",
        "\n",
        "**Consejo3**: aquí se hace una pausa para el café.\n",
        "\n",
        "* Compara los hiperparámetros obtenidos con cada método. ¿Puedes encontrarle sentido a lo que obtienes?\n",
        "* Define un Árbol de Decisión con los parámetros optimizados para el Bosque Aleatorio. Entrénalo y evalúa su rendimiento en un conjunto de pruebas. ¿Qué ves? ¿Tiene sentido?\n",
        "\n",
        "**Nota:** en todos los casos, utiliza la función `plot_trees` para ver los resultados."
      ],
      "id": "vAQ5JqFIu6cA"
    },
    {
      "cell_type": "code",
      "execution_count": null,
      "metadata": {
        "id": "FdlINMr6u6cA"
      },
      "outputs": [],
      "source": [
        "from sklearn.tree import DecisionTreeClassifier, plot_tree\n",
        "from sklearn.model_selection import RandomizedSearchCV, GridSearchCV"
      ],
      "id": "FdlINMr6u6cA"
    },
    {
      "cell_type": "markdown",
      "metadata": {
        "id": "aNkQOYtau6cA"
      },
      "source": [
        "### Árbol salvaje"
      ],
      "id": "aNkQOYtau6cA"
    },
    {
      "cell_type": "code",
      "execution_count": null,
      "metadata": {
        "id": "LN4e_xDuu6cA"
      },
      "outputs": [],
      "source": [],
      "id": "LN4e_xDuu6cA"
    },
    {
      "cell_type": "markdown",
      "metadata": {
        "id": "feiXkQXju6cA"
      },
      "source": [
        "### Árbol regularizado"
      ],
      "id": "feiXkQXju6cA"
    },
    {
      "cell_type": "code",
      "execution_count": null,
      "metadata": {
        "id": "7jUgRrPsu6cA"
      },
      "outputs": [],
      "source": [],
      "id": "7jUgRrPsu6cA"
    },
    {
      "cell_type": "markdown",
      "metadata": {
        "id": "VaL-PDb0u6cA"
      },
      "source": [
        "### Bosque eleatório (_Random Forest_)"
      ],
      "id": "VaL-PDb0u6cA"
    },
    {
      "cell_type": "code",
      "execution_count": null,
      "metadata": {
        "id": "TNkySsTlu6cA"
      },
      "outputs": [],
      "source": [],
      "id": "TNkySsTlu6cA"
    },
    {
      "cell_type": "markdown",
      "metadata": {
        "id": "cjKG-bVYu6cA"
      },
      "source": [
        "### Entrenar los parámetros de árboles de decisión (DT) y de bosques aleatórios (RF)"
      ],
      "id": "cjKG-bVYu6cA"
    },
    {
      "cell_type": "code",
      "execution_count": null,
      "metadata": {
        "id": "NdjlGLJCu6cA"
      },
      "outputs": [],
      "source": [],
      "id": "NdjlGLJCu6cA"
    },
    {
      "cell_type": "markdown",
      "source": [
        "## Ejercicio 3\n",
        "\n",
        "Usando el conjunto completo de Iris, o sea, con las 4 características, obtenga cuales características son las más importantes"
      ],
      "metadata": {
        "id": "rvuBRs9d68wq"
      },
      "id": "rvuBRs9d68wq"
    },
    {
      "cell_type": "code",
      "source": [],
      "metadata": {
        "id": "Q-85cCkU7dLq"
      },
      "id": "Q-85cCkU7dLq",
      "execution_count": null,
      "outputs": []
    }
  ],
  "metadata": {
    "kernelspec": {
      "display_name": "Python 3.8.13 ('tf-mac')",
      "language": "python",
      "name": "python3"
    },
    "language_info": {
      "codemirror_mode": {
        "name": "ipython",
        "version": 3
      },
      "file_extension": ".py",
      "mimetype": "text/x-python",
      "name": "python",
      "nbconvert_exporter": "python",
      "pygments_lexer": "ipython3",
      "version": "3.8.13"
    },
    "toc-showcode": false,
    "vscode": {
      "interpreter": {
        "hash": "2b7aa682480b82eb27ca7b5ecfebdb0027bb2a276e6bdff64c1ddeab03557e9e"
      }
    },
    "colab": {
      "provenance": [],
      "toc_visible": true
    }
  },
  "nbformat": 4,
  "nbformat_minor": 5
}