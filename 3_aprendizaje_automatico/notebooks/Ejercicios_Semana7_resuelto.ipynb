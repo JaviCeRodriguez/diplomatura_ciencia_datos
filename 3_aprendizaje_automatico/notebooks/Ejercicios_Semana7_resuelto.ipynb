{
  "cells": [
    {
      "cell_type": "markdown",
      "metadata": {
        "id": "turkish-walker"
      },
      "source": [
        "# Argentina programa 4.0 - Módulo 3: Aprendizaje Automático\n",
        "---\n",
        "# Ejercicios semana 7 - CNNs\n"
      ],
      "id": "turkish-walker"
    },
    {
      "cell_type": "markdown",
      "metadata": {
        "id": "d_3Wg-NBpGJT"
      },
      "source": [
        "## Fashion-MINST\n",
        "\n",
        "\n",
        "Al igual que la semana anterior, usen el conjunto de datos fashion-MINST. trayendo el el dataset desde `keras.datasets.fashion_mnist`:\n",
        "\n",
        "1.   Separen en train, validation y test (hecho...)\n",
        "2.   Normalicen de la misma forma que hicimos con CIFAR-10 o MNIST\n",
        "3.   Hagan una CNN simple para este problema (clasificar 10 clases): una sola capa convolucional con 32 filtros y kernel de 3x3, un maxpooling de 2x2 y la red totalmente conectada del final de 256 unidades.\n",
        "4.   Usen un early stopping monitoreando la loss en el conjunto de validación con una paciencia de 10 épocas, entrenen hasta que pare y anoten el resultado de la accuracy en el conjunto de validación. **Este es su modelo de base**.\n",
        "5.   Ahora busquen una nueva arquitectura que le gane a este modelo. Prueben ir agregando de a una capa convolucional y ver si mejora, cambiar los tamaños y las cantidades de los filtros, intercalen con pooling, recuerden que tambien pueden usar dropout, jugar con el stride y el padding, etc.\n",
        "\n",
        "Como recomendación sean sistemáticos, vayan probando de a un cambio a la vez y viendo si mejora, empiecen con las capas convolucionales y de pooling (se suele recomendar que no haya más de dos convolucionales por cada pooling) agregar más no mejore prueben aumentar el número de filtros sobre las capas finales, achicar o agrandar los kernels, aplicar un PCA, etc. Recuerden que pueden usar tensorboard o [weight and biases](https://wandb.ai/wandb_fc/articles/reports/Intro-to-Keras-with-Weights-Biases--Vmlldzo1NDM0ODEz) para comparar las diferentes arquitecturas.\n",
        "\n",
        "Una vez que tengan un modelo final (o sea, ya se cansaron de probar :P) comparen el rendimiento de esta red contra la de la semana pasada y asi quieren compartan el resultado sobre le conjunto de validación con sus compañeros. La arquitectura ganadora de todos ustedes que sea probada sobre el conjunto de testeo."
      ],
      "id": "d_3Wg-NBpGJT"
    },
    {
      "cell_type": "code",
      "source": [
        "#Las estrellas\n",
        "import tensorflow as tf\n",
        "from tensorflow import keras"
      ],
      "metadata": {
        "id": "xtOSgwoZfbH1"
      },
      "id": "xtOSgwoZfbH1",
      "execution_count": 1,
      "outputs": []
    },
    {
      "cell_type": "code",
      "execution_count": 2,
      "metadata": {
        "id": "ZrAr7W-Gp09e",
        "colab": {
          "base_uri": "https://localhost:8080/"
        },
        "outputId": "2cbd6320-bac3-4388-e02c-a1bd9e143090"
      },
      "outputs": [
        {
          "output_type": "stream",
          "name": "stdout",
          "text": [
            "Downloading data from https://storage.googleapis.com/tensorflow/tf-keras-datasets/train-labels-idx1-ubyte.gz\n",
            "29515/29515 [==============================] - 0s 0us/step\n",
            "Downloading data from https://storage.googleapis.com/tensorflow/tf-keras-datasets/train-images-idx3-ubyte.gz\n",
            "26421880/26421880 [==============================] - 0s 0us/step\n",
            "Downloading data from https://storage.googleapis.com/tensorflow/tf-keras-datasets/t10k-labels-idx1-ubyte.gz\n",
            "5148/5148 [==============================] - 0s 0us/step\n",
            "Downloading data from https://storage.googleapis.com/tensorflow/tf-keras-datasets/t10k-images-idx3-ubyte.gz\n",
            "4422102/4422102 [==============================] - 0s 0us/step\n"
          ]
        }
      ],
      "source": [
        "#traemos ya test y train\n",
        "fashion_mnist = keras.datasets.fashion_mnist\n",
        "(X_train_full, y_train_full), (X_test, y_test) = fashion_mnist.load_data()\n",
        "\n",
        "#60k en train 10k en test\n",
        "X_train_full = X_train_full.reshape((60000, 28, 28, 1))\n",
        "X_test = X_test.reshape((10000, 28, 28, 1))\n",
        "\n",
        "#separamos train en validación\n",
        "X_valid, X_train = X_train_full[:5000], X_train_full[5000:]\n",
        "y_valid, y_train = y_train_full[:5000], y_train_full[5000:]\n",
        "\n",
        "# a partir de ahora ustedes\n",
        "\n",
        "X_valid = X_valid / 255.\n",
        "X_train = X_train / 255.\n",
        "X_test = X_test / 255.\n"
      ],
      "id": "ZrAr7W-Gp09e"
    },
    {
      "cell_type": "markdown",
      "metadata": {
        "id": "VJsfRuRhktx4"
      },
      "source": [
        "La red base del enunciado"
      ],
      "id": "VJsfRuRhktx4"
    },
    {
      "cell_type": "code",
      "execution_count": null,
      "metadata": {
        "id": "iJMoMttjsKKN"
      },
      "outputs": [],
      "source": [
        "#Red, empezamos simple\n",
        "\n",
        "input_ = keras.layers.Input(shape=(X_train.shape[1:])) #En este caso es necesario definir el Layer de Inputs\n",
        "#capas convolucionales\n",
        "conv1 = keras.layers.Conv2D(filters=32, kernel_size=(3, 3), padding='same', activation='relu')(input_)\n",
        "#con esto achico a un cuarto los mapas de características\n",
        "pool1 = keras.layers.MaxPooling2D(pool_size=(2, 2))(conv1)\n",
        "#la salida se aplana para pasarsela a una red totalmente conectada\n",
        "flatten = keras.layers.Flatten()(pool1)\n",
        "hidden1 = keras.layers.Dense(256, activation=\"relu\")(flatten)\n",
        "output = keras.layers.Dense(10, activation=\"softmax\")(hidden1)\n",
        "model = keras.models.Model(inputs=[input_], outputs=[output])"
      ],
      "id": "iJMoMttjsKKN"
    },
    {
      "cell_type": "code",
      "execution_count": null,
      "metadata": {
        "colab": {
          "base_uri": "https://localhost:8080/"
        },
        "id": "MHxSq2tzrxLn",
        "outputId": "694e3e17-492c-4e70-d6de-4d612b9f4a20"
      },
      "outputs": [
        {
          "output_type": "stream",
          "name": "stdout",
          "text": [
            "Model: \"model_1\"\n",
            "_________________________________________________________________\n",
            " Layer (type)                Output Shape              Param #   \n",
            "=================================================================\n",
            " input_2 (InputLayer)        [(None, 28, 28, 1)]       0         \n",
            "                                                                 \n",
            " conv2d_1 (Conv2D)           (None, 28, 28, 32)        320       \n",
            "                                                                 \n",
            " max_pooling2d_1 (MaxPoolin  (None, 14, 14, 32)        0         \n",
            " g2D)                                                            \n",
            "                                                                 \n",
            " flatten_1 (Flatten)         (None, 6272)              0         \n",
            "                                                                 \n",
            " dense_2 (Dense)             (None, 256)               1605888   \n",
            "                                                                 \n",
            " dense_3 (Dense)             (None, 10)                2570      \n",
            "                                                                 \n",
            "=================================================================\n",
            "Total params: 1608778 (6.14 MB)\n",
            "Trainable params: 1608778 (6.14 MB)\n",
            "Non-trainable params: 0 (0.00 Byte)\n",
            "_________________________________________________________________\n"
          ]
        }
      ],
      "source": [
        "model.summary()"
      ],
      "id": "MHxSq2tzrxLn"
    },
    {
      "cell_type": "code",
      "execution_count": null,
      "metadata": {
        "id": "EIWbooJ5uBiN"
      },
      "outputs": [],
      "source": [
        "model.compile(loss=\"sparse_categorical_crossentropy\",\n",
        "              optimizer=\"sgd\",\n",
        "              metrics=[\"accuracy\"])\n",
        "\n",
        "early_stopping_cb=keras.callbacks.EarlyStopping(monitor='val_loss',patience=10,restore_best_weights=True)"
      ],
      "id": "EIWbooJ5uBiN"
    },
    {
      "cell_type": "code",
      "execution_count": null,
      "metadata": {
        "colab": {
          "base_uri": "https://localhost:8080/"
        },
        "id": "14YYJuezuxqZ",
        "outputId": "1a2ad04b-8c01-4d06-9001-fc1a876180cc"
      },
      "outputs": [
        {
          "output_type": "stream",
          "name": "stdout",
          "text": [
            "Epoch 1/100\n",
            "1719/1719 [==============================] - 10s 4ms/step - loss: 0.7167 - accuracy: 0.7561 - val_loss: 0.5064 - val_accuracy: 0.8256\n",
            "Epoch 2/100\n",
            "1719/1719 [==============================] - 8s 5ms/step - loss: 0.4802 - accuracy: 0.8277 - val_loss: 0.5018 - val_accuracy: 0.8220\n",
            "Epoch 3/100\n",
            "1719/1719 [==============================] - 8s 5ms/step - loss: 0.4288 - accuracy: 0.8484 - val_loss: 0.4181 - val_accuracy: 0.8506\n",
            "Epoch 4/100\n",
            "1719/1719 [==============================] - 6s 4ms/step - loss: 0.3944 - accuracy: 0.8596 - val_loss: 0.3937 - val_accuracy: 0.8608\n",
            "Epoch 5/100\n",
            "1719/1719 [==============================] - 8s 4ms/step - loss: 0.3678 - accuracy: 0.8700 - val_loss: 0.3504 - val_accuracy: 0.8784\n",
            "Epoch 6/100\n",
            "1719/1719 [==============================] - 6s 4ms/step - loss: 0.3476 - accuracy: 0.8751 - val_loss: 0.3316 - val_accuracy: 0.8852\n",
            "Epoch 7/100\n",
            "1719/1719 [==============================] - 8s 5ms/step - loss: 0.3309 - accuracy: 0.8819 - val_loss: 0.3320 - val_accuracy: 0.8818\n",
            "Epoch 8/100\n",
            "1719/1719 [==============================] - 8s 4ms/step - loss: 0.3159 - accuracy: 0.8866 - val_loss: 0.3214 - val_accuracy: 0.8882\n",
            "Epoch 9/100\n",
            "1719/1719 [==============================] - 6s 4ms/step - loss: 0.3035 - accuracy: 0.8908 - val_loss: 0.3079 - val_accuracy: 0.8950\n",
            "Epoch 10/100\n",
            "1719/1719 [==============================] - 7s 4ms/step - loss: 0.2917 - accuracy: 0.8937 - val_loss: 0.3142 - val_accuracy: 0.8896\n",
            "Epoch 11/100\n",
            "1719/1719 [==============================] - 7s 4ms/step - loss: 0.2821 - accuracy: 0.8983 - val_loss: 0.3020 - val_accuracy: 0.8932\n",
            "Epoch 12/100\n",
            "1719/1719 [==============================] - 7s 4ms/step - loss: 0.2719 - accuracy: 0.9020 - val_loss: 0.2982 - val_accuracy: 0.8932\n",
            "Epoch 13/100\n",
            "1719/1719 [==============================] - 7s 4ms/step - loss: 0.2644 - accuracy: 0.9043 - val_loss: 0.2915 - val_accuracy: 0.8960\n",
            "Epoch 14/100\n",
            "1719/1719 [==============================] - 7s 4ms/step - loss: 0.2559 - accuracy: 0.9069 - val_loss: 0.2842 - val_accuracy: 0.8980\n",
            "Epoch 15/100\n",
            "1719/1719 [==============================] - 6s 4ms/step - loss: 0.2485 - accuracy: 0.9108 - val_loss: 0.2795 - val_accuracy: 0.9034\n",
            "Epoch 16/100\n",
            "1719/1719 [==============================] - 7s 4ms/step - loss: 0.2417 - accuracy: 0.9126 - val_loss: 0.2756 - val_accuracy: 0.9004\n",
            "Epoch 17/100\n",
            "1719/1719 [==============================] - 6s 4ms/step - loss: 0.2348 - accuracy: 0.9144 - val_loss: 0.2728 - val_accuracy: 0.9030\n",
            "Epoch 18/100\n",
            "1719/1719 [==============================] - 7s 4ms/step - loss: 0.2284 - accuracy: 0.9170 - val_loss: 0.2698 - val_accuracy: 0.9018\n",
            "Epoch 19/100\n",
            "1719/1719 [==============================] - 6s 4ms/step - loss: 0.2221 - accuracy: 0.9193 - val_loss: 0.2764 - val_accuracy: 0.9028\n",
            "Epoch 20/100\n",
            "1719/1719 [==============================] - 7s 4ms/step - loss: 0.2162 - accuracy: 0.9204 - val_loss: 0.2629 - val_accuracy: 0.9046\n",
            "Epoch 21/100\n",
            "1719/1719 [==============================] - 6s 3ms/step - loss: 0.2097 - accuracy: 0.9243 - val_loss: 0.2657 - val_accuracy: 0.9032\n",
            "Epoch 22/100\n",
            "1719/1719 [==============================] - 7s 4ms/step - loss: 0.2052 - accuracy: 0.9250 - val_loss: 0.2612 - val_accuracy: 0.9062\n",
            "Epoch 23/100\n",
            "1719/1719 [==============================] - 6s 4ms/step - loss: 0.1990 - accuracy: 0.9279 - val_loss: 0.2631 - val_accuracy: 0.9066\n",
            "Epoch 24/100\n",
            "1719/1719 [==============================] - 7s 4ms/step - loss: 0.1948 - accuracy: 0.9287 - val_loss: 0.2497 - val_accuracy: 0.9112\n",
            "Epoch 25/100\n",
            "1719/1719 [==============================] - 7s 4ms/step - loss: 0.1895 - accuracy: 0.9304 - val_loss: 0.2533 - val_accuracy: 0.9090\n",
            "Epoch 26/100\n",
            "1719/1719 [==============================] - 6s 4ms/step - loss: 0.1840 - accuracy: 0.9331 - val_loss: 0.2618 - val_accuracy: 0.9044\n",
            "Epoch 27/100\n",
            "1719/1719 [==============================] - 7s 4ms/step - loss: 0.1791 - accuracy: 0.9356 - val_loss: 0.2459 - val_accuracy: 0.9146\n",
            "Epoch 28/100\n",
            "1719/1719 [==============================] - 7s 4ms/step - loss: 0.1744 - accuracy: 0.9370 - val_loss: 0.2405 - val_accuracy: 0.9118\n",
            "Epoch 29/100\n",
            "1719/1719 [==============================] - 7s 4ms/step - loss: 0.1694 - accuracy: 0.9391 - val_loss: 0.2546 - val_accuracy: 0.9150\n",
            "Epoch 30/100\n",
            "1719/1719 [==============================] - 6s 4ms/step - loss: 0.1651 - accuracy: 0.9413 - val_loss: 0.2419 - val_accuracy: 0.9128\n",
            "Epoch 31/100\n",
            "1719/1719 [==============================] - 7s 4ms/step - loss: 0.1608 - accuracy: 0.9419 - val_loss: 0.2434 - val_accuracy: 0.9144\n",
            "Epoch 32/100\n",
            "1719/1719 [==============================] - 6s 4ms/step - loss: 0.1557 - accuracy: 0.9441 - val_loss: 0.2423 - val_accuracy: 0.9124\n",
            "Epoch 33/100\n",
            "1719/1719 [==============================] - 7s 4ms/step - loss: 0.1517 - accuracy: 0.9460 - val_loss: 0.2423 - val_accuracy: 0.9136\n",
            "Epoch 34/100\n",
            "1719/1719 [==============================] - 7s 4ms/step - loss: 0.1466 - accuracy: 0.9481 - val_loss: 0.2474 - val_accuracy: 0.9136\n",
            "Epoch 35/100\n",
            "1719/1719 [==============================] - 8s 5ms/step - loss: 0.1429 - accuracy: 0.9493 - val_loss: 0.2413 - val_accuracy: 0.9152\n",
            "Epoch 36/100\n",
            "1719/1719 [==============================] - 6s 4ms/step - loss: 0.1385 - accuracy: 0.9515 - val_loss: 0.2425 - val_accuracy: 0.9138\n",
            "Epoch 37/100\n",
            "1719/1719 [==============================] - 7s 4ms/step - loss: 0.1357 - accuracy: 0.9524 - val_loss: 0.2386 - val_accuracy: 0.9166\n",
            "Epoch 38/100\n",
            "1719/1719 [==============================] - 6s 4ms/step - loss: 0.1307 - accuracy: 0.9539 - val_loss: 0.2440 - val_accuracy: 0.9146\n",
            "Epoch 39/100\n",
            "1719/1719 [==============================] - 7s 4ms/step - loss: 0.1264 - accuracy: 0.9560 - val_loss: 0.2328 - val_accuracy: 0.9168\n",
            "Epoch 40/100\n",
            "1719/1719 [==============================] - 6s 4ms/step - loss: 0.1222 - accuracy: 0.9568 - val_loss: 0.2552 - val_accuracy: 0.9110\n",
            "Epoch 41/100\n",
            "1719/1719 [==============================] - 7s 4ms/step - loss: 0.1197 - accuracy: 0.9589 - val_loss: 0.2488 - val_accuracy: 0.9122\n",
            "Epoch 42/100\n",
            "1719/1719 [==============================] - 6s 4ms/step - loss: 0.1155 - accuracy: 0.9596 - val_loss: 0.2412 - val_accuracy: 0.9156\n",
            "Epoch 43/100\n",
            "1719/1719 [==============================] - 7s 4ms/step - loss: 0.1114 - accuracy: 0.9611 - val_loss: 0.2422 - val_accuracy: 0.9138\n",
            "Epoch 44/100\n",
            "1719/1719 [==============================] - 6s 4ms/step - loss: 0.1084 - accuracy: 0.9628 - val_loss: 0.2601 - val_accuracy: 0.9138\n",
            "Epoch 45/100\n",
            "1719/1719 [==============================] - 7s 4ms/step - loss: 0.1042 - accuracy: 0.9645 - val_loss: 0.2494 - val_accuracy: 0.9176\n",
            "Epoch 46/100\n",
            "1719/1719 [==============================] - 7s 4ms/step - loss: 0.1005 - accuracy: 0.9655 - val_loss: 0.2806 - val_accuracy: 0.9024\n",
            "Epoch 47/100\n",
            "1719/1719 [==============================] - 6s 4ms/step - loss: 0.0975 - accuracy: 0.9671 - val_loss: 0.2682 - val_accuracy: 0.9104\n",
            "Epoch 48/100\n",
            "1719/1719 [==============================] - 7s 4ms/step - loss: 0.0944 - accuracy: 0.9686 - val_loss: 0.2455 - val_accuracy: 0.9156\n",
            "Epoch 49/100\n",
            "1719/1719 [==============================] - 6s 4ms/step - loss: 0.0913 - accuracy: 0.9698 - val_loss: 0.2401 - val_accuracy: 0.9194\n"
          ]
        }
      ],
      "source": [
        "epochs = 100\n",
        "#Esto faltó definirlo en el enunciado, uso el defautl\n",
        "batch_size = 32\n",
        "\n",
        "history = model.fit(X_train, y_train, epochs=epochs,batch_size=batch_size,\n",
        "                    validation_data=(X_valid, y_valid),callbacks=[early_stopping_cb])\n"
      ],
      "id": "14YYJuezuxqZ"
    },
    {
      "cell_type": "code",
      "source": [
        "accuracy = model.evaluate(X_valid, y_valid)[1]\n",
        "\n",
        "print(\"Accuracy en Validación: \", accuracy)"
      ],
      "metadata": {
        "colab": {
          "base_uri": "https://localhost:8080/"
        },
        "id": "cChDOemrfIak",
        "outputId": "95d0e4b0-75bd-47a3-e8bf-bb39ed65f15f"
      },
      "id": "cChDOemrfIak",
      "execution_count": null,
      "outputs": [
        {
          "output_type": "stream",
          "name": "stdout",
          "text": [
            "157/157 [==============================] - 1s 6ms/step - loss: 0.2328 - accuracy: 0.9168\n",
            "Accuracy en Validación:  0.9168000221252441\n"
          ]
        }
      ]
    },
    {
      "cell_type": "markdown",
      "metadata": {
        "id": "Bos8XLaYmZez"
      },
      "source": [
        "0.916, a ver que pasa con otra capa"
      ],
      "id": "Bos8XLaYmZez"
    },
    {
      "cell_type": "code",
      "execution_count": null,
      "metadata": {
        "colab": {
          "base_uri": "https://localhost:8080/"
        },
        "id": "cCoME1-roj8j",
        "outputId": "1397544a-2895-4913-cde7-8c5cd70bbb3b"
      },
      "outputs": [
        {
          "output_type": "stream",
          "name": "stdout",
          "text": [
            "Epoch 1/100\n",
            "1719/1719 [==============================] - 10s 6ms/step - loss: 0.6641 - accuracy: 0.7640 - val_loss: 0.4804 - val_accuracy: 0.8242\n",
            "Epoch 2/100\n",
            "1719/1719 [==============================] - 9s 5ms/step - loss: 0.4484 - accuracy: 0.8384 - val_loss: 0.3943 - val_accuracy: 0.8612\n",
            "Epoch 3/100\n",
            "1719/1719 [==============================] - 8s 5ms/step - loss: 0.3858 - accuracy: 0.8610 - val_loss: 0.3739 - val_accuracy: 0.8648\n",
            "Epoch 4/100\n",
            "1719/1719 [==============================] - 10s 6ms/step - loss: 0.3485 - accuracy: 0.8731 - val_loss: 0.3606 - val_accuracy: 0.8728\n",
            "Epoch 5/100\n",
            "1719/1719 [==============================] - 9s 5ms/step - loss: 0.3220 - accuracy: 0.8841 - val_loss: 0.3273 - val_accuracy: 0.8788\n",
            "Epoch 6/100\n",
            "1719/1719 [==============================] - 10s 6ms/step - loss: 0.3008 - accuracy: 0.8911 - val_loss: 0.3137 - val_accuracy: 0.8890\n",
            "Epoch 7/100\n",
            "1719/1719 [==============================] - 8s 4ms/step - loss: 0.2836 - accuracy: 0.8968 - val_loss: 0.3109 - val_accuracy: 0.8876\n",
            "Epoch 8/100\n",
            "1719/1719 [==============================] - 8s 5ms/step - loss: 0.2679 - accuracy: 0.9024 - val_loss: 0.2940 - val_accuracy: 0.8952\n",
            "Epoch 9/100\n",
            "1719/1719 [==============================] - 8s 5ms/step - loss: 0.2543 - accuracy: 0.9062 - val_loss: 0.3089 - val_accuracy: 0.8948\n",
            "Epoch 10/100\n",
            "1719/1719 [==============================] - 8s 5ms/step - loss: 0.2427 - accuracy: 0.9102 - val_loss: 0.2860 - val_accuracy: 0.8942\n",
            "Epoch 11/100\n",
            "1719/1719 [==============================] - 8s 5ms/step - loss: 0.2303 - accuracy: 0.9149 - val_loss: 0.2870 - val_accuracy: 0.8946\n",
            "Epoch 12/100\n",
            "1719/1719 [==============================] - 7s 4ms/step - loss: 0.2206 - accuracy: 0.9183 - val_loss: 0.2843 - val_accuracy: 0.8970\n",
            "Epoch 13/100\n",
            "1719/1719 [==============================] - 8s 5ms/step - loss: 0.2102 - accuracy: 0.9235 - val_loss: 0.2553 - val_accuracy: 0.9034\n",
            "Epoch 14/100\n",
            "1719/1719 [==============================] - 8s 5ms/step - loss: 0.2005 - accuracy: 0.9264 - val_loss: 0.2605 - val_accuracy: 0.9032\n",
            "Epoch 15/100\n",
            "1719/1719 [==============================] - 8s 4ms/step - loss: 0.1915 - accuracy: 0.9292 - val_loss: 0.2695 - val_accuracy: 0.9006\n",
            "Epoch 16/100\n",
            "1719/1719 [==============================] - 8s 5ms/step - loss: 0.1824 - accuracy: 0.9334 - val_loss: 0.2570 - val_accuracy: 0.9054\n",
            "Epoch 17/100\n",
            "1719/1719 [==============================] - 8s 5ms/step - loss: 0.1749 - accuracy: 0.9350 - val_loss: 0.2848 - val_accuracy: 0.8974\n",
            "Epoch 18/100\n",
            "1719/1719 [==============================] - 8s 4ms/step - loss: 0.1667 - accuracy: 0.9392 - val_loss: 0.2575 - val_accuracy: 0.9096\n",
            "Epoch 19/100\n",
            "1719/1719 [==============================] - 12s 7ms/step - loss: 0.1573 - accuracy: 0.9418 - val_loss: 0.2525 - val_accuracy: 0.9106\n",
            "Epoch 20/100\n",
            "1719/1719 [==============================] - 8s 5ms/step - loss: 0.1506 - accuracy: 0.9451 - val_loss: 0.2689 - val_accuracy: 0.9058\n",
            "Epoch 21/100\n",
            "1719/1719 [==============================] - 8s 5ms/step - loss: 0.1421 - accuracy: 0.9488 - val_loss: 0.2571 - val_accuracy: 0.9084\n",
            "Epoch 22/100\n",
            "1719/1719 [==============================] - 8s 5ms/step - loss: 0.1349 - accuracy: 0.9504 - val_loss: 0.2642 - val_accuracy: 0.9090\n",
            "Epoch 23/100\n",
            "1719/1719 [==============================] - 8s 5ms/step - loss: 0.1281 - accuracy: 0.9533 - val_loss: 0.2453 - val_accuracy: 0.9140\n",
            "Epoch 24/100\n",
            "1719/1719 [==============================] - 7s 4ms/step - loss: 0.1219 - accuracy: 0.9558 - val_loss: 0.2506 - val_accuracy: 0.9156\n",
            "Epoch 25/100\n",
            "1719/1719 [==============================] - 8s 5ms/step - loss: 0.1154 - accuracy: 0.9578 - val_loss: 0.2677 - val_accuracy: 0.9046\n",
            "Epoch 26/100\n",
            "1719/1719 [==============================] - 8s 5ms/step - loss: 0.1071 - accuracy: 0.9608 - val_loss: 0.2680 - val_accuracy: 0.9116\n",
            "Epoch 27/100\n",
            "1719/1719 [==============================] - 8s 4ms/step - loss: 0.1008 - accuracy: 0.9636 - val_loss: 0.2730 - val_accuracy: 0.9082\n",
            "Epoch 28/100\n",
            "1719/1719 [==============================] - 8s 5ms/step - loss: 0.0973 - accuracy: 0.9641 - val_loss: 0.2741 - val_accuracy: 0.9054\n",
            "Epoch 29/100\n",
            "1719/1719 [==============================] - 7s 4ms/step - loss: 0.0894 - accuracy: 0.9682 - val_loss: 0.2735 - val_accuracy: 0.9180\n",
            "Epoch 30/100\n",
            "1719/1719 [==============================] - 8s 5ms/step - loss: 0.0846 - accuracy: 0.9699 - val_loss: 0.2669 - val_accuracy: 0.9172\n",
            "Epoch 31/100\n",
            "1719/1719 [==============================] - 8s 5ms/step - loss: 0.0783 - accuracy: 0.9723 - val_loss: 0.2779 - val_accuracy: 0.9118\n",
            "Epoch 32/100\n",
            "1719/1719 [==============================] - 8s 4ms/step - loss: 0.0741 - accuracy: 0.9738 - val_loss: 0.3042 - val_accuracy: 0.9110\n",
            "Epoch 33/100\n",
            "1719/1719 [==============================] - 9s 5ms/step - loss: 0.0694 - accuracy: 0.9752 - val_loss: 0.3060 - val_accuracy: 0.9104\n"
          ]
        }
      ],
      "source": [
        "keras.backend.clear_session()\n",
        "\n",
        "input_ = keras.layers.Input(shape=(X_train.shape[1:]))\n",
        "conv1 = keras.layers.Conv2D(filters=32, kernel_size=(3, 3), padding='same', activation='relu')(input_)\n",
        "conv2 = keras.layers.Conv2D(filters=32, kernel_size=(3, 3), padding='same', activation='relu')(conv1)\n",
        "pool1 = keras.layers.MaxPooling2D(pool_size=(2, 2))(conv2)\n",
        "\n",
        "flatten = keras.layers.Flatten()(pool1)\n",
        "hidden1 = keras.layers.Dense(256, activation=\"relu\")(flatten)\n",
        "output = keras.layers.Dense(10, activation=\"softmax\")(hidden1)\n",
        "\n",
        "model_1 = keras.models.Model(inputs=[input_], outputs=[output])\n",
        "\n",
        "model_1.compile(loss=\"sparse_categorical_crossentropy\",\n",
        "              optimizer=\"sgd\",\n",
        "              metrics=[\"accuracy\"])\n",
        "\n",
        "early_stopping_cb=keras.callbacks.EarlyStopping(monitor='val_loss',patience=10,restore_best_weights=True)\n",
        "\n",
        "\n",
        "epochs = 100\n",
        "batch_size = 32\n",
        "\n",
        "history = model_1.fit(X_train, y_train, epochs=epochs,batch_size=batch_size,\n",
        "                    validation_data=(X_valid, y_valid),callbacks=[early_stopping_cb])"
      ],
      "id": "cCoME1-roj8j"
    },
    {
      "cell_type": "code",
      "source": [
        "accuracy = model_1.evaluate(X_valid, y_valid)[1]\n",
        "\n",
        "print(\"Accuracy en Validación: \", accuracy)"
      ],
      "metadata": {
        "colab": {
          "base_uri": "https://localhost:8080/"
        },
        "id": "JkTRcH4Dg7vd",
        "outputId": "fe95339c-0906-451a-d460-6f4fd261539b"
      },
      "id": "JkTRcH4Dg7vd",
      "execution_count": null,
      "outputs": [
        {
          "output_type": "stream",
          "name": "stdout",
          "text": [
            "157/157 [==============================] - 0s 3ms/step - loss: 0.2453 - accuracy: 0.9140\n",
            "Accuracy en Validación:  0.9139999747276306\n"
          ]
        }
      ]
    },
    {
      "cell_type": "markdown",
      "metadata": {
        "id": "Hqhvgkbqp3uo"
      },
      "source": [
        "No mejoró mucho, de hecho dio un poquito peor (no es significativo el número, pero bueno) meto otro maxpool y de paso cambio SGD por ADAM que en teoría funciona mejor"
      ],
      "id": "Hqhvgkbqp3uo"
    },
    {
      "cell_type": "code",
      "execution_count": null,
      "metadata": {
        "colab": {
          "base_uri": "https://localhost:8080/"
        },
        "id": "Tx90-Ebsm72w",
        "outputId": "b8b80a20-e07f-481c-b978-424ad676ad9f"
      },
      "outputs": [
        {
          "output_type": "stream",
          "name": "stdout",
          "text": [
            "Model: \"model\"\n",
            "_________________________________________________________________\n",
            " Layer (type)                Output Shape              Param #   \n",
            "=================================================================\n",
            " input_1 (InputLayer)        [(None, 28, 28, 1)]       0         \n",
            "                                                                 \n",
            " conv2d (Conv2D)             (None, 28, 28, 16)        416       \n",
            "                                                                 \n",
            " max_pooling2d (MaxPooling2  (None, 14, 14, 16)        0         \n",
            " D)                                                              \n",
            "                                                                 \n",
            " conv2d_1 (Conv2D)           (None, 10, 10, 32)        12832     \n",
            "                                                                 \n",
            " max_pooling2d_1 (MaxPoolin  (None, 5, 5, 32)          0         \n",
            " g2D)                                                            \n",
            "                                                                 \n",
            " flatten (Flatten)           (None, 800)               0         \n",
            "                                                                 \n",
            " dense (Dense)               (None, 256)               205056    \n",
            "                                                                 \n",
            " dense_1 (Dense)             (None, 10)                2570      \n",
            "                                                                 \n",
            "=================================================================\n",
            "Total params: 220874 (862.79 KB)\n",
            "Trainable params: 220874 (862.79 KB)\n",
            "Non-trainable params: 0 (0.00 Byte)\n",
            "_________________________________________________________________\n"
          ]
        }
      ],
      "source": [
        "keras.backend.clear_session()\n",
        "\n",
        "input_ = keras.layers.Input(shape=(X_train.shape[1:])) #En este caso es necesario definir el Layer de Inputs\n",
        "\n",
        "conv1 = keras.layers.Conv2D(filters=16, kernel_size=(5, 5), padding='same', activation='relu')(input_)\n",
        "pool1 = keras.layers.MaxPooling2D(pool_size=(2, 2))(conv1)\n",
        "\n",
        "conv2 = keras.layers.Conv2D(filters=32, kernel_size=(5, 5), padding='valid', activation='relu')(pool1)\n",
        "pool2 = keras.layers.MaxPooling2D(pool_size=(2, 2))(conv2)\n",
        "\n",
        "flatten = keras.layers.Flatten()(pool2)\n",
        "\n",
        "hidden1 = keras.layers.Dense(256, activation=\"relu\")(flatten)\n",
        "output = keras.layers.Dense(10, activation=\"softmax\")(hidden1)\n",
        "model_3 = keras.models.Model(inputs=[input_], outputs=[output])\n",
        "\n",
        "early_stopping_cb=keras.callbacks.EarlyStopping(monitor='val_loss',patience=10,restore_best_weights=True)\n",
        "\n",
        "epochs = 100\n",
        "batch_size = 32\n",
        "\n",
        "model_3.compile(loss=\"sparse_categorical_crossentropy\",\n",
        "              optimizer=\"adam\",\n",
        "              metrics=[\"accuracy\"])\n",
        "\n",
        "model_3.summary()\n"
      ],
      "id": "Tx90-Ebsm72w"
    },
    {
      "cell_type": "code",
      "execution_count": null,
      "metadata": {
        "colab": {
          "base_uri": "https://localhost:8080/"
        },
        "id": "HMyC8M0A2020",
        "outputId": "517fe3af-7d70-4387-a7f9-6edadb17b1c6"
      },
      "outputs": [
        {
          "output_type": "stream",
          "name": "stdout",
          "text": [
            "Epoch 1/100\n",
            "1719/1719 [==============================] - 9s 4ms/step - loss: 0.4655 - accuracy: 0.8325 - val_loss: 0.3181 - val_accuracy: 0.8832\n",
            "Epoch 2/100\n",
            "1719/1719 [==============================] - 10s 6ms/step - loss: 0.3040 - accuracy: 0.8898 - val_loss: 0.3041 - val_accuracy: 0.8854\n",
            "Epoch 3/100\n",
            "1719/1719 [==============================] - 9s 5ms/step - loss: 0.2587 - accuracy: 0.9036 - val_loss: 0.2592 - val_accuracy: 0.9044\n",
            "Epoch 4/100\n",
            "1719/1719 [==============================] - 7s 4ms/step - loss: 0.2254 - accuracy: 0.9175 - val_loss: 0.2523 - val_accuracy: 0.9086\n",
            "Epoch 5/100\n",
            "1719/1719 [==============================] - 8s 5ms/step - loss: 0.1995 - accuracy: 0.9263 - val_loss: 0.2536 - val_accuracy: 0.9040\n",
            "Epoch 6/100\n",
            "1719/1719 [==============================] - 11s 6ms/step - loss: 0.1768 - accuracy: 0.9337 - val_loss: 0.2438 - val_accuracy: 0.9128\n",
            "Epoch 7/100\n",
            "1719/1719 [==============================] - 11s 6ms/step - loss: 0.1580 - accuracy: 0.9416 - val_loss: 0.2434 - val_accuracy: 0.9136\n",
            "Epoch 8/100\n",
            "1719/1719 [==============================] - 9s 5ms/step - loss: 0.1392 - accuracy: 0.9467 - val_loss: 0.2528 - val_accuracy: 0.9142\n",
            "Epoch 9/100\n",
            "1719/1719 [==============================] - 9s 5ms/step - loss: 0.1225 - accuracy: 0.9541 - val_loss: 0.2650 - val_accuracy: 0.9170\n",
            "Epoch 10/100\n",
            "1719/1719 [==============================] - 8s 5ms/step - loss: 0.1081 - accuracy: 0.9596 - val_loss: 0.2823 - val_accuracy: 0.9132\n",
            "Epoch 11/100\n",
            "1719/1719 [==============================] - 9s 5ms/step - loss: 0.0977 - accuracy: 0.9629 - val_loss: 0.3057 - val_accuracy: 0.9110\n",
            "Epoch 12/100\n",
            "1719/1719 [==============================] - 8s 4ms/step - loss: 0.0863 - accuracy: 0.9670 - val_loss: 0.3692 - val_accuracy: 0.9090\n",
            "Epoch 13/100\n",
            "1719/1719 [==============================] - 10s 6ms/step - loss: 0.0752 - accuracy: 0.9717 - val_loss: 0.3347 - val_accuracy: 0.9202\n",
            "Epoch 14/100\n",
            "1719/1719 [==============================] - 7s 4ms/step - loss: 0.0703 - accuracy: 0.9731 - val_loss: 0.3534 - val_accuracy: 0.9148\n",
            "Epoch 15/100\n",
            "1719/1719 [==============================] - 8s 5ms/step - loss: 0.0598 - accuracy: 0.9775 - val_loss: 0.3922 - val_accuracy: 0.9144\n",
            "Epoch 16/100\n",
            "1719/1719 [==============================] - 8s 5ms/step - loss: 0.0566 - accuracy: 0.9786 - val_loss: 0.3933 - val_accuracy: 0.9110\n",
            "Epoch 17/100\n",
            "1719/1719 [==============================] - 7s 4ms/step - loss: 0.0495 - accuracy: 0.9815 - val_loss: 0.4447 - val_accuracy: 0.9120\n"
          ]
        }
      ],
      "source": [
        "history = model_3.fit(X_train, y_train, epochs=epochs,batch_size=batch_size,\n",
        "                    validation_data=(X_valid, y_valid),callbacks=[early_stopping_cb])"
      ],
      "id": "HMyC8M0A2020"
    },
    {
      "cell_type": "code",
      "source": [
        "accuracy = model_3.evaluate(X_valid, y_valid)[1]\n",
        "\n",
        "print(\"Accuracy en Validación: \", accuracy)"
      ],
      "metadata": {
        "colab": {
          "base_uri": "https://localhost:8080/"
        },
        "id": "gWYhGmkUjPLI",
        "outputId": "6585dc05-08f5-4558-b1b7-d287a249bafb"
      },
      "id": "gWYhGmkUjPLI",
      "execution_count": null,
      "outputs": [
        {
          "output_type": "stream",
          "name": "stdout",
          "text": [
            "157/157 [==============================] - 0s 3ms/step - loss: 0.2434 - accuracy: 0.9136\n",
            "Accuracy en Validación:  0.9136000275611877\n"
          ]
        }
      ]
    },
    {
      "cell_type": "markdown",
      "source": [
        "De nuevo, nada, solo hay un cambio en la cantidad de épocas en las que llega. Hice varias pruebas cambiando capas convolucionales (principalmente achicando tamaño de kernel por adentro y aumentando filtros), pero no hubo una mejora, incluso varias veces daba peor. Así que empecé a meter mano en las totalmente conectadas, ahí mejoró un toque:"
      ],
      "metadata": {
        "id": "lI_QqLA7leQ3"
      },
      "id": "lI_QqLA7leQ3"
    },
    {
      "cell_type": "code",
      "source": [
        "#paso a la api secuencial, me habia hartado de meter errores al poner y sacar capas\n",
        "\n",
        "from tensorflow.keras.models import Sequential\n",
        "from tensorflow.keras.layers import Conv2D, MaxPooling2D, Flatten, Dense, Dropout, BatchNormalization\n",
        "\n",
        "keras.backend.clear_session()\n",
        "\n",
        "# Crear un modelo secuencial\n",
        "model_X = Sequential()\n",
        "\n",
        "# Definir las capas del modelo\n",
        "model_X.add(Conv2D(filters=16, kernel_size=(5, 5), padding='same', activation='relu', input_shape=X_train.shape[1:]))\n",
        "model_X.add(MaxPooling2D(pool_size=(2, 2)))\n",
        "model_X.add(Conv2D(filters=32, kernel_size=(2, 2), padding='same', activation='relu'))\n",
        "model_X.add(MaxPooling2D(pool_size=(2, 2)))\n",
        "model_X.add(Flatten())\n",
        "model_X.add(Dropout(0.2))\n",
        "model_X.add(Dense(128, activation='relu'))\n",
        "model_X.add(Dropout(0.2))\n",
        "model_X.add(Dense(64, activation='relu'))\n",
        "model_X.add(Dropout(0.2))\n",
        "model_X.add(Dense(32, activation='relu'))\n",
        "model_X.add(Dense(10, activation='softmax'))\n",
        "\n",
        "# Compilar el modelo\n",
        "model_X.compile(loss='sparse_categorical_crossentropy',\n",
        "                optimizer='adam',\n",
        "                metrics=['accuracy'])\n",
        "\n",
        "# Resumen del modelo\n",
        "model_X.summary()\n"
      ],
      "metadata": {
        "colab": {
          "base_uri": "https://localhost:8080/"
        },
        "id": "3ywZZ-C9I808",
        "outputId": "5558ffda-e51b-4163-bd5b-562902204f28"
      },
      "id": "3ywZZ-C9I808",
      "execution_count": 3,
      "outputs": [
        {
          "output_type": "stream",
          "name": "stdout",
          "text": [
            "Model: \"sequential\"\n",
            "_________________________________________________________________\n",
            " Layer (type)                Output Shape              Param #   \n",
            "=================================================================\n",
            " conv2d (Conv2D)             (None, 28, 28, 16)        416       \n",
            "                                                                 \n",
            " max_pooling2d (MaxPooling2  (None, 14, 14, 16)        0         \n",
            " D)                                                              \n",
            "                                                                 \n",
            " conv2d_1 (Conv2D)           (None, 14, 14, 32)        2080      \n",
            "                                                                 \n",
            " max_pooling2d_1 (MaxPoolin  (None, 7, 7, 32)          0         \n",
            " g2D)                                                            \n",
            "                                                                 \n",
            " flatten (Flatten)           (None, 1568)              0         \n",
            "                                                                 \n",
            " dropout (Dropout)           (None, 1568)              0         \n",
            "                                                                 \n",
            " dense (Dense)               (None, 128)               200832    \n",
            "                                                                 \n",
            " dropout_1 (Dropout)         (None, 128)               0         \n",
            "                                                                 \n",
            " dense_1 (Dense)             (None, 64)                8256      \n",
            "                                                                 \n",
            " dropout_2 (Dropout)         (None, 64)                0         \n",
            "                                                                 \n",
            " dense_2 (Dense)             (None, 32)                2080      \n",
            "                                                                 \n",
            " dense_3 (Dense)             (None, 10)                330       \n",
            "                                                                 \n",
            "=================================================================\n",
            "Total params: 213994 (835.91 KB)\n",
            "Trainable params: 213994 (835.91 KB)\n",
            "Non-trainable params: 0 (0.00 Byte)\n",
            "_________________________________________________________________\n"
          ]
        }
      ]
    },
    {
      "cell_type": "code",
      "source": [
        "epochs = 100\n",
        "batch_size = 32\n",
        "\n",
        "early_stopping_cb=keras.callbacks.EarlyStopping(monitor='val_loss',patience=10,restore_best_weights=True)\n",
        "\n",
        "history = model_X.fit(X_train, y_train, epochs=epochs,batch_size=batch_size,\n",
        "                    validation_data=(X_valid, y_valid),callbacks=[early_stopping_cb])"
      ],
      "metadata": {
        "colab": {
          "base_uri": "https://localhost:8080/"
        },
        "id": "x_x_z3-zJic1",
        "outputId": "6ed3ac45-b898-49ef-890c-1505492be2ee"
      },
      "id": "x_x_z3-zJic1",
      "execution_count": 5,
      "outputs": [
        {
          "output_type": "stream",
          "name": "stdout",
          "text": [
            "Epoch 1/100\n",
            "1719/1719 [==============================] - 23s 6ms/step - loss: 0.5762 - accuracy: 0.7882 - val_loss: 0.3588 - val_accuracy: 0.8738\n",
            "Epoch 2/100\n",
            "1719/1719 [==============================] - 8s 5ms/step - loss: 0.3687 - accuracy: 0.8653 - val_loss: 0.2940 - val_accuracy: 0.8960\n",
            "Epoch 3/100\n",
            "1719/1719 [==============================] - 9s 5ms/step - loss: 0.3226 - accuracy: 0.8833 - val_loss: 0.2881 - val_accuracy: 0.8948\n",
            "Epoch 4/100\n",
            "1719/1719 [==============================] - 10s 6ms/step - loss: 0.2940 - accuracy: 0.8927 - val_loss: 0.2534 - val_accuracy: 0.9082\n",
            "Epoch 5/100\n",
            "1719/1719 [==============================] - 8s 5ms/step - loss: 0.2754 - accuracy: 0.8998 - val_loss: 0.2436 - val_accuracy: 0.9116\n",
            "Epoch 6/100\n",
            "1719/1719 [==============================] - 7s 4ms/step - loss: 0.2589 - accuracy: 0.9055 - val_loss: 0.2402 - val_accuracy: 0.9116\n",
            "Epoch 7/100\n",
            "1719/1719 [==============================] - 9s 5ms/step - loss: 0.2468 - accuracy: 0.9096 - val_loss: 0.2318 - val_accuracy: 0.9128\n",
            "Epoch 8/100\n",
            "1719/1719 [==============================] - 11s 6ms/step - loss: 0.2333 - accuracy: 0.9126 - val_loss: 0.2271 - val_accuracy: 0.9188\n",
            "Epoch 9/100\n",
            "1719/1719 [==============================] - 9s 5ms/step - loss: 0.2268 - accuracy: 0.9168 - val_loss: 0.2164 - val_accuracy: 0.9202\n",
            "Epoch 10/100\n",
            "1719/1719 [==============================] - 10s 6ms/step - loss: 0.2169 - accuracy: 0.9204 - val_loss: 0.2189 - val_accuracy: 0.9196\n",
            "Epoch 11/100\n",
            "1719/1719 [==============================] - 8s 5ms/step - loss: 0.2088 - accuracy: 0.9222 - val_loss: 0.2267 - val_accuracy: 0.9202\n",
            "Epoch 12/100\n",
            "1719/1719 [==============================] - 8s 5ms/step - loss: 0.2013 - accuracy: 0.9252 - val_loss: 0.2324 - val_accuracy: 0.9132\n",
            "Epoch 13/100\n",
            "1719/1719 [==============================] - 8s 5ms/step - loss: 0.1951 - accuracy: 0.9284 - val_loss: 0.2362 - val_accuracy: 0.9150\n",
            "Epoch 14/100\n",
            "1719/1719 [==============================] - 8s 5ms/step - loss: 0.1891 - accuracy: 0.9309 - val_loss: 0.2238 - val_accuracy: 0.9196\n",
            "Epoch 15/100\n",
            "1719/1719 [==============================] - 8s 5ms/step - loss: 0.1837 - accuracy: 0.9319 - val_loss: 0.2119 - val_accuracy: 0.9240\n",
            "Epoch 16/100\n",
            "1719/1719 [==============================] - 8s 5ms/step - loss: 0.1797 - accuracy: 0.9343 - val_loss: 0.2179 - val_accuracy: 0.9214\n",
            "Epoch 17/100\n",
            "1719/1719 [==============================] - 8s 5ms/step - loss: 0.1788 - accuracy: 0.9349 - val_loss: 0.2185 - val_accuracy: 0.9248\n",
            "Epoch 18/100\n",
            "1719/1719 [==============================] - 8s 5ms/step - loss: 0.1737 - accuracy: 0.9356 - val_loss: 0.2351 - val_accuracy: 0.9222\n",
            "Epoch 19/100\n",
            "1719/1719 [==============================] - 8s 4ms/step - loss: 0.1661 - accuracy: 0.9387 - val_loss: 0.2204 - val_accuracy: 0.9262\n",
            "Epoch 20/100\n",
            "1719/1719 [==============================] - 10s 6ms/step - loss: 0.1615 - accuracy: 0.9409 - val_loss: 0.2211 - val_accuracy: 0.9262\n",
            "Epoch 21/100\n",
            "1719/1719 [==============================] - 11s 6ms/step - loss: 0.1624 - accuracy: 0.9393 - val_loss: 0.2120 - val_accuracy: 0.9230\n",
            "Epoch 22/100\n",
            "1719/1719 [==============================] - 11s 6ms/step - loss: 0.1579 - accuracy: 0.9415 - val_loss: 0.2174 - val_accuracy: 0.9292\n",
            "Epoch 23/100\n",
            "1719/1719 [==============================] - 8s 5ms/step - loss: 0.1528 - accuracy: 0.9429 - val_loss: 0.2215 - val_accuracy: 0.9244\n",
            "Epoch 24/100\n",
            "1719/1719 [==============================] - 7s 4ms/step - loss: 0.1518 - accuracy: 0.9441 - val_loss: 0.2231 - val_accuracy: 0.9248\n",
            "Epoch 25/100\n",
            "1719/1719 [==============================] - 8s 5ms/step - loss: 0.1470 - accuracy: 0.9453 - val_loss: 0.2267 - val_accuracy: 0.9276\n"
          ]
        }
      ]
    },
    {
      "cell_type": "code",
      "source": [
        "accuracy = model_X.evaluate(X_valid, y_valid)[1]\n",
        "\n",
        "print(\"Accuracy en Validación: \", accuracy)"
      ],
      "metadata": {
        "colab": {
          "base_uri": "https://localhost:8080/"
        },
        "id": "CeLfhvMtNBpj",
        "outputId": "a6ff5b08-1592-4134-d606-5a93b713a85e"
      },
      "id": "CeLfhvMtNBpj",
      "execution_count": 6,
      "outputs": [
        {
          "output_type": "stream",
          "name": "stdout",
          "text": [
            "157/157 [==============================] - 0s 3ms/step - loss: 0.2119 - accuracy: 0.9240\n",
            "Accuracy en Validación:  0.9240000247955322\n"
          ]
        }
      ]
    },
    {
      "cell_type": "markdown",
      "source": [
        "Me conformo con esto. Agarro algunos modelos que mandaron al discord."
      ],
      "metadata": {
        "id": "eXz-m443WODj"
      },
      "id": "eXz-m443WODj"
    },
    {
      "cell_type": "code",
      "execution_count": 7,
      "metadata": {
        "id": "ue3R3-zKIwRb",
        "colab": {
          "base_uri": "https://localhost:8080/"
        },
        "outputId": "464e111f-5b68-478e-bcbe-c41248c57ede"
      },
      "outputs": [
        {
          "output_type": "stream",
          "name": "stdout",
          "text": [
            "Epoch 1/100\n",
            "1719/1719 [==============================] - 17s 8ms/step - loss: 0.5483 - accuracy: 0.8005 - val_loss: 0.3107 - val_accuracy: 0.8834\n",
            "Epoch 2/100\n",
            "1719/1719 [==============================] - 14s 8ms/step - loss: 0.3355 - accuracy: 0.8796 - val_loss: 0.2707 - val_accuracy: 0.8984\n",
            "Epoch 3/100\n",
            "1719/1719 [==============================] - 14s 8ms/step - loss: 0.2861 - accuracy: 0.8980 - val_loss: 0.2472 - val_accuracy: 0.9116\n",
            "Epoch 4/100\n",
            "1719/1719 [==============================] - 14s 8ms/step - loss: 0.2607 - accuracy: 0.9054 - val_loss: 0.2211 - val_accuracy: 0.9220\n",
            "Epoch 5/100\n",
            "1719/1719 [==============================] - 14s 8ms/step - loss: 0.2367 - accuracy: 0.9147 - val_loss: 0.2104 - val_accuracy: 0.9252\n",
            "Epoch 6/100\n",
            "1719/1719 [==============================] - 17s 10ms/step - loss: 0.2222 - accuracy: 0.9195 - val_loss: 0.2084 - val_accuracy: 0.9248\n",
            "Epoch 7/100\n",
            "1719/1719 [==============================] - 15s 8ms/step - loss: 0.2128 - accuracy: 0.9225 - val_loss: 0.1902 - val_accuracy: 0.9344\n",
            "Epoch 8/100\n",
            "1719/1719 [==============================] - 16s 9ms/step - loss: 0.1985 - accuracy: 0.9279 - val_loss: 0.2063 - val_accuracy: 0.9274\n",
            "Epoch 9/100\n",
            "1719/1719 [==============================] - 16s 9ms/step - loss: 0.1944 - accuracy: 0.9295 - val_loss: 0.1933 - val_accuracy: 0.9318\n",
            "Epoch 10/100\n",
            "1719/1719 [==============================] - 16s 9ms/step - loss: 0.1805 - accuracy: 0.9342 - val_loss: 0.1946 - val_accuracy: 0.9256\n",
            "Epoch 11/100\n",
            "1719/1719 [==============================] - 14s 8ms/step - loss: 0.1775 - accuracy: 0.9359 - val_loss: 0.1895 - val_accuracy: 0.9334\n",
            "Epoch 12/100\n",
            "1719/1719 [==============================] - 17s 10ms/step - loss: 0.1707 - accuracy: 0.9379 - val_loss: 0.1845 - val_accuracy: 0.9340\n",
            "Epoch 13/100\n",
            "1719/1719 [==============================] - 14s 8ms/step - loss: 0.1639 - accuracy: 0.9406 - val_loss: 0.1982 - val_accuracy: 0.9328\n",
            "Epoch 14/100\n",
            "1719/1719 [==============================] - 15s 8ms/step - loss: 0.1603 - accuracy: 0.9411 - val_loss: 0.1980 - val_accuracy: 0.9320\n",
            "Epoch 15/100\n",
            "1719/1719 [==============================] - 14s 8ms/step - loss: 0.1595 - accuracy: 0.9429 - val_loss: 0.1842 - val_accuracy: 0.9312\n",
            "Epoch 16/100\n",
            "1719/1719 [==============================] - 14s 8ms/step - loss: 0.1515 - accuracy: 0.9445 - val_loss: 0.1947 - val_accuracy: 0.9322\n",
            "Epoch 17/100\n",
            "1719/1719 [==============================] - 14s 8ms/step - loss: 0.1489 - accuracy: 0.9455 - val_loss: 0.2130 - val_accuracy: 0.9328\n",
            "Epoch 18/100\n",
            "1719/1719 [==============================] - 14s 8ms/step - loss: 0.1461 - accuracy: 0.9474 - val_loss: 0.1906 - val_accuracy: 0.9326\n",
            "Epoch 19/100\n",
            "1719/1719 [==============================] - 14s 8ms/step - loss: 0.1400 - accuracy: 0.9497 - val_loss: 0.1982 - val_accuracy: 0.9302\n",
            "Epoch 20/100\n",
            "1719/1719 [==============================] - 14s 8ms/step - loss: 0.1393 - accuracy: 0.9495 - val_loss: 0.2022 - val_accuracy: 0.9346\n",
            "Epoch 21/100\n",
            "1719/1719 [==============================] - 19s 11ms/step - loss: 0.1387 - accuracy: 0.9509 - val_loss: 0.2076 - val_accuracy: 0.9338\n",
            "Epoch 22/100\n",
            "1719/1719 [==============================] - 16s 9ms/step - loss: 0.1354 - accuracy: 0.9506 - val_loss: 0.2054 - val_accuracy: 0.9364\n",
            "Epoch 23/100\n",
            "1719/1719 [==============================] - 16s 9ms/step - loss: 0.1289 - accuracy: 0.9529 - val_loss: 0.2093 - val_accuracy: 0.9306\n",
            "Epoch 24/100\n",
            "1719/1719 [==============================] - 16s 9ms/step - loss: 0.1292 - accuracy: 0.9553 - val_loss: 0.2163 - val_accuracy: 0.9310\n",
            "Epoch 25/100\n",
            "1719/1719 [==============================] - 16s 9ms/step - loss: 0.1292 - accuracy: 0.9535 - val_loss: 0.2048 - val_accuracy: 0.9284\n",
            "157/157 [==============================] - 1s 4ms/step - loss: 0.1842 - accuracy: 0.9312\n",
            "Accuracy en Validación:  0.9312000274658203\n"
          ]
        }
      ],
      "source": [
        "#solución de Ariel O.\n",
        "\n",
        "input_ = keras.layers.Input(shape=(X_train.shape[1:])) #Define el Layer de Inputs\n",
        "\n",
        "conv1 = keras.layers.Conv2D(filters=64, kernel_size=(3, 3), padding='same', activation='relu')(input_)\n",
        "conv2 = keras.layers.Conv2D(filters=64, kernel_size=(3, 3), padding='valid', activation='relu')(conv1)\n",
        "\n",
        "pool2 = keras.layers.MaxPooling2D(pool_size=(2, 2))(conv2)\n",
        "#se pueden poner capas Dropout\n",
        "dropout2 = keras.layers.Dropout(0.2)(pool2)\n",
        "\n",
        "conv3 = keras.layers.Conv2D(filters=172, kernel_size=(3, 3), padding='same', activation='relu')(dropout2)\n",
        "conv4 = keras.layers.Conv2D(filters=172, kernel_size=(3, 3), padding='valid', activation='relu')(conv3)\n",
        "\n",
        "pool3 = keras.layers.MaxPooling2D(pool_size=(2, 2))(conv4)\n",
        "#se pueden poner capas Dropout\n",
        "dropout3 = keras.layers.Dropout(0.2)(pool3)\n",
        "\n",
        "#defino entrada a una red ANN\n",
        "flatten = keras.layers.Flatten()(dropout3)\n",
        "hidden1 = keras.layers.Dense(256, activation=\"relu\")(flatten)\n",
        "dropout4 = keras.layers.Dropout(0.5)(hidden1)\n",
        "hidden2 = keras.layers.Dense(128, activation=\"relu\")(dropout4)\n",
        "dropout5 = keras.layers.Dropout(0.2)(hidden2)\n",
        "output = keras.layers.Dense(10, activation=\"softmax\")(dropout5) # 10=cada clase resultado\n",
        "\n",
        "model_ariel = keras.models.Model(inputs=[input_], outputs=[output])\n",
        "\n",
        "\n",
        "model_ariel.compile(loss=\"sparse_categorical_crossentropy\",\n",
        "              optimizer=\"Adam\",\n",
        "              metrics=[\"accuracy\"])\n",
        "\n",
        "#No especifica estos valores, uso los que venia usando\n",
        "epochs = 100\n",
        "batch_size = 32\n",
        "\n",
        "early_stopping_cb=keras.callbacks.EarlyStopping(monitor='val_loss',patience=10,restore_best_weights=True)\n",
        "\n",
        "history = model_ariel.fit(X_train, y_train, epochs=epochs,batch_size=batch_size,\n",
        "                    validation_data=(X_valid, y_valid),callbacks=[early_stopping_cb])\n",
        "\n",
        "\n",
        "accuracy = model_ariel.evaluate(X_valid, y_valid)[1]\n",
        "\n",
        "print(\"Accuracy en Validación: \", accuracy)\n",
        "\n"
      ],
      "id": "ue3R3-zKIwRb"
    },
    {
      "cell_type": "markdown",
      "source": [
        "Bueno, viene ganando Ariel!, a ver otra"
      ],
      "metadata": {
        "id": "oWGmtrBxc6NR"
      },
      "id": "oWGmtrBxc6NR"
    },
    {
      "cell_type": "code",
      "source": [
        "#solución de Ezequiel92\n",
        "\n",
        "input_ = keras.layers.Input(shape=(X_train.shape[1:]))\n",
        "\n",
        "conv1 = keras.layers.Conv2D(filters=64, kernel_size=(4, 4), padding='same', activation='relu')(input_)\n",
        "batch1 = keras.layers.BatchNormalization()(conv1)\n",
        "conv2 = keras.layers.Conv2D(filters=64, kernel_size=(3, 3),  padding='valid',activation='relu')(batch1)\n",
        "\n",
        "pool1 = keras.layers.MaxPooling2D(pool_size=(2, 2))(conv2)\n",
        "dropout1 = keras.layers.Dropout(0.25)(pool1)\n",
        "\n",
        "flatten = keras.layers.Flatten()(dropout1)\n",
        "hidden1 = keras.layers.Dense(256, activation=\"relu\", kernel_regularizer=keras.regularizers.l2(0.001))(flatten)\n",
        "\n",
        "dropout2 = keras.layers.Dropout(0.5)(hidden1)\n",
        "output = keras.layers.Dense(10, activation=\"softmax\")(dropout2)\n",
        "\n",
        "model6_ezequiel = keras.models.Model(inputs=[input_], outputs=[output])\n",
        "\n",
        "model6_ezequiel.compile(loss=\"sparse_categorical_crossentropy\",\n",
        "              optimizer=\"Adam\",\n",
        "              metrics=[\"accuracy\"])\n",
        "\n",
        "\n",
        "#No especifica estos valores, uso los que venia usando\n",
        "epochs = 100\n",
        "batch_size = 32\n",
        "\n",
        "early_stopping_cb=keras.callbacks.EarlyStopping(monitor='val_loss',patience=10,restore_best_weights=True)\n",
        "\n",
        "history = model6_ezequiel.fit(X_train, y_train, epochs=epochs,batch_size=batch_size,\n",
        "                    validation_data=(X_valid, y_valid),callbacks=[early_stopping_cb])\n",
        "\n",
        "\n",
        "accuracy = model6_ezequiel.evaluate(X_valid, y_valid)[1]\n",
        "\n",
        "print(\"Accuracy en Validación: \", accuracy)\n",
        "\n"
      ],
      "metadata": {
        "colab": {
          "base_uri": "https://localhost:8080/"
        },
        "id": "hX0SyoY_Wp41",
        "outputId": "4ba0a368-e98f-4c91-ba85-7e876acfe47e"
      },
      "id": "hX0SyoY_Wp41",
      "execution_count": 8,
      "outputs": [
        {
          "output_type": "stream",
          "name": "stdout",
          "text": [
            "Epoch 1/100\n",
            "1719/1719 [==============================] - 15s 8ms/step - loss: 0.7508 - accuracy: 0.8333 - val_loss: 0.5420 - val_accuracy: 0.8942\n",
            "Epoch 2/100\n",
            "1719/1719 [==============================] - 12s 7ms/step - loss: 0.6109 - accuracy: 0.8776 - val_loss: 0.5130 - val_accuracy: 0.9092\n",
            "Epoch 3/100\n",
            "1719/1719 [==============================] - 11s 6ms/step - loss: 0.5893 - accuracy: 0.8863 - val_loss: 0.5368 - val_accuracy: 0.9042\n",
            "Epoch 4/100\n",
            "1719/1719 [==============================] - 11s 7ms/step - loss: 0.5684 - accuracy: 0.8927 - val_loss: 0.4966 - val_accuracy: 0.9152\n",
            "Epoch 5/100\n",
            "1719/1719 [==============================] - 11s 7ms/step - loss: 0.5565 - accuracy: 0.8958 - val_loss: 0.5030 - val_accuracy: 0.9160\n",
            "Epoch 6/100\n",
            "1719/1719 [==============================] - 11s 7ms/step - loss: 0.5441 - accuracy: 0.8984 - val_loss: 0.5073 - val_accuracy: 0.9144\n",
            "Epoch 7/100\n",
            "1719/1719 [==============================] - 12s 7ms/step - loss: 0.5401 - accuracy: 0.8999 - val_loss: 0.4762 - val_accuracy: 0.9194\n",
            "Epoch 8/100\n",
            "1719/1719 [==============================] - 11s 7ms/step - loss: 0.5334 - accuracy: 0.9021 - val_loss: 0.4933 - val_accuracy: 0.9160\n",
            "Epoch 9/100\n",
            "1719/1719 [==============================] - 11s 7ms/step - loss: 0.5257 - accuracy: 0.9044 - val_loss: 0.4951 - val_accuracy: 0.9176\n",
            "Epoch 10/100\n",
            "1719/1719 [==============================] - 11s 7ms/step - loss: 0.5255 - accuracy: 0.9042 - val_loss: 0.4871 - val_accuracy: 0.9190\n",
            "Epoch 11/100\n",
            "1719/1719 [==============================] - 14s 8ms/step - loss: 0.5210 - accuracy: 0.9069 - val_loss: 0.4791 - val_accuracy: 0.9154\n",
            "Epoch 12/100\n",
            "1719/1719 [==============================] - 12s 7ms/step - loss: 0.5227 - accuracy: 0.9067 - val_loss: 0.4680 - val_accuracy: 0.9242\n",
            "Epoch 13/100\n",
            "1719/1719 [==============================] - 12s 7ms/step - loss: 0.5227 - accuracy: 0.9087 - val_loss: 0.4787 - val_accuracy: 0.9198\n",
            "Epoch 14/100\n",
            "1719/1719 [==============================] - 13s 7ms/step - loss: 0.5163 - accuracy: 0.9084 - val_loss: 0.4791 - val_accuracy: 0.9180\n",
            "Epoch 15/100\n",
            "1719/1719 [==============================] - 13s 8ms/step - loss: 0.5143 - accuracy: 0.9093 - val_loss: 0.4780 - val_accuracy: 0.9246\n",
            "Epoch 16/100\n",
            "1719/1719 [==============================] - 12s 7ms/step - loss: 0.5195 - accuracy: 0.9103 - val_loss: 0.4718 - val_accuracy: 0.9246\n",
            "Epoch 17/100\n",
            "1719/1719 [==============================] - 12s 7ms/step - loss: 0.5156 - accuracy: 0.9112 - val_loss: 0.4795 - val_accuracy: 0.9190\n",
            "Epoch 18/100\n",
            "1719/1719 [==============================] - 12s 7ms/step - loss: 0.5132 - accuracy: 0.9119 - val_loss: 0.4702 - val_accuracy: 0.9232\n",
            "Epoch 19/100\n",
            "1719/1719 [==============================] - 11s 7ms/step - loss: 0.5052 - accuracy: 0.9139 - val_loss: 0.4710 - val_accuracy: 0.9202\n",
            "Epoch 20/100\n",
            "1719/1719 [==============================] - 11s 6ms/step - loss: 0.5135 - accuracy: 0.9120 - val_loss: 0.4836 - val_accuracy: 0.9222\n",
            "Epoch 21/100\n",
            "1719/1719 [==============================] - 12s 7ms/step - loss: 0.5108 - accuracy: 0.9140 - val_loss: 0.4960 - val_accuracy: 0.9214\n",
            "Epoch 22/100\n",
            "1719/1719 [==============================] - 12s 7ms/step - loss: 0.5076 - accuracy: 0.9154 - val_loss: 0.4819 - val_accuracy: 0.9246\n",
            "157/157 [==============================] - 1s 3ms/step - loss: 0.4680 - accuracy: 0.9242\n",
            "Accuracy en Validación:  0.9241999983787537\n"
          ]
        }
      ]
    },
    {
      "cell_type": "markdown",
      "source": [
        "Sigue arriba Ariel, siguiente!"
      ],
      "metadata": {
        "id": "ZuVWhRTcdQNB"
      },
      "id": "ZuVWhRTcdQNB"
    },
    {
      "cell_type": "code",
      "source": [
        "#solución de Claubress\n",
        "\n",
        "model_Claubress = tf.keras.models.Sequential([\n",
        "\n",
        "    tf.keras.layers.Conv2D(64, (3,3), padding='same', activation='relu', input_shape=(X_train.shape[1:])),\n",
        "    tf.keras.layers.MaxPooling2D(2, 2),\n",
        "\n",
        "    tf.keras.layers.Conv2D(64, (3,3), padding='valid', activation='relu'),\n",
        "    tf.keras.layers.MaxPooling2D(2,2),\n",
        "\n",
        "    tf.keras.layers.Dropout(0.5),\n",
        "\n",
        "    tf.keras.layers.Flatten(),\n",
        "    tf.keras.layers.Dense(512, activation='relu'),\n",
        "    tf.keras.layers.Dropout(0.5),\n",
        "    tf.keras.layers.Dense(512, activation='relu'),\n",
        "    tf.keras.layers.Dense(10, activation=\"softmax\")\n",
        "])\n",
        "\n",
        "\n",
        "model_Claubress.compile(loss=\"sparse_categorical_crossentropy\",\n",
        "              optimizer=\"Adam\",\n",
        "              metrics=[\"accuracy\"])\n",
        "\n",
        "#No especifica estos valores, uso los que venia usando\n",
        "epochs = 100\n",
        "batch_size = 32\n",
        "\n",
        "early_stopping_cb=keras.callbacks.EarlyStopping(monitor='val_loss',patience=10,restore_best_weights=True)\n",
        "\n",
        "history = model_Claubress.fit(X_train, y_train, epochs=epochs,batch_size=batch_size,\n",
        "                    validation_data=(X_valid, y_valid),callbacks=[early_stopping_cb])\n",
        "\n",
        "\n",
        "accuracy = model_Claubress.evaluate(X_valid, y_valid)[1]\n",
        "\n",
        "print(\"Accuracy en Validación: \", accuracy)\n",
        "\n"
      ],
      "metadata": {
        "colab": {
          "base_uri": "https://localhost:8080/"
        },
        "id": "pUu4aHgwXkrO",
        "outputId": "9e956598-d9ba-470a-cdf5-05d9d85bdd44"
      },
      "id": "pUu4aHgwXkrO",
      "execution_count": 9,
      "outputs": [
        {
          "output_type": "stream",
          "name": "stdout",
          "text": [
            "Epoch 1/100\n",
            "1719/1719 [==============================] - 10s 5ms/step - loss: 0.5015 - accuracy: 0.8129 - val_loss: 0.3061 - val_accuracy: 0.8882\n",
            "Epoch 2/100\n",
            "1719/1719 [==============================] - 10s 6ms/step - loss: 0.3488 - accuracy: 0.8706 - val_loss: 0.2803 - val_accuracy: 0.8958\n",
            "Epoch 3/100\n",
            "1719/1719 [==============================] - 9s 5ms/step - loss: 0.3112 - accuracy: 0.8850 - val_loss: 0.2476 - val_accuracy: 0.9058\n",
            "Epoch 4/100\n",
            "1719/1719 [==============================] - 8s 5ms/step - loss: 0.2883 - accuracy: 0.8928 - val_loss: 0.2288 - val_accuracy: 0.9118\n",
            "Epoch 5/100\n",
            "1719/1719 [==============================] - 8s 4ms/step - loss: 0.2716 - accuracy: 0.8987 - val_loss: 0.2267 - val_accuracy: 0.9140\n",
            "Epoch 6/100\n",
            "1719/1719 [==============================] - 8s 4ms/step - loss: 0.2616 - accuracy: 0.9022 - val_loss: 0.2190 - val_accuracy: 0.9202\n",
            "Epoch 7/100\n",
            "1719/1719 [==============================] - 8s 4ms/step - loss: 0.2479 - accuracy: 0.9082 - val_loss: 0.2143 - val_accuracy: 0.9188\n",
            "Epoch 8/100\n",
            "1719/1719 [==============================] - 8s 5ms/step - loss: 0.2359 - accuracy: 0.9121 - val_loss: 0.2112 - val_accuracy: 0.9210\n",
            "Epoch 9/100\n",
            "1719/1719 [==============================] - 8s 5ms/step - loss: 0.2335 - accuracy: 0.9127 - val_loss: 0.2164 - val_accuracy: 0.9164\n",
            "Epoch 10/100\n",
            "1719/1719 [==============================] - 9s 6ms/step - loss: 0.2185 - accuracy: 0.9181 - val_loss: 0.2110 - val_accuracy: 0.9216\n",
            "Epoch 11/100\n",
            "1719/1719 [==============================] - 8s 5ms/step - loss: 0.2169 - accuracy: 0.9196 - val_loss: 0.2025 - val_accuracy: 0.9252\n",
            "Epoch 12/100\n",
            "1719/1719 [==============================] - 9s 5ms/step - loss: 0.2112 - accuracy: 0.9195 - val_loss: 0.1994 - val_accuracy: 0.9300\n",
            "Epoch 13/100\n",
            "1719/1719 [==============================] - 8s 5ms/step - loss: 0.2079 - accuracy: 0.9231 - val_loss: 0.2172 - val_accuracy: 0.9170\n",
            "Epoch 14/100\n",
            "1719/1719 [==============================] - 8s 4ms/step - loss: 0.1992 - accuracy: 0.9246 - val_loss: 0.1989 - val_accuracy: 0.9304\n",
            "Epoch 15/100\n",
            "1719/1719 [==============================] - 8s 5ms/step - loss: 0.1983 - accuracy: 0.9249 - val_loss: 0.1892 - val_accuracy: 0.9322\n",
            "Epoch 16/100\n",
            "1719/1719 [==============================] - 8s 4ms/step - loss: 0.1928 - accuracy: 0.9276 - val_loss: 0.1955 - val_accuracy: 0.9320\n",
            "Epoch 17/100\n",
            "1719/1719 [==============================] - 7s 4ms/step - loss: 0.1921 - accuracy: 0.9284 - val_loss: 0.1969 - val_accuracy: 0.9296\n",
            "Epoch 18/100\n",
            "1719/1719 [==============================] - 8s 5ms/step - loss: 0.1887 - accuracy: 0.9289 - val_loss: 0.1969 - val_accuracy: 0.9300\n",
            "Epoch 19/100\n",
            "1719/1719 [==============================] - 8s 5ms/step - loss: 0.1836 - accuracy: 0.9316 - val_loss: 0.2042 - val_accuracy: 0.9276\n",
            "Epoch 20/100\n",
            "1719/1719 [==============================] - 7s 4ms/step - loss: 0.1809 - accuracy: 0.9327 - val_loss: 0.1903 - val_accuracy: 0.9310\n",
            "Epoch 21/100\n",
            "1719/1719 [==============================] - 9s 5ms/step - loss: 0.1797 - accuracy: 0.9329 - val_loss: 0.1890 - val_accuracy: 0.9294\n",
            "Epoch 22/100\n",
            "1719/1719 [==============================] - 9s 5ms/step - loss: 0.1756 - accuracy: 0.9342 - val_loss: 0.1890 - val_accuracy: 0.9312\n",
            "Epoch 23/100\n",
            "1719/1719 [==============================] - 8s 5ms/step - loss: 0.1753 - accuracy: 0.9361 - val_loss: 0.1928 - val_accuracy: 0.9300\n",
            "Epoch 24/100\n",
            "1719/1719 [==============================] - 8s 5ms/step - loss: 0.1733 - accuracy: 0.9355 - val_loss: 0.1925 - val_accuracy: 0.9280\n",
            "Epoch 25/100\n",
            "1719/1719 [==============================] - 8s 5ms/step - loss: 0.1676 - accuracy: 0.9374 - val_loss: 0.1984 - val_accuracy: 0.9318\n",
            "Epoch 26/100\n",
            "1719/1719 [==============================] - 8s 5ms/step - loss: 0.1725 - accuracy: 0.9359 - val_loss: 0.1973 - val_accuracy: 0.9288\n",
            "Epoch 27/100\n",
            "1719/1719 [==============================] - 8s 5ms/step - loss: 0.1666 - accuracy: 0.9383 - val_loss: 0.1991 - val_accuracy: 0.9318\n",
            "Epoch 28/100\n",
            "1719/1719 [==============================] - 8s 5ms/step - loss: 0.1653 - accuracy: 0.9387 - val_loss: 0.1925 - val_accuracy: 0.9298\n",
            "Epoch 29/100\n",
            "1719/1719 [==============================] - 8s 4ms/step - loss: 0.1627 - accuracy: 0.9391 - val_loss: 0.1970 - val_accuracy: 0.9318\n",
            "Epoch 30/100\n",
            "1719/1719 [==============================] - 8s 5ms/step - loss: 0.1600 - accuracy: 0.9405 - val_loss: 0.1852 - val_accuracy: 0.9336\n",
            "Epoch 31/100\n",
            "1719/1719 [==============================] - 8s 5ms/step - loss: 0.1596 - accuracy: 0.9401 - val_loss: 0.1953 - val_accuracy: 0.9300\n",
            "Epoch 32/100\n",
            "1719/1719 [==============================] - 7s 4ms/step - loss: 0.1606 - accuracy: 0.9403 - val_loss: 0.1912 - val_accuracy: 0.9350\n",
            "Epoch 33/100\n",
            "1719/1719 [==============================] - 8s 5ms/step - loss: 0.1552 - accuracy: 0.9428 - val_loss: 0.1953 - val_accuracy: 0.9296\n",
            "Epoch 34/100\n",
            "1719/1719 [==============================] - 8s 5ms/step - loss: 0.1572 - accuracy: 0.9412 - val_loss: 0.1900 - val_accuracy: 0.9328\n",
            "Epoch 35/100\n",
            "1719/1719 [==============================] - 8s 5ms/step - loss: 0.1511 - accuracy: 0.9435 - val_loss: 0.1935 - val_accuracy: 0.9298\n",
            "Epoch 36/100\n",
            "1719/1719 [==============================] - 8s 5ms/step - loss: 0.1521 - accuracy: 0.9444 - val_loss: 0.2062 - val_accuracy: 0.9296\n",
            "Epoch 37/100\n",
            "1719/1719 [==============================] - 8s 5ms/step - loss: 0.1518 - accuracy: 0.9449 - val_loss: 0.1937 - val_accuracy: 0.9318\n",
            "Epoch 38/100\n",
            "1719/1719 [==============================] - 8s 5ms/step - loss: 0.1498 - accuracy: 0.9438 - val_loss: 0.1930 - val_accuracy: 0.9350\n",
            "Epoch 39/100\n",
            "1719/1719 [==============================] - 8s 5ms/step - loss: 0.1484 - accuracy: 0.9444 - val_loss: 0.1914 - val_accuracy: 0.9332\n",
            "Epoch 40/100\n",
            "1719/1719 [==============================] - 8s 5ms/step - loss: 0.1500 - accuracy: 0.9457 - val_loss: 0.1879 - val_accuracy: 0.9320\n",
            "157/157 [==============================] - 0s 3ms/step - loss: 0.1852 - accuracy: 0.9336\n",
            "Accuracy en Validación:  0.9336000084877014\n"
          ]
        }
      ]
    },
    {
      "cell_type": "code",
      "source": [
        "'''\n",
        "Y SOBRE EL FINAL DE LA RECTA GANÓ CLAUDIO!!!\n",
        "\n",
        "Veamos como le da en test y esa es la solución\n",
        "\n",
        "Nota: En realidad si se quiere hacer una comparación mejor habría que correr varias veces, sacar un promedio, hacer un análisis más profundo, etc.\n",
        "Pero como primera aproximación está más que bien, vean el detalle del link de kaggle para tener idea\n",
        "'''\n",
        "\n",
        "accuracy_test = model_Claubress.evaluate(X_test, y_test)[1]\n",
        "print(\"Solución de AP:\", accuracy_test)"
      ],
      "metadata": {
        "colab": {
          "base_uri": "https://localhost:8080/"
        },
        "id": "BEOfNctjbqEn",
        "outputId": "cc96479f-f093-47eb-969d-93b6a03f48a7"
      },
      "id": "BEOfNctjbqEn",
      "execution_count": 10,
      "outputs": [
        {
          "output_type": "stream",
          "name": "stdout",
          "text": [
            "313/313 [==============================] - 1s 3ms/step - loss: 0.2113 - accuracy: 0.9243\n",
            "Solución de AP: 0.9243000149726868\n"
          ]
        }
      ]
    },
    {
      "cell_type": "markdown",
      "source": [
        "El objetivo era ganarle a la totalmente conectada y eso se cumplió (en las soluciones de redes totalmente conectadas para Fashion-MNIST de la semana anterior nunca se pudo pasar del ochenta y algo) el enunciado tambien mencionaba PCA, eso se me pasó y fue por pensar en las totalmente conectadas, pero no tiene sentido para CNN (o sea, se puede usar y pasarle una Conv1D, pero se pierde el chiste de una CNN).\n",
        "\n",
        "Me puse a buscar que onda LA MEJOR solución para este dataset y parece que la verdad que estamos todos ahí (no es como MNIST que con CNN se alcanza como 0.99 de precisión).\n",
        "\n",
        "Si quieren ver lo mejor que consiguieron en [KAGGLE](https://www.kaggle.com/code/pankssid/fashion-mnist-solution), interesante ver el análisis por clase y ver como algunas son más dificiles que otras.\n",
        "\n",
        "Extra: Si quieren ver una búsqueda de arquitectura realmente a conciencia vean a [este](https://www.kaggle.com/code/cdeotte/how-to-choose-cnn-architecture-mnist/notebook) enfermo sacarle hasta el último bit de jugo a MNIST.\n",
        "\n",
        "---\n",
        "\n",
        "Como comentario para los que mandaron una solución (y los demás ténganlo en cuenta también), recuerden que **NO ALCANZA** solo con la arquitectura, tienen que decir que optimizador usaron, si pusieron callback de early_stopping, el tamaño del batch, etcetc.\n",
        "\n",
        "---\n",
        "\n",
        "\n",
        "\n"
      ],
      "metadata": {
        "id": "EN3CvgYfO9DT"
      },
      "id": "EN3CvgYfO9DT"
    },
    {
      "cell_type": "code",
      "source": [],
      "metadata": {
        "id": "euPTsfhHfGYc"
      },
      "id": "euPTsfhHfGYc",
      "execution_count": null,
      "outputs": []
    }
  ],
  "metadata": {
    "accelerator": "GPU",
    "colab": {
      "provenance": [],
      "gpuType": "T4"
    },
    "kernelspec": {
      "display_name": "Python 3",
      "name": "python3"
    },
    "language_info": {
      "codemirror_mode": {
        "name": "ipython",
        "version": 3
      },
      "file_extension": ".py",
      "mimetype": "text/x-python",
      "name": "python",
      "nbconvert_exporter": "python",
      "pygments_lexer": "ipython3",
      "version": "3.8.13"
    },
    "toc-showcode": false,
    "vscode": {
      "interpreter": {
        "hash": "2b7aa682480b82eb27ca7b5ecfebdb0027bb2a276e6bdff64c1ddeab03557e9e"
      }
    }
  },
  "nbformat": 4,
  "nbformat_minor": 5
}