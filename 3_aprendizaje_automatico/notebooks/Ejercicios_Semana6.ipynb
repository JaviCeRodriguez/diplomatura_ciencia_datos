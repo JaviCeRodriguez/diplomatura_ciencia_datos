{
  "cells": [
    {
      "cell_type": "markdown",
      "id": "turkish-walker",
      "metadata": {
        "tags": [],
        "id": "turkish-walker"
      },
      "source": [
        "# Argentina programa 4.0 - Módulo 3: Aprendizaje Automático\n",
        "---\n",
        "# Ejercicios semana 3 - Redes Neuronales Artificiales\n"
      ]
    },
    {
      "cell_type": "markdown",
      "source": [
        "## Ejercicio 1\n",
        "\n",
        "Usemos el conjunto de datos fashion-MINST. Sigamos la misma arquitectura de la red que se ha usado durante la clase, pero probemos el efecto de modificar algunas configuraciones:\n",
        "* cambiar la regularización\n",
        "* cambiar la inicialización\n",
        "* añadir un callback para regular la tasa de aprendizaje del algoritmo SGD\n",
        "* cambiar el optimizador\n",
        "* implementar una programación de la tasa de aprendizaje\n",
        "\n",
        "¿Qué efectos tienen esos cambios en el desempeño final de la red? ¿Qué efectos esos cambios tienen en el tiempo de entrenamiento de la red? ¿Además de la exactitud, que otras métricas podría usar para evaluar el desempeño de la red? ¿Las conclusiones cambian cuando se utilizar otras metricas?"
      ],
      "metadata": {
        "id": "d_3Wg-NBpGJT"
      },
      "id": "d_3Wg-NBpGJT"
    },
    {
      "cell_type": "markdown",
      "source": [
        "## Ejercicio 2 - Combinación con otros métodos - PCA\n",
        "\n",
        "Aquí mantendremos nuevamente una red similar a la que vimos en y useremos el conjunto MNIST, pero la idea es ver el impacto de la reducción de dimensionalidad sobre los resultados.\n",
        "\n",
        "* Usar PCA (de `sklearn`) para reducir la dimensionalidad del conjunto de MNIST. Decidir una cantidad de componentes razonable, que guarde al menos el 90% de la varianza de los datos (recuérdense del notebook onde hemos hecho PCA con MNIST e incluso hemos visualizado el efecto de mantener N componentes).\n",
        "\n",
        "* Crear una red con una arquitectura similar a la que vimos en clase.\n",
        "\n",
        "* Usar la red para clasificar MNIST en su versión reducida.\n",
        "\n",
        "* Comparar la performance de la red que vimos en clase, entrenada sobre todo el conjunto, y la red entrenada sobre el conjunto reducido. Piensen antes: ¿tienen la misma cantidad de parámetros ambas redes? ¿es justo comparar modelos con número de parámetros muy diferentes?"
      ],
      "metadata": {
        "id": "U8ShqKeoohfT"
      },
      "id": "U8ShqKeoohfT"
    },
    {
      "cell_type": "code",
      "source": [],
      "metadata": {
        "id": "cCoME1-roj8j"
      },
      "id": "cCoME1-roj8j",
      "execution_count": null,
      "outputs": []
    }
  ],
  "metadata": {
    "kernelspec": {
      "display_name": "Python 3.8.13 ('tf-mac')",
      "language": "python",
      "name": "python3"
    },
    "language_info": {
      "codemirror_mode": {
        "name": "ipython",
        "version": 3
      },
      "file_extension": ".py",
      "mimetype": "text/x-python",
      "name": "python",
      "nbconvert_exporter": "python",
      "pygments_lexer": "ipython3",
      "version": "3.8.13"
    },
    "toc-showcode": false,
    "vscode": {
      "interpreter": {
        "hash": "2b7aa682480b82eb27ca7b5ecfebdb0027bb2a276e6bdff64c1ddeab03557e9e"
      }
    },
    "colab": {
      "provenance": []
    }
  },
  "nbformat": 4,
  "nbformat_minor": 5
}