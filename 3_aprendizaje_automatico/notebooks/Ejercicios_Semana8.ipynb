{
  "cells": [
    {
      "cell_type": "markdown",
      "id": "turkish-walker",
      "metadata": {
        "tags": [],
        "id": "turkish-walker"
      },
      "source": [
        "# Argentina programa 4.0 - Módulo 3: Aprendizaje Automático\n",
        "---\n",
        "# Ejercicios semana 8 - Autoencoders\n"
      ]
    },
    {
      "cell_type": "markdown",
      "source": [
        "## Fashion-MINST\n",
        "\n",
        "\n",
        "Al igual que la semana anterior, usen el conjunto de datos fashion-MINST. trayendo el el dataset desde `keras.datasets.fashion_mnist`:\n",
        "\n",
        "1.   Separen en train y test, normalicen, etcetc (hecho...)\n",
        "2.   Con el notebook de la clase de base hagan un autoencoder convolucional para estos datos y entrénenlo.\n",
        "3.   Predigan en test y Ploteen estas *predicciones* contra su versión original. ¿Se pierde alguna característica de las imágenes? ¿Cuáles?\n",
        "\n",
        "## Jugando en el espacio latente\n",
        "1.   Usen el encoder entrenado y generen el espacio latente del conjunto de test\n",
        "2.   Visualicen las imágenes de entrada junto a su representación en el espacio latente (elijan alguna dimensión que les guste, las representaciones en el espacio latente no tienen porque tener un sentido visual)\n",
        "3.   Agarren alguna imagen que les guste del conjunto de test, tomen su representación latente y cambienle un par de valores (sumándole 1 o 2 por ejemplo), pasenla por el decoder y vean la imagen que genera. Prueben varios valores a ver que sale, jueguen a ser diseñadores de ropa.\n",
        "4.   Generen 10 vectores al azar del espacio latente, pasenlos por el decoder y grafiquen a ver que sale. ¿Alguna parece ropa? No es tan fácil ser diseñadores así...\n",
        "\n",
        "## Anomalias\n",
        "1.   Bajen MNIST y, aprovechando que tienen las mismas dimensiones, pasen algunos números por el autoencoder entrenado y grafiquen las reconstrucciones. ¿Tienen sentido?\n",
        "2.   Calculen el error de reproducción de un elemento de test de Fashion MNIST y el error de reproducción de un número de MNIST, también podrian probar editar alguna imagen de ropa, pasarla por el autoencoder y comparar este error con el original."
      ],
      "metadata": {
        "id": "d_3Wg-NBpGJT"
      },
      "id": "d_3Wg-NBpGJT"
    },
    {
      "cell_type": "code",
      "source": [
        "import tensorflow as tf\n",
        "from tensorflow import keras\n",
        "\n",
        "#traemos test y train\n",
        "fashion_mnist = keras.datasets.fashion_mnist\n",
        "(X_train_full, y_train_full), (X_test, y_test) = fashion_mnist.load_data()\n",
        "\n",
        "#60k en train 10k en test\n",
        "X_train_full = X_train_full.reshape((60000, 28, 28, 1))\n",
        "X_test = X_test.reshape((10000, 28, 28, 1))\n",
        "\n",
        "#separamos train en validación, a mano\n",
        "X_valid, X_train = X_train_full[:5000], X_train_full[5000:]\n",
        "y_valid, y_train = y_train_full[:5000], y_train_full[5000:]\n",
        "\n",
        "X_valid = X_valid/255.0\n",
        "X_train = X_train/255.0\n",
        "X_test = X_test/255.0\n",
        "\n",
        "#....\n"
      ],
      "metadata": {
        "id": "ZrAr7W-Gp09e"
      },
      "id": "ZrAr7W-Gp09e",
      "execution_count": null,
      "outputs": []
    },
    {
      "cell_type": "code",
      "source": [],
      "metadata": {
        "id": "EtDlirLzz7ap"
      },
      "id": "EtDlirLzz7ap",
      "execution_count": null,
      "outputs": []
    }
  ],
  "metadata": {
    "kernelspec": {
      "display_name": "Python 3",
      "name": "python3"
    },
    "language_info": {
      "codemirror_mode": {
        "name": "ipython",
        "version": 3
      },
      "file_extension": ".py",
      "mimetype": "text/x-python",
      "name": "python",
      "nbconvert_exporter": "python",
      "pygments_lexer": "ipython3",
      "version": "3.8.13"
    },
    "toc-showcode": false,
    "vscode": {
      "interpreter": {
        "hash": "2b7aa682480b82eb27ca7b5ecfebdb0027bb2a276e6bdff64c1ddeab03557e9e"
      }
    },
    "colab": {
      "provenance": [],
      "gpuType": "T4"
    },
    "accelerator": "GPU"
  },
  "nbformat": 4,
  "nbformat_minor": 5
}