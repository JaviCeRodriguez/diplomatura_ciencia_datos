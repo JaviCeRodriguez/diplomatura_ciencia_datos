{
 "cells": [
  {
   "attachments": {},
   "cell_type": "markdown",
   "id": "turkish-walker",
   "metadata": {
    "tags": []
   },
   "source": [
    "# Ejercicios semana 1 - Árboles de Decisión"
   ]
  },
  {
   "attachments": {},
   "cell_type": "markdown",
   "id": "noted-rover",
   "metadata": {},
   "source": [
    "El objetivo de los ejercicios de esta semana es integrar lo que aprendimos de modelos de árboles de decisión en un caso donde la frontera de decisión es compleja."
   ]
  },
  {
   "cell_type": "markdown",
   "id": "ab125513",
   "metadata": {},
   "source": [
    "## Hagamos lunas"
   ]
  },
  {
   "cell_type": "code",
   "execution_count": null,
   "id": "59c5e9d9",
   "metadata": {},
   "outputs": [],
   "source": [
    "import numpy as np\n",
    "import matplotlib.pyplot as plt\n",
    "from sklearn.datasets import make_moons"
   ]
  },
  {
   "cell_type": "markdown",
   "id": "5b388e7e",
   "metadata": {},
   "source": [
    "Vamos a utilizar una función que nos va a acompañar durante las próximas clases. Esta función sirve para generar un dataset sintético más o menos complicado (pero en pocas dimensiones)"
   ]
  },
  {
   "cell_type": "code",
   "execution_count": null,
   "id": "00379aab",
   "metadata": {},
   "outputs": [],
   "source": [
    "X, t = make_moons(n_samples=200, noise=0.15, random_state=42)\n",
    "\n",
    "plt.scatter(X[:,0], X[:,1], c=t)"
   ]
  },
  {
   "cell_type": "markdown",
   "id": "3ea3970b",
   "metadata": {},
   "source": [
    "1. Entrenar un DecisionTreeClassifier con estos datos, usando como hiperparámetros valores elegidos a mano (cambien `max_depth` y dos hiperámetros más a elección)."
   ]
  },
  {
   "cell_type": "code",
   "execution_count": null,
   "id": "7f195451",
   "metadata": {},
   "outputs": [],
   "source": []
  },
  {
   "cell_type": "markdown",
   "id": "83bb4fb5",
   "metadata": {},
   "source": [
    "2. Evaluar el resultado con validación cruzada, usando como métrica la exactitud (accuracy)"
   ]
  },
  {
   "cell_type": "code",
   "execution_count": null,
   "id": "933be4f7",
   "metadata": {},
   "outputs": [],
   "source": []
  },
  {
   "cell_type": "markdown",
   "id": "e2c0b4c6",
   "metadata": {},
   "source": [
    "3. Usar GridSearchCV o RandomizedSearchCV para encontrar los mejores valores de los hiperparámetros elegidos (y `max_depth`). **Ayuda**: pueden usar `n_jobs=-1` para usar todos los procesadores que tengan disponibles."
   ]
  },
  {
   "cell_type": "code",
   "execution_count": null,
   "id": "d8ada03a",
   "metadata": {},
   "outputs": [],
   "source": []
  },
  {
   "cell_type": "markdown",
   "id": "dfa675a8",
   "metadata": {},
   "source": [
    "4. Impriman en pantalla el valor de los mejores parámetros y el valor del score para estos valores."
   ]
  },
  {
   "cell_type": "code",
   "execution_count": null,
   "id": "da62cbf6",
   "metadata": {},
   "outputs": [],
   "source": []
  },
  {
   "cell_type": "markdown",
   "id": "88821eca",
   "metadata": {},
   "source": [
    "5. Graficar la frontera de decisión usando el código `plot_decision_boundary` del notebook de las clases."
   ]
  },
  {
   "cell_type": "code",
   "execution_count": null,
   "id": "123bc020",
   "metadata": {},
   "outputs": [],
   "source": []
  },
  {
   "cell_type": "markdown",
   "id": "fe7816e1",
   "metadata": {},
   "source": [
    "6. Cambiar los valores del ruido y cantidad de puntos en la función que genera los datos y ver cómo cambia la calidad del estimador y el valor de los hiperparámetros óptimos."
   ]
  },
  {
   "cell_type": "code",
   "execution_count": null,
   "metadata": {},
   "outputs": [],
   "source": []
  }
 ],
 "metadata": {
  "kernelspec": {
   "display_name": "Python 3.8.13 ('tf-mac')",
   "language": "python",
   "name": "python3"
  },
  "language_info": {
   "codemirror_mode": {
    "name": "ipython",
    "version": 3
   },
   "file_extension": ".py",
   "mimetype": "text/x-python",
   "name": "python",
   "nbconvert_exporter": "python",
   "pygments_lexer": "ipython3",
   "version": "3.8.13"
  },
  "toc-showcode": false,
  "vscode": {
   "interpreter": {
    "hash": "2b7aa682480b82eb27ca7b5ecfebdb0027bb2a276e6bdff64c1ddeab03557e9e"
   }
  }
 },
 "nbformat": 4,
 "nbformat_minor": 5
}
