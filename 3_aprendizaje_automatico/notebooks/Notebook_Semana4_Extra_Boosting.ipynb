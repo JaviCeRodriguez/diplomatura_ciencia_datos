{
  "nbformat": 4,
  "nbformat_minor": 0,
  "metadata": {
    "colab": {
      "provenance": [],
      "collapsed_sections": [
        "eGZ-cAI2I4u7"
      ]
    },
    "kernelspec": {
      "name": "python3",
      "display_name": "Python 3"
    },
    "language_info": {
      "name": "python"
    }
  },
  "cells": [
    {
      "cell_type": "markdown",
      "source": [
        "# Más sobre Boosting | Extra Boosting\n",
        "\n",
        "En este notebook vamos a ejercitar las tareas de ajuste y optimización de hiperparámetros de XGBoost (Extreme Gradient Boosting). Como vimos en la clase anterior, XGBoost es una librería de código que nació en forma independiente de sklearn, y tiene su documentación aparte. Recomendamos ver la página del proyecto:\n",
        "\n",
        "XGBoost:\n",
        " - [Documentación:](https://xgboost.readthedocs.io/en/stable/index.html)\n",
        " - [Repositorio:](https://github.com/dmlc/xgboost)"
      ],
      "metadata": {
        "id": "otwK8MDh-aRo"
      }
    },
    {
      "cell_type": "code",
      "source": [
        "# @title Celdas preparatorias (imports + funciones plots)\n",
        "import numpy as np\n",
        "import matplotlib.pyplot as plt\n",
        "from matplotlib.colors import ListedColormap\n",
        "from scipy.stats import norm, multivariate_normal\n",
        "\n",
        "#Ahora las funciones utiles de sklearn para preprocesar datos y armar un pipeline\n",
        "from sklearn.pipeline import Pipeline\n",
        "import sklearn.preprocessing as pp\n",
        "\n",
        "from sklearn.model_selection import train_test_split\n",
        "from sklearn import metrics\n",
        "from sklearn.metrics import accuracy_score, mean_squared_error\n",
        "\n",
        "from sklearn.linear_model import LogisticRegression\n",
        "from sklearn.svm import SVC\n",
        "\n",
        "# Las estrellas de este notebook\n",
        "from sklearn.naive_bayes import GaussianNB, MultinomialNB, BernoulliNB\n",
        "from sklearn.tree import DecisionTreeClassifier, DecisionTreeRegressor\n",
        "from sklearn import tree\n",
        "from sklearn.ensemble import BaggingClassifier, RandomForestClassifier, AdaBoostClassifier, AdaBoostRegressor, GradientBoostingRegressor, GradientBoostingClassifier\n",
        "\n",
        "from sklearn import datasets\n",
        "\n",
        "from matplotlib.colors import ListedColormap\n",
        "\n",
        "def plot_decision_boundary(clf, X, y, axes=[-1.5, 2.45, -1, 1.5], alpha=0.5, contour=True):\n",
        "    x1s = np.linspace(axes[0], axes[1], 100)\n",
        "    x2s = np.linspace(axes[2], axes[3], 100)\n",
        "    x1, x2 = np.meshgrid(x1s, x2s)\n",
        "    X_new = np.c_[x1.ravel(), x2.ravel()]\n",
        "    y_pred = clf.predict(X_new).reshape(x1.shape)\n",
        "    custom_cmap = ListedColormap(['#fafab0','#9898ff','#a0faa0'])\n",
        "    plt.contourf(x1, x2, y_pred, alpha=0.3, cmap=custom_cmap)\n",
        "    if contour:\n",
        "        custom_cmap2 = ListedColormap(['#7d7d58','#4c4c7f','#507d50'])\n",
        "        plt.contour(x1, x2, y_pred, cmap=custom_cmap2, alpha=0.8)\n",
        "    plt.plot(X[:, 0][y==0], X[:, 1][y==0], \"yo\", alpha=alpha)\n",
        "    plt.plot(X[:, 0][y==1], X[:, 1][y==1], \"bs\", alpha=alpha)\n",
        "    plt.axis(axes)\n",
        "    plt.xlabel(r\"$x_1$\", fontsize=18)\n",
        "    plt.ylabel(r\"$x_2$\", fontsize=18, rotation=0)\n",
        "\n",
        "from mpl_toolkits.mplot3d import Axes3D\n",
        "\n",
        "def Trisurf(xname, yname, x, y, z, best_score, best_params):\n",
        "    # (xname, yname): the name of variables to be displayed for visualization\n",
        "    # (`x`,`y`): all the hyperparamters' datapoints on the search grid\n",
        "    # (`z`): the results of the evaluation metric the results of the evaluation metric over the datapoints\n",
        "    # (`best_score`, `best_params`): the Native XGBoost API's `k-fold cross-validation` function's outputs the minimum mae result and the corresponding datapoint of the hyperparameters\n",
        "    fig = plt.figure(figsize=(9, 9))\n",
        "    ax = fig.add_subplot(111, projection=\"3d\")\n",
        "    # Creating color map\n",
        "    my_cmap = plt.get_cmap('RdPu')\n",
        "\n",
        "    # Creating dot plot of the minimum\n",
        "    ## min_mae*1.01 to float it for the visualization purpose.\n",
        "    ax.scatter(best_params[0], best_params[1], best_score, color='red')\n",
        "    # Tri-Surface Plot\n",
        "    ax.plot_trisurf(x,y,z,cmap = my_cmap,\n",
        "                         linewidth = 0.2,\n",
        "                         antialiased = True,\n",
        "                         edgecolor = 'grey')\n",
        "    ax.set_xlabel(xname)\n",
        "    ax.set_ylabel(yname)\n",
        "    ax.set_zlabel('score')\n",
        "\n",
        "    # Write the Title\n",
        "    ax.set_title(\"Hyperparameters Performance Landscape (\"+str(xname) + ' & '+str(yname)+\")\")\n",
        "\n",
        "    # Download the figure as jpeg file.\n",
        "    figname = str(xname) + '_'+str(yname)\n",
        "    fig.savefig(str(figname) + '.jpg')\n",
        "\n",
        "def epoch_visual(metric, evals_result, title):\n",
        "    graph_title = str(title) + \"_XGBoost_\" + metric\n",
        "    train_error = evals_result[\"Train\"][metric]\n",
        "    test_error = evals_result[\"Test\"][metric]\n",
        "    fig = plt.style.use(\"ggplot\")\n",
        "\n",
        "    epochs = len(evals_result[\"Train\"][metric])\n",
        "    x_axis = range(0, epochs)\n",
        "    fig, ax = plt.subplots(figsize=(6,6))\n",
        "    ax.plot(x_axis, evals_result[\"Test\"][metric], label=\"Test\")\n",
        "    ax.plot(x_axis, evals_result[\"Train\"][metric], label=\"Train\")\n",
        "    ax.legend()\n",
        "\n",
        "    plt.xlabel(\"epochs\")\n",
        "    plt.ylabel(metric)\n",
        "    plt.title(graph_title)\n",
        "    plt.show()"
      ],
      "metadata": {
        "cellView": "form",
        "id": "PMAtH6dLkTVo"
      },
      "execution_count": null,
      "outputs": []
    },
    {
      "cell_type": "markdown",
      "source": [
        "# Primer tarea: Regresión\n",
        "\n",
        "## Predicción del valor de propiedades (California Housing Dataset 1990)\n",
        "\n",
        "Vamos a analizar ahora el dataset de casas de California, dataset clásico en ciencia de datos. Como recordatorio, acá van las variables de este dataset:\n",
        "\n",
        "### About this file\n",
        " 1. `longitude`: A measure of how far west a house is; a higher value is farther west\n",
        " 2. `latitude`: A measure of how far north a house is; a higher value is farther north\n",
        " 3. `housingMedianAge`: Median age of a house within a block; a lower number is a newer building\n",
        " 4. `totalRooms`: Total number of rooms within a block\n",
        " 5. `totalBedrooms`: Total number of bedrooms within a block\n",
        " 6. `population`: Total number of people residing within a block\n",
        " 7. `households`: Total number of households, a group of people residing within a home unit, for a block\n",
        " 8. `medianIncome`: Median income for households within a block of houses (measured in tens of thousands of US Dollars)\n",
        " 9. `medianHouseValue`: Median house value for households within a block (measured in US Dollars)\n",
        " 10. `oceanProximity`: Location of the house with respect to ocean/sea\n",
        "\n",
        "Referencia: [California Housing Data Set Description](https://developers.google.com/machine-learning/crash-course/california-housing-data-description)"
      ],
      "metadata": {
        "id": "iAHELLCzMdRP"
      }
    },
    {
      "cell_type": "markdown",
      "source": [
        "### Carguemos los datos"
      ],
      "metadata": {
        "id": "qG0snqcYI0nu"
      }
    },
    {
      "cell_type": "code",
      "source": [
        "# Conectar Drive a Colab\n",
        "from google.colab import drive\n",
        "import os\n",
        "\n",
        "# Montar drive\n",
        "drive.mount(\"/content/drive/\")\n",
        "# Cambiar directorio\n",
        "os.chdir('/content/drive/MyDrive/Colab Notebooks/Data/')"
      ],
      "metadata": {
        "id": "SXjFe8gaCayL"
      },
      "execution_count": null,
      "outputs": []
    },
    {
      "cell_type": "code",
      "source": [
        "import pandas as pd\n",
        "import numpy as np\n",
        "import pandas as pd\n",
        "import seaborn as sns\n",
        "import matplotlib.pyplot as plt\n",
        "\n",
        "california_housing = pd.read_csv('housing.zip', compression = 'zip')"
      ],
      "metadata": {
        "id": "Rnm7Yh7CCayL"
      },
      "execution_count": null,
      "outputs": []
    },
    {
      "cell_type": "markdown",
      "source": [
        "### Curación y masajeo de los datos (lo vimos la clase pasada)"
      ],
      "metadata": {
        "id": "eGZ-cAI2I4u7"
      }
    },
    {
      "cell_type": "markdown",
      "source": [
        "#### Curemos los datos\n",
        "\n",
        "La idea de esta parte del ejercicio es insistir en el concepto importante de curar o limpiar los datos. Identificar valores faltantes, outliers, variables redundantes entre sí, etc."
      ],
      "metadata": {
        "id": "9OmGgt7lI-hd"
      }
    },
    {
      "cell_type": "markdown",
      "source": [
        "#### Valores faltantes"
      ],
      "metadata": {
        "id": "lcI3PuA6JeKH"
      }
    },
    {
      "cell_type": "markdown",
      "source": [
        "Hay valores faltantes en la variable `total_bedrooms`. Podemos hacer dos cosas: 1) reemplazar los registros con valores faltantes (tirarlos = drop), o 2) reemplazar el valor faltante por la media (promedio). Acá yo elegí esto último."
      ],
      "metadata": {
        "id": "pwARGH8gIpQw"
      }
    },
    {
      "cell_type": "code",
      "source": [
        "california_housing['total_bedrooms'].fillna(california_housing['total_bedrooms'].mean(), inplace=True)"
      ],
      "metadata": {
        "id": "z2U8yEhwJCYj"
      },
      "execution_count": null,
      "outputs": []
    },
    {
      "cell_type": "markdown",
      "source": [
        "#### Codifiquemos variables categóricas"
      ],
      "metadata": {
        "id": "udkLRgg7JVEl"
      }
    },
    {
      "cell_type": "markdown",
      "source": [
        "Transformemos estas variables categóricas en numéricas:"
      ],
      "metadata": {
        "id": "93OMPpJ5JYtS"
      }
    },
    {
      "cell_type": "code",
      "source": [
        "# nuestras categorias de proximidad ahora son numeros\n",
        "def transformar_ocean_proximity(proximity):\n",
        "    if proximity == '<1H mar':\n",
        "        return 0\n",
        "    elif proximity == 'Tierra adentro':\n",
        "        return 1\n",
        "    elif proximity == 'Cerca mar':\n",
        "        return 2\n",
        "    elif proximity == 'Cerca bahía':\n",
        "        return 3\n",
        "    elif proximity == 'Isla':\n",
        "        return 4\n",
        "california_housing['ocean_proximity'] = california_housing['ocean_proximity'].apply(transformar_ocean_proximity)"
      ],
      "metadata": {
        "id": "wfFqGwSNJftz"
      },
      "execution_count": null,
      "outputs": []
    },
    {
      "cell_type": "markdown",
      "source": [
        "#### Removamos variables redundantes\n",
        "\n",
        "Creamos nuevas variables `average_rooms` y `average_bedrooms` que capturan los datos de `bedrooms`y `rooms` junto con los de población, y finalmente tiramos las variables `households`, `bedrooms` y `rooms`."
      ],
      "metadata": {
        "id": "laFK_YKQJmRU"
      }
    },
    {
      "cell_type": "code",
      "source": [
        "# hay una obvia correlación (alta) entre viviendas (households) y poblacion (population)\n",
        "# vamos a remover las viviendas\n",
        "california_housing.drop('households', axis=1, inplace=True)"
      ],
      "metadata": {
        "id": "4dZcZX6KQ0z-"
      },
      "execution_count": null,
      "outputs": []
    },
    {
      "cell_type": "code",
      "source": [
        "# y hay otra correlación (alta) entre número de ambientes por cuadra y número de habitaciones (para dormir) por cuadra\n",
        "\n",
        "# asi que las vamos a reemplazar por dos nuevas variables:\n",
        "# promedio de ambientes por población en la cuadra (block)\n",
        "# y promedio de habitaciones por población en la cuadra\n",
        "california_housing['average_rooms']    = california_housing['total_rooms'] / california_housing['population']\n",
        "california_housing['average_bedrooms'] = california_housing['total_bedrooms'] / california_housing['population']\n",
        "\n",
        "# asi que vamos a descartar estas variables\n",
        "california_housing.drop('total_rooms', axis = 1, inplace = True)\n",
        "california_housing.drop('total_bedrooms', axis = 1, inplace = True)\n"
      ],
      "metadata": {
        "id": "L9fTPO67RLuk"
      },
      "execution_count": null,
      "outputs": []
    },
    {
      "cell_type": "markdown",
      "source": [
        "#### Outliers\n",
        "\n",
        "Removemos outliers (`housing_median_age` y `median_house_value`)."
      ],
      "metadata": {
        "id": "2o2nSBSh1LlR"
      }
    },
    {
      "cell_type": "code",
      "source": [
        "california_housing = california_housing.loc[ california_housing['housing_median_age'] <52,:]"
      ],
      "metadata": {
        "id": "-DBsUovxjNk4"
      },
      "execution_count": null,
      "outputs": []
    },
    {
      "cell_type": "code",
      "source": [
        "california_housing = california_housing.loc[ california_housing['median_house_value']<500001,:]"
      ],
      "metadata": {
        "id": "fpJIB5MATtbH"
      },
      "execution_count": null,
      "outputs": []
    },
    {
      "cell_type": "markdown",
      "source": [
        "### Usemos los datos\n",
        "\n",
        "Carguemos nuestras variables (features: X) y nuestro valor target que queremos predecir (el valor de las casas: y)."
      ],
      "metadata": {
        "id": "WDiEUHasMwT-"
      }
    },
    {
      "cell_type": "code",
      "source": [
        "X = california_housing[['longitude', 'latitude', 'housing_median_age',\n",
        "                        'population', 'median_income', 'ocean_proximity',\n",
        "                        'average_rooms', 'average_bedrooms']]\n",
        "\n",
        "y = california_housing['median_house_value']"
      ],
      "metadata": {
        "id": "jv19CXDFCayQ"
      },
      "execution_count": null,
      "outputs": []
    },
    {
      "cell_type": "markdown",
      "source": [
        "Partimos el dataset en train + test"
      ],
      "metadata": {
        "id": "QBNBCOPFCayQ"
      }
    },
    {
      "cell_type": "code",
      "source": [
        "from sklearn.model_selection import train_test_split\n",
        "X_train, X_test, y_train, y_test = train_test_split(X, y, random_state=42)"
      ],
      "metadata": {
        "id": "qCMbTLzrCayR"
      },
      "execution_count": null,
      "outputs": []
    },
    {
      "cell_type": "code",
      "source": [
        "import xgboost as xgb\n",
        "# no ejecuta\n",
        "# esta es la manera \"sklearn\" de usar XGBoost\n",
        "ne = 300 # number of estimators\n",
        "xgb_reg = xgb.XGBRegressor(objective ='reg:squarederror', n_estimators = ne, otros_parametros....)\n",
        "xgb_reg.fit(...)\n",
        "# la pueden usar si quieren, pero en este notebook vamos a usar el modo nativo del paquete XGBoost"
      ],
      "metadata": {
        "id": "OorU5Ap5Eyuo"
      },
      "execution_count": null,
      "outputs": []
    },
    {
      "cell_type": "markdown",
      "source": [
        "#### XGBoost nativo\n",
        "\n",
        "Hay otra manera de usar XGBoost que no usa la manera *sklearn*. Tiene sus particularidades, pero puede dar beneficios.\n",
        "\n",
        "En particular XGBoost tiene su propia manera de cargar datos en `DMatrices`. En lugar de numpy arrays, o dataframes de pandas, tenemos tambien las DMatrices de XGBoost. Una DMatriz puede tener datos (X) y el target (t) -- que es el valor que queremos predecir (una etiqueta en clasificación; un valor en regresión). Las DMatrices están optimizadas para hacer uso más eficiente de memoria y para la velocidad durante el entrenamiento.\n",
        "\n",
        "Ver: [XGBoost DMatrix.](https://xgboost.readthedocs.io/en/latest/python/python_api.html#xgboost.DMatrix)\n",
        "\n",
        "A su vez, XGBoost tiene sus propios métodos para entrenar un modelo (`.train()`, que reemplaza a `fit()` de sklearn) y `.cv()`(cross-validation)"
      ],
      "metadata": {
        "id": "B80_kPUzUICj"
      }
    },
    {
      "cell_type": "code",
      "source": [
        "import xgboost as xgb\n",
        "\n",
        "# esta es la manera nativa de usar XGBoost\n",
        "\n",
        "# cargamos los datos en una DMatrix\n",
        "dmatrix  = xgb.DMatrix(data = X, label = y)        # todos los datos\n",
        "DM_train = xgb.DMatrix(X_train,  label = y_train)  # train\n",
        "DM_test  = xgb.DMatrix(X_test,   label = y_test)   # test"
      ],
      "metadata": {
        "id": "eBo2m3YaT1hh"
      },
      "execution_count": null,
      "outputs": []
    },
    {
      "cell_type": "code",
      "source": [
        "# @title Algunas funciones que vamos a usar\n",
        "\n",
        "# cross validation\n",
        "def cross_validation(param_dict, DM_train, metrics, num_boost_round, early_stopping_rounds):\n",
        "\n",
        "  cv_results = xgb.cv(\n",
        "      params = param_dict,\n",
        "      dtrain = DM_train,\n",
        "      num_boost_round = num_boost_round,\n",
        "      seed = 42, # seed for randomization\n",
        "      nfold = 5, # k of k-fold cross-validation\n",
        "      metrics = metrics,\n",
        "      early_stopping_rounds = early_stopping_rounds\n",
        "  )\n",
        "\n",
        "  return cv_results\n",
        "\n",
        "# performance train vs test (regresion)\n",
        "def performance_train_test_reg(params):\n",
        "\n",
        "  evals_result = {}\n",
        "  model = xgb.train(\n",
        "      params,\n",
        "      dtrain = DM_train,\n",
        "      num_boost_round = num_boost_round,\n",
        "      evals=[(DM_train, \"Train\"), (DM_test, \"Test\")],\n",
        "      early_stopping_rounds = early_stopping_rounds,\n",
        "      evals_result = evals_result\n",
        "  )\n",
        "  train_error = evals_result[\"Train\"][\"mae\"]\n",
        "  test_error = evals_result[\"Test\"][\"mae\"]\n",
        "  print(\"Mejor MAE: {:.4f} en {} iteraciones\".format(model.best_score, model.best_iteration+1))\n",
        "\n",
        "  return model, evals_result\n",
        "\n",
        "# performance train vs test (clasificacion)\n",
        "def performance_train_test_cla(params):\n",
        "\n",
        "  evals_result = {}\n",
        "  model = xgb.train(\n",
        "      params,\n",
        "      dtrain = DM_train,\n",
        "      num_boost_round = num_boost_round,\n",
        "      evals=[(DM_train, \"Train\"), (DM_test, \"Test\")],\n",
        "      early_stopping_rounds = early_stopping_rounds,\n",
        "      evals_result = evals_result\n",
        "  )\n",
        "  train_error = evals_result[\"Train\"][\"auc\"]\n",
        "  test_error = evals_result[\"Test\"][\"auc\"]\n",
        "  print(\"Mejor auc: {:.4f} en {} iteraciones\".format(model.best_score, model.best_iteration+1))\n",
        "\n",
        "  return model, evals_result\n",
        "\n",
        "\n",
        "# gridsearch cross-validation de a pares | regression\n",
        "def pair_wise_gridsearch_CV_reg(param1_name, param2_name, gridsearch_params):\n",
        "\n",
        "    min_mae = float(\"Inf\")\n",
        "    best_params = None\n",
        "\n",
        "    x = []\n",
        "    y = []\n",
        "    z = []\n",
        "    for param1, param2 in gridsearch_params:\n",
        "        # Update our parameter dictionary for the tuning\n",
        "        param_dict[param1_name] = param1\n",
        "        param_dict[param2_name] = param2\n",
        "        print(\"CV with {}={}, {}={}\".format(param1_name, param1,\n",
        "                             param2_name,\n",
        "                             param2))\n",
        "        # calculate cross_validation\n",
        "        cv_results = cross_validation(param_dict, DM_train, metrics={'mae'}, num_boost_round=1000, early_stopping_rounds=10)\n",
        "        mean_mae = cv_results['test-mae-mean'].min()\n",
        "        boost_rounds = cv_results['test-mae-mean'].argmin()\n",
        "\n",
        "        x.append(param1)\n",
        "        y.append(param2)\n",
        "        z.append(mean_mae)\n",
        "\n",
        "        print(\"\\tMAE {} en {} iteraciones\".format(mean_mae, boost_rounds))\n",
        "\n",
        "        if mean_mae < min_mae:\n",
        "            min_mae = mean_mae\n",
        "            best_params = (param1, param2)\n",
        "\n",
        "    return x, y, z, min_mae, best_params\n",
        "\n",
        "# gridsearch cross-validation de a pares | classification\n",
        "def pair_wise_gridsearch_CV_cla(param1_name, param2_name, gridsearch_params):\n",
        "\n",
        "    max_auc = 0.00\n",
        "    best_params = None\n",
        "\n",
        "    x = []\n",
        "    y = []\n",
        "    z = []\n",
        "    for param1, param2 in gridsearch_params:\n",
        "        # Update our parameter dictionary for the tuning\n",
        "        param_dict[param1_name] = param1\n",
        "        param_dict[param2_name] = param2\n",
        "        print(\"CV with {}={}, {}={}\".format(param1_name, param1,\n",
        "                             param2_name,\n",
        "                             param2))\n",
        "        # calculate cross_validation\n",
        "        cv_results = cross_validation(param_dict, DM_train, metrics={'auc'}, num_boost_round=1000, early_stopping_rounds=10)\n",
        "        mean_auc = cv_results['test-auc-mean'].max()\n",
        "        boost_rounds = cv_results['test-auc-mean'].argmin()\n",
        "\n",
        "        x.append(param1)\n",
        "        y.append(param2)\n",
        "        z.append(mean_auc)\n",
        "\n",
        "        print(\"\\tAUC {} en {} iteraciones\".format(mean_auc, boost_rounds))\n",
        "\n",
        "        if mean_auc > max_auc:\n",
        "            max_auc = mean_auc\n",
        "            best_params = (param1, param2)\n",
        "\n",
        "    return x, y, z, max_auc, best_params"
      ],
      "metadata": {
        "cellView": "form",
        "id": "TDbffBu0QvDz"
      },
      "execution_count": null,
      "outputs": []
    },
    {
      "cell_type": "code",
      "source": [
        "# cambiemos el runtime a GPU\n",
        "!/usr/local/cuda/bin/nvcc --version\n",
        "!nvidia-smi"
      ],
      "metadata": {
        "id": "MdwWQJzuMEeM"
      },
      "execution_count": null,
      "outputs": []
    },
    {
      "cell_type": "markdown",
      "source": [
        "### Diccionario de parámetros\n",
        "\n",
        "Este es nuestro diccionario de parámetros inicial. NO ESTÁ OPTIMIZADO!!! Tiene los valores por defecto que vienen con XGBoost, lo vamos a usar ahora para ver como es la performance de los modelos entrenados con estos hiperparámetros (sin optimizar), y para poder comparar luego con los hiperparámetros finales."
      ],
      "metadata": {
        "id": "LaxKWRweabT_"
      }
    },
    {
      "cell_type": "code",
      "source": [
        "# el diccionario de parámetros\n",
        "param_dict={\n",
        " 'objective': 'reg:squarederror', # fijo. nuestra función objetivo para regresion.\n",
        " 'eval_metric': 'mae', # fijo. nuestra metrica de evaluation\n",
        " 'max_depth': 2,\n",
        " 'subsample': 0.5,\n",
        " 'eta': 0.5, # learning rate\n",
        " 'min_child_weight': 2,\n",
        " 'colsample_bytree': 0.5,\n",
        " 'gamma': 2,\n",
        " 'reg_alpha': 2,\n",
        " 'reg_lambda': 2,\n",
        " #'tree_method': 'hist', # funciona con CPU\n",
        " 'gpu_id': 0,\n",
        " 'tree_method': 'gpu_hist', # exact, approx, hist (gpu_hist usa GPU pero es heuristico!)\n",
        " # ver https://xgboost.readthedocs.io/en/stable/gpu/index.html\n",
        " # ver https://xgboost.readthedocs.io/en/stable/treemethod.html\n",
        "}\n",
        "\n",
        "num_boost_round = 300     # n_estimators\n",
        "early_stopping_rounds = 10 # Validation error needs to decrease at least every early_stopping_rounds to continue training."
      ],
      "metadata": {
        "id": "2ey2IMzBQ4Ei"
      },
      "execution_count": null,
      "outputs": []
    },
    {
      "cell_type": "code",
      "source": [
        "pre_model, pre_evals_result = performance_train_test_reg(params = param_dict)"
      ],
      "metadata": {
        "id": "E7NRq_eEk0AB"
      },
      "execution_count": null,
      "outputs": []
    },
    {
      "cell_type": "code",
      "source": [
        "pre_best_performance = pre_model.best_score\n",
        "print(\"Minimum absolute error (MAE) previo a la optimización:\\n\", pre_best_performance)\n",
        "pasos = [\"Pre\"]\n",
        "min_maes = [pre_best_performance]"
      ],
      "metadata": {
        "id": "WLlyEs6yk5eb"
      },
      "execution_count": null,
      "outputs": []
    },
    {
      "cell_type": "code",
      "source": [
        "# curva de aprendizaje\n",
        "epoch_visual(\"mae\", evals_result = pre_evals_result, title=\"Pre Optimizacion\")"
      ],
      "metadata": {
        "id": "zhBv-tSmkvdR"
      },
      "execution_count": null,
      "outputs": []
    },
    {
      "cell_type": "markdown",
      "source": [
        "### Ahora vamos a ir optimizando parámetros de a pares\n",
        "\n",
        "Usando la función `pair_wise_gridsearch_CV` que está en el bloque anterior, vamos a ir tomando hiperparámetros de a pares y vamos a ir optimizando.\n",
        "\n"
      ],
      "metadata": {
        "id": "vL-LzOo4Yfry"
      }
    },
    {
      "cell_type": "markdown",
      "source": [
        "#### Primero: max_depth + eta (learning_rate)\n",
        "\n"
      ],
      "metadata": {
        "id": "5E-ZBqx6ZPrk"
      }
    },
    {
      "cell_type": "code",
      "source": [
        "# nuestra grilla de parámetros para este primer paso:\n",
        "pair_wise_gridsearch_params1 = [\n",
        "    (max_depth, eta)\n",
        "    for max_depth in range(3,10) # max_depth entre 3 -- 9\n",
        "    for eta in [i/10. for i in range(1, 10)] # eta entre 0.1 -- 0.9\n",
        "]"
      ],
      "metadata": {
        "id": "Bc_YXCBKS-13"
      },
      "execution_count": null,
      "outputs": []
    },
    {
      "cell_type": "markdown",
      "source": [
        "Y ahora llamamos a nuestra función `pair_wise_gridsearch_CV` que nos devuelve:\n",
        " - `x1` + `y1` que contienen todos los valores de los pares de estos hyperparametros en la grilla;\n",
        " - `z1` almacena el valor de la performance para cada par (`x1`, `y1`);\n",
        " - `min_mae1` almacena la mejor performance, el minimo de la funcion de perdida (loss function).\n",
        " - `best_params1` almacena el par de valores de los hiperparametros que dieron la mejor performance.\n",
        " - `min_mae1` + `best_params1` SON el resultado de esta optimización de a pares"
      ],
      "metadata": {
        "id": "F6pOEt4hZT1O"
      }
    },
    {
      "cell_type": "code",
      "source": [
        "x1, y1, z1, min_mae1, best_params1 = pair_wise_gridsearch_CV_reg('max_depth', 'eta', pair_wise_gridsearch_params1)"
      ],
      "metadata": {
        "id": "u2Mqtl6qY37b"
      },
      "execution_count": null,
      "outputs": []
    },
    {
      "cell_type": "code",
      "source": [
        "print(\"1 - Mejores valores para estos hiperparámetros:\", best_params1, \"MAE:\", min_mae1)"
      ],
      "metadata": {
        "id": "7gZdeFdncL1i"
      },
      "execution_count": null,
      "outputs": []
    },
    {
      "cell_type": "code",
      "source": [
        "Trisurf(\"max_depth\", 'eta', x1, y1, z1, min_mae1, best_params1)"
      ],
      "metadata": {
        "id": "1mqV_TMObEVH"
      },
      "execution_count": null,
      "outputs": []
    },
    {
      "cell_type": "code",
      "source": [
        "# y ahora actualizamos nuestro diccionario de parámetros\n",
        "param_dict[\"max_depth\"] = best_params1[0]\n",
        "param_dict[\"eta\"]       = best_params1[1]"
      ],
      "metadata": {
        "id": "ewftlkTBbdER"
      },
      "execution_count": null,
      "outputs": []
    },
    {
      "cell_type": "code",
      "source": [
        "param_dict[\"eta\"]"
      ],
      "metadata": {
        "id": "7w49cMaSaH-a"
      },
      "execution_count": null,
      "outputs": []
    },
    {
      "cell_type": "code",
      "source": [
        "model1, evals_result_1 = performance_train_test_reg(params = param_dict)\n",
        "pasos.append(\"Primero\")\n",
        "min_maes.append(model1.best_score)"
      ],
      "metadata": {
        "id": "8iAOthg3mdLs"
      },
      "execution_count": null,
      "outputs": []
    },
    {
      "cell_type": "code",
      "source": [
        "epoch_visual(\"mae\", evals_result = evals_result_1, title=\"Primer Paso\")"
      ],
      "metadata": {
        "id": "cVAcY7H1mj7E"
      },
      "execution_count": null,
      "outputs": []
    },
    {
      "cell_type": "markdown",
      "source": [
        "#### Segundo: submuestreos (subsample + colsample_bytree)"
      ],
      "metadata": {
        "id": "gNTUCby4buoZ"
      }
    },
    {
      "cell_type": "code",
      "source": [
        "# nuestros rangos de valores para nuestro segundo par de hiperparametros\n",
        "pair_wise_gridsearch_params2 = [\n",
        "    (subsample, colsample_bytree)\n",
        "    for subsample in [i/10. for i in range(1, 10)]        # subsample entre 0.1 y 0.9\n",
        "    for colsample_bytree in [i/10. for i in range(1, 10)] # colsample_bytree entre 0.1 y 0.9\n",
        "]"
      ],
      "metadata": {
        "id": "0wwpLXZ2c4fE"
      },
      "execution_count": null,
      "outputs": []
    },
    {
      "cell_type": "code",
      "source": [
        "x2, y2, z2, min_mae2, best_params2 = pair_wise_gridsearch_CV_reg('subsample', 'colsample_bytree', pair_wise_gridsearch_params2)"
      ],
      "metadata": {
        "id": "VV-_XKS3dJkt"
      },
      "execution_count": null,
      "outputs": []
    },
    {
      "cell_type": "code",
      "source": [
        "print(\"2 - Mejores valores para estos hiperparámetros:\", best_params2, \"MAE:\", min_mae2)"
      ],
      "metadata": {
        "id": "_hM86z8fdMrU"
      },
      "execution_count": null,
      "outputs": []
    },
    {
      "cell_type": "code",
      "source": [
        "Trisurf(\"subsample\", 'colsample_bytree', x2, y2, z2, min_mae2, best_params2)"
      ],
      "metadata": {
        "id": "p3TuRj_Gde0N"
      },
      "execution_count": null,
      "outputs": []
    },
    {
      "cell_type": "code",
      "source": [
        "# volvemos a actualizar el diccionario de parámetros\n",
        "param_dict[\"subsample\"]         = best_params2[0]\n",
        "param_dict[\"colsample_bytree\"]  = best_params2[1]"
      ],
      "metadata": {
        "id": "ry728DDtdVSE"
      },
      "execution_count": null,
      "outputs": []
    },
    {
      "cell_type": "code",
      "source": [
        "model2, evals_result_2 = performance_train_test_reg(params = param_dict)\n",
        "pasos.append(\"Segundo\")\n",
        "min_maes.append(model2.best_score)"
      ],
      "metadata": {
        "id": "DXCl2XDRnJUY"
      },
      "execution_count": null,
      "outputs": []
    },
    {
      "cell_type": "code",
      "source": [
        "# curva de aprendizaje\n",
        "epoch_visual(\"mae\", evals_result = evals_result_2, title=\"Segundo Paso\")"
      ],
      "metadata": {
        "id": "70Dgmzx9nJUZ"
      },
      "execution_count": null,
      "outputs": []
    },
    {
      "cell_type": "markdown",
      "source": [
        "#### Tercer par de hiperparámetros (min_child_weight + gamma)\n",
        "\n",
        "`min_child_weight` controla el peso de los datos que son hojas (nodos terminales) de un árbol. Si al generar una nueva partición de los datos, el peso del nodo hijo (terminal) es menor que este valor, XGBoost cancela esa partición (split).\n",
        "\n",
        "`gamma` es el `min_split_loss` que es la reducción mínima de la pérdida que requerimos para que XGBoost haga una partición sobre un nodo hoja (terminal) del árbol. Cuanto mas grande es `gamma` más conservador es el algoritmo."
      ],
      "metadata": {
        "id": "5xFIBkyZeMA4"
      }
    },
    {
      "cell_type": "code",
      "source": [
        "# nuestros rangos de valores para nuestro segundo par de hiperparametros\n",
        "pair_wise_gridsearch_params3 = [\n",
        "    (min_child_weight, gamma)\n",
        "    for min_child_weight in range(0, 10)  # min_child_weight 0 - 9\n",
        "    for gamma in range(0, 10)             # gamma 0 - 9\n",
        "]"
      ],
      "metadata": {
        "id": "4Py-RKbQeN8P"
      },
      "execution_count": null,
      "outputs": []
    },
    {
      "cell_type": "code",
      "source": [
        "x3, y3, z3, min_mae3, best_params3 = pair_wise_gridsearch_CV_reg('min_child_weight', 'gamma', pair_wise_gridsearch_params3)"
      ],
      "metadata": {
        "id": "xs8FbpP1fsJo"
      },
      "execution_count": null,
      "outputs": []
    },
    {
      "cell_type": "code",
      "source": [
        "print(\"3 - Mejores valores para estos hiperparámetros:\", best_params3, \"MAE:\", min_mae3)"
      ],
      "metadata": {
        "id": "sefbKpV6f0DC"
      },
      "execution_count": null,
      "outputs": []
    },
    {
      "cell_type": "code",
      "source": [
        "Trisurf(\"min_child_weight\", 'gamma', x3, y3, z3, min_mae3, best_params3)"
      ],
      "metadata": {
        "id": "XxJMh4vkf0DD"
      },
      "execution_count": null,
      "outputs": []
    },
    {
      "cell_type": "code",
      "source": [
        "# nuevamente, actualizamos nuestro diccionario de parámetros\n",
        "param_dict[\"min_child_weight\"]  = best_params3[0]\n",
        "param_dict[\"gamma\"]             = best_params3[1]"
      ],
      "metadata": {
        "id": "UGjWLMTDhPN8"
      },
      "execution_count": null,
      "outputs": []
    },
    {
      "cell_type": "code",
      "source": [
        "model3, evals_result_3 = performance_train_test_reg(params = param_dict)\n",
        "pasos.append(\"Tercero\")\n",
        "min_maes.append(model3.best_score)"
      ],
      "metadata": {
        "id": "gu0Arz-InUHh"
      },
      "execution_count": null,
      "outputs": []
    },
    {
      "cell_type": "code",
      "source": [
        "# curva de aprendizaje\n",
        "epoch_visual(\"mae\", evals_result = evals_result_3, title=\"Tercer Paso\")"
      ],
      "metadata": {
        "id": "1YqNmqoRnUHh"
      },
      "execution_count": null,
      "outputs": []
    },
    {
      "cell_type": "markdown",
      "source": [
        "#### Cuarto: Regularización\n",
        "\n",
        "El cuarto par de hiperparámetros: reg_alpha and reg_lambda"
      ],
      "metadata": {
        "id": "2eHlB6RahXfb"
      }
    },
    {
      "cell_type": "code",
      "source": [
        "pair_wise_gridsearch_params4 = [\n",
        "    (reg_alpha, reg_lambda)\n",
        "    for reg_alpha in [0, 1e-2, 0.1, 1, 2, 3, 4, 8, 10, 12, 14]\n",
        "    for reg_lambda in [0, 1e-2, 0.1, 1, 2, 3, 4, 8, 10, 12, 14]\n",
        "]"
      ],
      "metadata": {
        "id": "pGK9Fty0hWgL"
      },
      "execution_count": null,
      "outputs": []
    },
    {
      "cell_type": "code",
      "source": [
        "x4, y4, z4, min_mae4, best_params4 = pair_wise_gridsearch_CV_reg('reg_alpha', 'reg_lambda', pair_wise_gridsearch_params4)"
      ],
      "metadata": {
        "id": "ajqDQwblhkfl"
      },
      "execution_count": null,
      "outputs": []
    },
    {
      "cell_type": "code",
      "source": [
        "print(\"4 - Mejores valores para estos hiperparámetros:\", best_params4, \"MAE:\", min_mae4)"
      ],
      "metadata": {
        "id": "emJ7ZaTzhpjd"
      },
      "execution_count": null,
      "outputs": []
    },
    {
      "cell_type": "code",
      "source": [
        "Trisurf('reg_lambda', 'reg_alpha', y4, x4, z4, min_mae4, best_params4)"
      ],
      "metadata": {
        "id": "fq_ir90chpje"
      },
      "execution_count": null,
      "outputs": []
    },
    {
      "cell_type": "code",
      "source": [
        "param_dict[\"reg_alpha\"]   = best_params4[0]\n",
        "param_dict[\"reg_lambda\"]  = best_params4[1]"
      ],
      "metadata": {
        "id": "7sZS6GpsiiSt"
      },
      "execution_count": null,
      "outputs": []
    },
    {
      "cell_type": "code",
      "source": [
        "model4, evals_result_4 = performance_train_test_reg(params = param_dict)\n",
        "pasos.append(\"Cuarto\")\n",
        "min_maes.append(model4.best_score)"
      ],
      "metadata": {
        "id": "D6zmDRk5nbXC"
      },
      "execution_count": null,
      "outputs": []
    },
    {
      "cell_type": "code",
      "source": [
        "# curva de aprendizaje\n",
        "epoch_visual(\"mae\", evals_result = evals_result_4, title=\"Cuarto Paso\")"
      ],
      "metadata": {
        "id": "EL1nDxq_nbXC"
      },
      "execution_count": null,
      "outputs": []
    },
    {
      "cell_type": "markdown",
      "source": [
        "#### Modelo Final"
      ],
      "metadata": {
        "id": "gGNJfvjJnbV_"
      }
    },
    {
      "cell_type": "code",
      "source": [
        "import pprint\n",
        "pretty = pprint.PrettyPrinter(width = 80)\n",
        "print(\"Hiperparametros despues de optimizacion de a pares:\")\n",
        "pretty.pprint(param_dict)"
      ],
      "metadata": {
        "id": "2hXDA5-Rin02"
      },
      "execution_count": null,
      "outputs": []
    },
    {
      "cell_type": "code",
      "source": [
        "y_pred2 = model4.predict(DM_test)"
      ],
      "metadata": {
        "id": "WWoWXqNnsle3"
      },
      "execution_count": null,
      "outputs": []
    },
    {
      "cell_type": "code",
      "source": [
        "# Veamos graficamente las primeras n predicciones\n",
        "n = 200\n",
        "grp = pd.DataFrame({'prediccion':y_pred2,'real':y_test})\n",
        "grp = grp.reset_index()\n",
        "grp = grp.drop(['index'],axis=1)\n",
        "plt.style.use('ggplot')\n",
        "plt.figure(figsize=(16,6))\n",
        "plt.plot(grp[:n],linewidth=2)\n",
        "plt.xlabel('Eventos', fontsize=12)\n",
        "plt.ylabel('Median House Value', fontsize=12)\n",
        "plt.legend(['Real','Predicción'],prop={'size': 12})\n",
        "sns.jointplot(x=\"real\", y=\"prediccion\", data=grp, kind=\"reg\")"
      ],
      "metadata": {
        "id": "cp6Dt1lIsz2O"
      },
      "execution_count": null,
      "outputs": []
    },
    {
      "cell_type": "code",
      "source": [
        "# Plot the feature importance\n",
        "xgb.plot_importance(model4);\n",
        "plt.tight_layout()"
      ],
      "metadata": {
        "id": "JUnjmaQdvFyE"
      },
      "execution_count": null,
      "outputs": []
    },
    {
      "cell_type": "code",
      "source": [
        "# Minimum Absolute Error (MAE) a lo largo de la optimizacion por pares\n",
        "plt.figure(figsize=(9, 6))\n",
        "plt.plot(pasos, min_maes)\n",
        "plt.ylim([26000, 35000])\n",
        "plt.title('MAE en la optimizacion')"
      ],
      "metadata": {
        "id": "R9x8Scni0C_s"
      },
      "execution_count": null,
      "outputs": []
    },
    {
      "cell_type": "code",
      "source": [
        "# cuantos arboles hay?\n",
        "dump = model4.get_dump()\n",
        "num_trees = len(dump)\n",
        "print(num_trees)"
      ],
      "metadata": {
        "id": "qHNaiFhdxd1e"
      },
      "execution_count": null,
      "outputs": []
    },
    {
      "cell_type": "code",
      "source": [
        "from xgboost import plot_tree\n",
        "from matplotlib.pylab import rcParams\n",
        "\n",
        "# parametros de ploteo\n",
        "rcParams['font.size'] = 16\n",
        "\n",
        "# plotear el arbol (LR = sideways)\n",
        "# num_trees va de 0 (1er arbol) hasta el ultimo ...\n",
        "fig, ax = plt.subplots(figsize=(36, 36))\n",
        "xgb.plot_tree(model4, rankdir=\"LR\", num_trees=0, ax=ax);"
      ],
      "metadata": {
        "id": "xrhnDXyDvQDU"
      },
      "execution_count": null,
      "outputs": []
    },
    {
      "cell_type": "markdown",
      "source": [
        "### Guardar y reusar modelos\n",
        "\n"
      ],
      "metadata": {
        "id": "GrAW4t9srE7j"
      }
    },
    {
      "cell_type": "code",
      "source": [
        "model4.save_model('california-housing-modelo-entrenado-optimizado')\n",
        "# volcar (dump) el modelo a un archivo\n",
        "model4.dump_model('california-housing-modelo-entrenado-optimizado.raw.txt')\n",
        "# volcar con mapa de features\n",
        "#model4.dump_model('california-housing-modelo-entrenado-optimizado.raw.txt', 'featmap.txt')"
      ],
      "metadata": {
        "id": "GUU0H6ecrMdd"
      },
      "execution_count": null,
      "outputs": []
    },
    {
      "cell_type": "code",
      "source": [
        "# save to JSON\n",
        "model4.save_model(\"model.json\")\n",
        "# save to text format\n",
        "model4.save_model(\"model.txt\")\n",
        "\n",
        "model.load_model(\"\")"
      ],
      "metadata": {
        "id": "dBabu4vbt4XD"
      },
      "execution_count": null,
      "outputs": []
    },
    {
      "cell_type": "markdown",
      "source": [
        "### Optimizar hiperparámetros fuerte\n",
        "\n",
        "XGBoost tiene muchos hiperparámetros, pueden consultar la guia en la documentación oficial ([XGBoost Parameters](https://xgboost.readthedocs.io/en/stable/parameter.html)). Hacer un GridSearchCV con una lista muy grande de parámetros y explorar valores, es posible.\n",
        "\n"
      ],
      "metadata": {
        "id": "_0EwbnOQ7m9P"
      }
    },
    {
      "cell_type": "markdown",
      "source": [
        "![anda-nomas-maquina.png](data:image/png;base64,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)"
      ],
      "metadata": {
        "id": "76gEzMFy807o"
      }
    },
    {
      "cell_type": "code",
      "source": [
        "# si son valientes acá va la receta de un GridSearchCV posible\n",
        "# pueden agregarle ingredientes, hacer una reducción, o condimentarlo a gusto\n",
        "from sklearn.model_selection import GridSearchCV\n",
        "\n",
        "xgb_gscv = xgb.XGBRegressor()\n",
        "parameters = {'nthread':[4], #when use hyperthread, xgboost may become slower\n",
        "              'objective':['reg:linear', 'reg:squarederror'], # dos objetivos, por qué no?\n",
        "              'eval_metric': ['mae'],\n",
        "              'learning_rate': [0.05, .075, 0.1, 0.125, 0.15, 0.3, 0.6, 0.9], # eta, shrinkage\n",
        "              'max_depth': [5, 7, 9, 11, 13, 15],\n",
        "              'min_child_weight': [4, 5, 6],\n",
        "              'silent': [1], # chito la boca\n",
        "              'subsample': [0.6, 0.7, 0.8, 0.9],\n",
        "              'colsample_bytree': [0.5, 0.6, 0.7, 0.9],\n",
        "              'reg_lambda': [2, 4, 6, 8, 10, 12, 14],\n",
        "              'reg_alpha': [2, 4, 6, 8, 10, 12, 14],\n",
        "              'n_estimators': [500, 1000]}\n",
        "\n",
        "xgb_grid = GridSearchCV(xgb_gscv,\n",
        "                        parameters,\n",
        "                        cv = 5,\n",
        "                        n_jobs = 10,\n",
        "                        verbose = True)\n",
        "\n",
        "xgb_grid.fit(X_train,y_train)\n",
        "\n",
        "print(xgb_grid.best_score_)\n",
        "print(xgb_grid.best_params_)"
      ],
      "metadata": {
        "id": "xTNeOwq_9Foy"
      },
      "execution_count": null,
      "outputs": []
    },
    {
      "cell_type": "markdown",
      "source": [
        "### Parámetros de XGBoost\n",
        "\n",
        "Los parámetros de XGBoost se pueden divir en categorias:\n",
        " - Generales\n",
        "   - Verbosidad: mensajes en consola\n",
        "   - nthreads: cuantos hilos del procesador usar\n",
        " - Parámetros del Booster (base learners)\n",
        "   - Dependen de la eleccion del modelo de base (el que aprende)\n",
        "   - Por defecto: gbtree (gradient boost tree)\n",
        " - Parámetros de la tarea de aprendizaje:\n",
        "   - `objective`: la función objetivo a optimizar (regression).\n",
        "   - `eval_metric`: select the performance evaluation metric for regression\n",
        "   - `gpu_id:` 0 (el valor que nos devuelve nvidia-smi)\n",
        "   - `tree_method`: gpu_hist para seleccionar GPU\n",
        "\n",
        "\n",
        " A su vez, los podemos dividir por los distintos tipos de funciones que controlan estos hiperparámetros:\n",
        "  - Controles de iteración: `num_boost_round` (es `n_estimators`!), `early_stopping_round`\n",
        "  - Contracción (shrinkage): `eta` (también llamado `learning_rate`)\n",
        "  - Limitaciones a los árboles: `max_depth`, `min_child_weight`, `gamma` (min_split_loss)\n",
        "  - Submuestreo: `subsample`, `colsample_bytree`\n",
        "  - Regularización: `alpha` (L1), `lambda` (L2)\n",
        "\n",
        "\n",
        "En casos de GridSearch por fuerza bruta (combinatoria de todos vs todos), no tiene mucho sentido clasificarlos, pero si intentan hacer una optimizacion por grupos de parámetros por ahi tiene sentido enfrentar parámetros de la misma categoría (ej submuestreos por fila vs columna).  "
      ],
      "metadata": {
        "id": "uYLOwdJZIe4z"
      }
    },
    {
      "cell_type": "markdown",
      "source": [
        "# Segunda Tarea: Clasificación"
      ],
      "metadata": {
        "id": "eQk1FUBCEQXw"
      }
    },
    {
      "cell_type": "markdown",
      "source": [
        "Para ejercitar vamos a usar dos tareas / datasets. Por un lado la base de datos de diabetes de indios Pima. Los indios Pima son una población humana en"
      ],
      "metadata": {
        "id": "sMJLqUjE_V5Z"
      }
    },
    {
      "cell_type": "markdown",
      "source": [
        "## La base de datos de diabetes de indios Pima\n",
        "\n",
        "La base de datos tiene 9 variables, una de las cuales es el Outcome (clase), donde `0` indica un test negativo de diabetes, y `1` implica un test positivo (tiene Diabetes).\n",
        "\n",
        "**Referencias:**\n",
        " - Schulz LO, Chaudhari LS (2015). High-Risk Populations: The Pimas of Arizona and Mexico. Curr Obes Rep. 4(1):92-8. [DOI:10.1007/s13679-014-0132-9](https://doi.org/10.1007/s13679-014-0132-9).\n",
        " - [Kaggle: Pima Indians Diabetes Database.](https://www.kaggle.com/datasets/uciml/pima-indians-diabetes-database)"
      ],
      "metadata": {
        "id": "Y8s0MbVo8mJO"
      }
    },
    {
      "cell_type": "code",
      "source": [
        "# Conectar Drive a Colab\n",
        "from google.colab import drive\n",
        "import os\n",
        "\n",
        "# Montar drive\n",
        "drive.mount(\"/content/drive/\")\n",
        "# Cambiar directorio\n",
        "os.chdir('/content/drive/MyDrive/Colab Notebooks/Data/')"
      ],
      "metadata": {
        "id": "GFwqznn4GawP"
      },
      "execution_count": null,
      "outputs": []
    },
    {
      "cell_type": "code",
      "source": [
        "import pandas as pd\n",
        "import numpy as np\n",
        "import pandas as pd\n",
        "import seaborn as sns\n",
        "import matplotlib.pyplot as plt\n",
        "\n",
        "diabetes = pd.read_csv('diabetes.zip', compression = 'zip')"
      ],
      "metadata": {
        "id": "vXFX6WcuGw5w"
      },
      "execution_count": null,
      "outputs": []
    },
    {
      "cell_type": "code",
      "source": [
        "diabetes.head(10)"
      ],
      "metadata": {
        "id": "q2ukZmwR-Qop"
      },
      "execution_count": null,
      "outputs": []
    },
    {
      "cell_type": "code",
      "source": [
        "diabetes.count()"
      ],
      "metadata": {
        "id": "owfBgJ0X-Ujw"
      },
      "execution_count": null,
      "outputs": []
    },
    {
      "cell_type": "code",
      "source": [
        "X = diabetes[['Pregnancies', 'Glucose', 'BloodPressure',\n",
        "              'SkinThickness', 'Insulin', 'BMI',\n",
        "              'DiabetesPedigreeFunction', 'Age']]\n",
        "\n",
        "y = diabetes['Outcome']"
      ],
      "metadata": {
        "id": "oTIdyx2-X-h9"
      },
      "execution_count": null,
      "outputs": []
    },
    {
      "cell_type": "markdown",
      "source": [
        "Partimos el dataset en train + test"
      ],
      "metadata": {
        "id": "dOZpHY5YNARj"
      }
    },
    {
      "cell_type": "code",
      "source": [
        "from sklearn.model_selection import train_test_split\n",
        "X_train, X_test, y_train, y_test = train_test_split(X, y, random_state=42)"
      ],
      "metadata": {
        "id": "Hw5WyQruIDj6"
      },
      "execution_count": null,
      "outputs": []
    },
    {
      "cell_type": "code",
      "source": [
        "import xgboost as xgb\n",
        "\n",
        "# esta es la manera nativa de usar XGBoost\n",
        "# cargamos los datos en una DMatrix\n",
        "dmatrix  = xgb.DMatrix(data = X, label = y)        # todos los datos\n",
        "DM_train = xgb.DMatrix(X_train,  label = y_train)  # train\n",
        "DM_test  = xgb.DMatrix(X_test,   label = y_test)   # test"
      ],
      "metadata": {
        "id": "yiKcg4b3pCJX"
      },
      "execution_count": null,
      "outputs": []
    },
    {
      "cell_type": "markdown",
      "source": [
        "### Nuestro nuevo diccionario de parámetros\n",
        "\n",
        "Acá, como nuestra tarea es clasificación, vamos a cambiar la función objetivo (la que XGBoost usa para guiar la selección de árboles, splits, etC), y también nuestra métrica de evaluación.\n",
        "\n",
        "Para tareas de clasificación binaria como en este caso (tiene diabetes, no tiene diabetes), podemos usar la función objetivo `binary:logistic`.\n",
        "\n",
        "Como vimos en clases anteriores, podemos usar el valor de Area Bajo la Curva ROC (AUC), y en XGBoost lo podemos hacer con `eval_metric = 'auc'`, o podemos también usar el valor de Area Bajo la Curva Precision-Recall, que en XGBoost es `eval_metric = 'auc'`.\n",
        "\n",
        "Recuerden que la métrica tiene que estar alineada con el objetivo! Las que funcionan para clasificación no tienen sentido para regresiones (y *vice versa*).\n",
        "\n",
        "Referencia: [XGBoost Learning Task Parameters.](https://xgboost.readthedocs.io/en/latest/parameter.html#learning-task-parameters)"
      ],
      "metadata": {
        "id": "r6NjjxOlqEn4"
      }
    },
    {
      "cell_type": "code",
      "source": [
        "# el diccionario de parámetros\n",
        "param_dict={\n",
        " 'objective': 'binary:logistic', # fijo. nuestra función objetivo para clasificacion.\n",
        " 'eval_metric': 'auc', # fijo. nuestra metrica de evaluation (AUC P-R)\n",
        " 'max_depth': 4,\n",
        " 'subsample': 0.3,\n",
        " 'eta': 0.6,\n",
        " 'min_child_weight': 2,\n",
        " 'colsample_bytree': 0.5,\n",
        " 'gamma': 1,\n",
        " 'reg_alpha': 2,\n",
        " 'reg_lambda': 2,\n",
        " #'tree_method': 'hist', # para CPU\n",
        " 'seed': 42,\n",
        " 'gpu_id': 0,\n",
        " 'tree_method': 'gpu_hist', # exact, approx, hist (gpu_hist usa GPU pero es heuristico!)\n",
        " # ver https://xgboost.readthedocs.io/en/stable/gpu/index.html\n",
        " # ver https://xgboost.readthedocs.io/en/stable/treemethod.html\n",
        "}\n",
        "\n",
        "num_boost_round = 300     # n_estimators\n",
        "early_stopping_rounds = 10 # Validation error needs to decrease at least every early_stopping_rounds to continue training."
      ],
      "metadata": {
        "id": "NZW31eP0pkUe"
      },
      "execution_count": null,
      "outputs": []
    },
    {
      "cell_type": "code",
      "source": [
        "pre_model, pre_evals_result = performance_train_test_cla(params = param_dict)"
      ],
      "metadata": {
        "id": "DpCnmHtcpkUe"
      },
      "execution_count": null,
      "outputs": []
    },
    {
      "cell_type": "code",
      "source": [
        "pre_best_performance = pre_model.best_score\n",
        "print(\"Area Bajo la Curva previo a la optimización:\\n\", pre_best_performance)\n",
        "pasos_diabetes = [\"Pre\"]\n",
        "aucs = [pre_best_performance]"
      ],
      "metadata": {
        "id": "HsIWE4EspkUe"
      },
      "execution_count": null,
      "outputs": []
    },
    {
      "cell_type": "code",
      "source": [
        "# curva de aprendizaje\n",
        "epoch_visual(\"auc\", evals_result = pre_evals_result, title=\"Pre Optimizacion\")"
      ],
      "metadata": {
        "id": "xcFzBTlTpkUf"
      },
      "execution_count": null,
      "outputs": []
    },
    {
      "cell_type": "markdown",
      "source": [
        "### Ahora vamos a ir optimizando parámetros de a pares\n",
        "\n",
        "Usando la función `pair_wise_gridsearch_CV` que está en el bloque anterior, vamos a ir tomando hiperparámetros de a pares y vamos a ir optimizando.\n",
        "\n"
      ],
      "metadata": {
        "id": "JFrZxDrrpkUf"
      }
    },
    {
      "cell_type": "markdown",
      "source": [
        "#### Primero: max_depth + eta (learning_rate)\n",
        "\n"
      ],
      "metadata": {
        "id": "e2IaVIBipkUf"
      }
    },
    {
      "cell_type": "code",
      "source": [
        "# nuestra grilla de parámetros para este primer paso:\n",
        "pair_wise_gridsearch_params1 = [\n",
        "    (max_depth, eta)\n",
        "    for max_depth in range(3,10) # max_depth entre 3 -- 9\n",
        "    for eta in [i/10. for i in range(1, 10)] # eta entre 0.1 -- 0.9\n",
        "]"
      ],
      "metadata": {
        "id": "rkdG2e4-pkUf"
      },
      "execution_count": null,
      "outputs": []
    },
    {
      "cell_type": "markdown",
      "source": [
        "Y ahora llamamos a nuestra función `pair_wise_gridsearch_CV` que nos devuelve:\n",
        " - `x1` + `y1` que contienen todos los valores de los pares de estos hyperparametros en la grilla;\n",
        " - `z1` almacena el valor de la performance para cada par (`x1`, `y1`);\n",
        " - `min_mae1` almacena la mejor performance, el minimo de la funcion de perdida (loss function).\n",
        " - `best_params1` almacena el par de valores de los hiperparametros que dieron la mejor performance.\n",
        " - `min_mae1` + `best_params1` SON el resultado de esta optimización de a pares"
      ],
      "metadata": {
        "id": "ixPahFoBpkUf"
      }
    },
    {
      "cell_type": "code",
      "source": [
        "x1, y1, z1, max_auc1, best_params1 = pair_wise_gridsearch_CV_cla('max_depth', 'eta', pair_wise_gridsearch_params1)"
      ],
      "metadata": {
        "id": "2RKNFUcYpkUf"
      },
      "execution_count": null,
      "outputs": []
    },
    {
      "cell_type": "code",
      "source": [
        "print(\"1 - Mejores valores para estos hiperparámetros:\", best_params1, \"auc:\", max_auc1)"
      ],
      "metadata": {
        "id": "4cshzV8ZpkUf"
      },
      "execution_count": null,
      "outputs": []
    },
    {
      "cell_type": "code",
      "source": [
        "Trisurf('eta', \"max_depth\", y1, x1, z1, max_auc1, best_params1)"
      ],
      "metadata": {
        "id": "Pnyw4L89pkUg"
      },
      "execution_count": null,
      "outputs": []
    },
    {
      "cell_type": "code",
      "source": [
        "# y ahora actualizamos nuestro diccionario de parámetros\n",
        "param_dict[\"max_depth\"] = best_params1[0]\n",
        "param_dict[\"eta\"]       = best_params1[1]"
      ],
      "metadata": {
        "id": "Zq3alTMGpkUg"
      },
      "execution_count": null,
      "outputs": []
    },
    {
      "cell_type": "code",
      "source": [
        "model1, evals_result_1 = performance_train_test_cla(params = param_dict)\n",
        "pasos_diabetes.append(\"Primero\")\n",
        "aucs.append(model1.best_score)"
      ],
      "metadata": {
        "id": "mqfBvT1ypkUg"
      },
      "execution_count": null,
      "outputs": []
    },
    {
      "cell_type": "code",
      "source": [
        "epoch_visual(\"auc\", evals_result = evals_result_1, title=\"Primer Paso\")"
      ],
      "metadata": {
        "id": "ny0smhI9pkUg"
      },
      "execution_count": null,
      "outputs": []
    },
    {
      "cell_type": "markdown",
      "source": [
        "#### Segundo: submuestreos (subsample + colsample_bytree)"
      ],
      "metadata": {
        "id": "Qb3EmPeqpkUg"
      }
    },
    {
      "cell_type": "code",
      "source": [
        "# nuestros rangos de valores para nuestro segundo par de hiperparametros\n",
        "pair_wise_gridsearch_params2 = [\n",
        "    (subsample, colsample_bytree)\n",
        "    for subsample in [i/10. for i in range(1, 10)]        # subsample entre 0.1 y 0.9\n",
        "    for colsample_bytree in [i/10. for i in range(1, 10)] # colsample_bytree entre 0.1 y 0.9\n",
        "]"
      ],
      "metadata": {
        "id": "H--c4gH1pkUh"
      },
      "execution_count": null,
      "outputs": []
    },
    {
      "cell_type": "code",
      "source": [
        "x2, y2, z2, max_auc2, best_params2 = pair_wise_gridsearch_CV_cla('subsample', 'colsample_bytree', pair_wise_gridsearch_params2)"
      ],
      "metadata": {
        "id": "HGaMzhjnpkUh"
      },
      "execution_count": null,
      "outputs": []
    },
    {
      "cell_type": "code",
      "source": [
        "print(\"2 - Mejores valores para estos hiperparámetros:\", best_params2, \"auc:\", max_auc2)"
      ],
      "metadata": {
        "id": "na_j22CppkUh"
      },
      "execution_count": null,
      "outputs": []
    },
    {
      "cell_type": "code",
      "source": [
        "Trisurf(\"subsample\", 'colsample_bytree', x2, y2, z2, max_auc2, best_params2)"
      ],
      "metadata": {
        "id": "uz1H2AtlpkUh"
      },
      "execution_count": null,
      "outputs": []
    },
    {
      "cell_type": "code",
      "source": [
        "# volvemos a actualizar el diccionario de parámetros\n",
        "param_dict[\"subsample\"]         = best_params2[0]\n",
        "param_dict[\"colsample_bytree\"]  = best_params2[1]"
      ],
      "metadata": {
        "id": "V17vpQogpkUh"
      },
      "execution_count": null,
      "outputs": []
    },
    {
      "cell_type": "code",
      "source": [
        "model2, evals_result_2 = performance_train_test_cla(params = param_dict)\n",
        "pasos_diabetes.append(\"Segundo\")\n",
        "aucs.append(model2.best_score)"
      ],
      "metadata": {
        "id": "86lOkl_rpkUh"
      },
      "execution_count": null,
      "outputs": []
    },
    {
      "cell_type": "code",
      "source": [
        "# curva de aprendizaje\n",
        "epoch_visual(\"auc\", evals_result = evals_result_2, title=\"Segundo Paso\")"
      ],
      "metadata": {
        "id": "ql-1TfMTpkUh"
      },
      "execution_count": null,
      "outputs": []
    },
    {
      "cell_type": "markdown",
      "source": [
        "#### Tercer par de hiperparámetros (min_child_weight + gamma)\n",
        "\n",
        "`min_child_weight` controla el peso de los datos que son hojas (nodos terminales) de un árbol. Si al generar una nueva partición de los datos, el peso del nodo hijo (terminal) es menor que este valor, XGBoost cancela esa partición (split).\n",
        "\n",
        "`gamma` es el `min_split_loss` que es la reducción mínima de la pérdida que requerimos para que XGBoost haga una partición sobre un nodo hoja (terminal) del árbol. Cuanto mas grande es `gamma` más conservador es el algoritmo."
      ],
      "metadata": {
        "id": "YCZ-SXSxpkUi"
      }
    },
    {
      "cell_type": "code",
      "source": [
        "# nuestros rangos de valores para nuestro segundo par de hiperparametros\n",
        "pair_wise_gridsearch_params3 = [\n",
        "    (min_child_weight, gamma)\n",
        "    for min_child_weight in range(0, 10)  # min_child_weight 0 - 9\n",
        "    for gamma in range(0, 10)             # gamma 0 - 9\n",
        "]"
      ],
      "metadata": {
        "id": "DVyXwNy6pkUi"
      },
      "execution_count": null,
      "outputs": []
    },
    {
      "cell_type": "code",
      "source": [
        "x3, y3, z3, max_auc3, best_params3 = pair_wise_gridsearch_CV_cla('min_child_weight', 'gamma', pair_wise_gridsearch_params3)"
      ],
      "metadata": {
        "id": "Op6dPeaDpkUi"
      },
      "execution_count": null,
      "outputs": []
    },
    {
      "cell_type": "code",
      "source": [
        "print(\"3 - Mejores valores para estos hiperparámetros:\", best_params3, \"auc:\", max_auc3)"
      ],
      "metadata": {
        "id": "5qo4ISsupkUi"
      },
      "execution_count": null,
      "outputs": []
    },
    {
      "cell_type": "code",
      "source": [
        "Trisurf(\"min_child_weight\", 'gamma', x3, y3, z3, max_auc3, best_params3)"
      ],
      "metadata": {
        "id": "-udKybZfpkUi"
      },
      "execution_count": null,
      "outputs": []
    },
    {
      "cell_type": "code",
      "source": [
        "# nuevamente, actualizamos nuestro diccionario de parámetros\n",
        "param_dict[\"min_child_weight\"]  = best_params3[0]\n",
        "param_dict[\"gamma\"]             = best_params3[1]"
      ],
      "metadata": {
        "id": "TuTL_epWpkUi"
      },
      "execution_count": null,
      "outputs": []
    },
    {
      "cell_type": "code",
      "source": [
        "model3, evals_result_3 = performance_train_test_cla(params = param_dict)\n",
        "pasos_diabetes.append(\"Tercero\")\n",
        "aucs.append(model3.best_score)"
      ],
      "metadata": {
        "id": "ffoMI5ulpkUi"
      },
      "execution_count": null,
      "outputs": []
    },
    {
      "cell_type": "code",
      "source": [
        "# curva de aprendizaje\n",
        "epoch_visual(\"auc\", evals_result = evals_result_3, title=\"Tercer Paso\")"
      ],
      "metadata": {
        "id": "5OcCYyCMpkUi"
      },
      "execution_count": null,
      "outputs": []
    },
    {
      "cell_type": "markdown",
      "source": [
        "#### Cuarto: Regularización\n",
        "\n",
        "El cuarto par de hiperparámetros: reg_alpha and reg_lambda"
      ],
      "metadata": {
        "id": "EcNxx31upkUj"
      }
    },
    {
      "cell_type": "code",
      "source": [
        "pair_wise_gridsearch_params4 = [\n",
        "    (reg_alpha, reg_lambda)\n",
        "    for reg_alpha in [0, 1e-2, 0.1, 1, 2, 3, 4, 8, 10, 12, 14]\n",
        "    for reg_lambda in [0, 1e-2, 0.1, 1, 2, 3, 4, 8, 10, 12, 14]\n",
        "]"
      ],
      "metadata": {
        "id": "ZNBzddCNpkUj"
      },
      "execution_count": null,
      "outputs": []
    },
    {
      "cell_type": "code",
      "source": [
        "x4, y4, z4, max_auc4, best_params4 = pair_wise_gridsearch_CV_cla('reg_alpha', 'reg_lambda', pair_wise_gridsearch_params4)"
      ],
      "metadata": {
        "id": "jrlX1IfFpkUj"
      },
      "execution_count": null,
      "outputs": []
    },
    {
      "cell_type": "code",
      "source": [
        "print(\"4 - Mejores valores para estos hiperparámetros:\", best_params4, \"auc:\", max_auc4)"
      ],
      "metadata": {
        "id": "f_-6oCDxpkUj"
      },
      "execution_count": null,
      "outputs": []
    },
    {
      "cell_type": "code",
      "source": [
        "Trisurf('reg_lambda', 'reg_alpha', y4, x4, z4, max_auc4, best_params4)"
      ],
      "metadata": {
        "id": "T-GBOKyUpkUj"
      },
      "execution_count": null,
      "outputs": []
    },
    {
      "cell_type": "code",
      "source": [
        "param_dict[\"reg_alpha\"]   = best_params4[0]\n",
        "param_dict[\"reg_lambda\"]  = best_params4[1]"
      ],
      "metadata": {
        "id": "9_5t3UyzpkUj"
      },
      "execution_count": null,
      "outputs": []
    },
    {
      "cell_type": "code",
      "source": [
        "model4, evals_result_4 = performance_train_test_cla(params = param_dict)\n",
        "pasos_diabetes.append(\"Cuarto\")\n",
        "aucs.append(model4.best_score)"
      ],
      "metadata": {
        "id": "DHAczzD8pkUk"
      },
      "execution_count": null,
      "outputs": []
    },
    {
      "cell_type": "code",
      "source": [
        "# curva de aprendizaje\n",
        "epoch_visual(\"auc\", evals_result = evals_result_4, title=\"Cuarto Paso\")"
      ],
      "metadata": {
        "id": "vZn_6jg7pkUj"
      },
      "execution_count": null,
      "outputs": []
    },
    {
      "cell_type": "markdown",
      "source": [
        "#### Modelo Final"
      ],
      "metadata": {
        "id": "lqPz3_3FpkUk"
      }
    },
    {
      "cell_type": "code",
      "source": [
        "import pprint\n",
        "pretty = pprint.PrettyPrinter(width = 80)\n",
        "print(\"Hiperparametros despues de optimizacion de a pares:\")\n",
        "pretty.pprint(param_dict)"
      ],
      "metadata": {
        "id": "Q2yqavzfpkUk"
      },
      "execution_count": null,
      "outputs": []
    },
    {
      "cell_type": "code",
      "source": [
        "# Area Bajo la Curva Precision-Recall (auc) a lo largo de la optimizacion por pares\n",
        "plt.figure(figsize=(9, 6))\n",
        "plt.plot(pasos_diabetes, aucs)\n",
        "plt.ylim([0, 1])\n",
        "plt.title('auc en la optimizacion')"
      ],
      "metadata": {
        "id": "UK2J2HiDCnRm"
      },
      "execution_count": null,
      "outputs": []
    },
    {
      "cell_type": "code",
      "source": [
        "y_pred2 = model4.predict(DM_test)"
      ],
      "metadata": {
        "id": "XcSo0c9LpkUk"
      },
      "execution_count": null,
      "outputs": []
    },
    {
      "cell_type": "code",
      "source": [
        "# Plot the feature importance\n",
        "xgb.plot_importance(model4);\n",
        "plt.tight_layout()"
      ],
      "metadata": {
        "id": "inqPPcpPpkUk"
      },
      "execution_count": null,
      "outputs": []
    },
    {
      "cell_type": "code",
      "source": [
        "# cuantos arboles hay?\n",
        "dump = model4.get_dump()\n",
        "num_trees = len(dump)\n",
        "print(num_trees)"
      ],
      "metadata": {
        "id": "wPfP2yrMpkUk"
      },
      "execution_count": null,
      "outputs": []
    },
    {
      "cell_type": "code",
      "source": [
        "from xgboost import plot_tree\n",
        "from matplotlib.pylab import rcParams\n",
        "\n",
        "# parametros de ploteo\n",
        "rcParams['font.size'] = 16\n",
        "\n",
        "# plotear el arbol (LR = sideways)\n",
        "# num_trees va de 0 (1er arbol) hasta el ultimo ...\n",
        "fig, ax = plt.subplots(figsize=(36, 36))\n",
        "xgb.plot_tree(model4, rankdir=\"LR\", num_trees=0, ax=ax);"
      ],
      "metadata": {
        "id": "wSxXy2HKpkUl"
      },
      "execution_count": null,
      "outputs": []
    }
  ]
}