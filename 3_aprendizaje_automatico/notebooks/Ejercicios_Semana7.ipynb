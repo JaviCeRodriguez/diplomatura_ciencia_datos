{
  "cells": [
    {
      "cell_type": "markdown",
      "id": "turkish-walker",
      "metadata": {
        "tags": [],
        "id": "turkish-walker"
      },
      "source": [
        "# Argentina programa 4.0 - Módulo 3: Aprendizaje Automático\n",
        "---\n",
        "# Ejercicios semana 7 - CNNs\n"
      ]
    },
    {
      "cell_type": "markdown",
      "source": [
        "## Fashion-MINST\n",
        "\n",
        "\n",
        "Al igual que la semana anterior, usen el conjunto de datos fashion-MINST. trayendo el el dataset desde `keras.datasets.fashion_mnist`:\n",
        "\n",
        "1.   Separen en train, validation y test (hecho...)\n",
        "2.   Normalicen de la misma forma que hicimos con CIFAR-10 o MNIST\n",
        "3.   Hagan una CNN simple para este problema (clasificar 10 clases): una sola capa convolucional con 32 filtros y kernel de 3x3, un maxpooling de 2x2 y la red totalmente conectada del final de 256 unidades.\n",
        "4.   Usen un early stopping monitoreando la loss en el conjunto de validación con una paciencia de 10 épocas, entrenen hasta que pare y anoten el resultado de la accuracy en el conjunto de validación. **Este es su modelo de base**.\n",
        "5.   Ahora busquen una nueva arquitectura que le gane a este modelo. Prueben ir agregando de a una capa convolucional y ver si mejora, cambiar los tamaños y las cantidades de los filtros, intercalen con pooling, recuerden que tambien pueden usar dropout, jugar con el stride y el padding, etc.\n",
        "\n",
        "Como recomendación sean sistemáticos, vayan probando de a un cambio a la vez y viendo si mejora, empiecen con las capas convolucionales y de pooling (se suele recomendar que no haya más de dos convolucionales por cada pooling) agregar más no mejore prueben aumentar el número de filtros sobre las capas finales, achicar o agrandar los kernels, aplicar un PCA, etc. Recuerden que pueden usar tensorboard o [weight and biases](https://wandb.ai/wandb_fc/articles/reports/Intro-to-Keras-with-Weights-Biases--Vmlldzo1NDM0ODEz) para comparar las diferentes arquitecturas.\n",
        "\n",
        "Una vez que tengan un modelo final (o sea, ya se cansaron de probar :P) comparen el rendimiento de esta red contra la de la semana pasada y asi quieren compartan el resultado sobre le conjunto de validación con sus compañeros. La arquitectura ganadora de todos ustedes que sea probada sobre el conjunto de testeo."
      ],
      "metadata": {
        "id": "d_3Wg-NBpGJT"
      },
      "id": "d_3Wg-NBpGJT"
    },
    {
      "cell_type": "code",
      "source": [
        "import tensorflow as tf\n",
        "from tensorflow import keras\n",
        "\n",
        "#traemos test y train\n",
        "fashion_mnist = keras.datasets.fashion_mnist\n",
        "(X_train_full, y_train_full), (X_test, y_test) = fashion_mnist.load_data()\n",
        "\n",
        "#60k en train 10k en test\n",
        "X_train_full = X_train_full.reshape((60000, 28, 28, 1))\n",
        "X_test = X_test.reshape((10000, 28, 28, 1))\n",
        "\n",
        "#separamos train en validación, a mano\n",
        "X_valid, X_train = X_train_full[:5000], X_train_full[5000:]\n",
        "y_valid, y_train = y_train_full[:5000], y_train_full[5000:]\n",
        "\n",
        "# a partir de ahora ustedes\n"
      ],
      "metadata": {
        "id": "ZrAr7W-Gp09e"
      },
      "id": "ZrAr7W-Gp09e",
      "execution_count": null,
      "outputs": []
    },
    {
      "cell_type": "code",
      "source": [],
      "metadata": {
        "id": "iJMoMttjsKKN"
      },
      "id": "iJMoMttjsKKN",
      "execution_count": null,
      "outputs": []
    }
  ],
  "metadata": {
    "kernelspec": {
      "display_name": "Python 3",
      "name": "python3"
    },
    "language_info": {
      "codemirror_mode": {
        "name": "ipython",
        "version": 3
      },
      "file_extension": ".py",
      "mimetype": "text/x-python",
      "name": "python",
      "nbconvert_exporter": "python",
      "pygments_lexer": "ipython3",
      "version": "3.8.13"
    },
    "toc-showcode": false,
    "vscode": {
      "interpreter": {
        "hash": "2b7aa682480b82eb27ca7b5ecfebdb0027bb2a276e6bdff64c1ddeab03557e9e"
      }
    },
    "colab": {
      "provenance": [],
      "gpuType": "T4"
    },
    "accelerator": "GPU"
  },
  "nbformat": 4,
  "nbformat_minor": 5
}