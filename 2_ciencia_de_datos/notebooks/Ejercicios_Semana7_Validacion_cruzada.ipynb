{
  "nbformat": 4,
  "nbformat_minor": 0,
  "metadata": {
    "colab": {
      "provenance": []
    },
    "kernelspec": {
      "name": "python3",
      "display_name": "Python 3"
    },
    "language_info": {
      "name": "python"
    }
  },
  "cells": [
    {
      "cell_type": "markdown",
      "source": [
        "# Argentina programa 4.0 - Módulo 2: Ciencia de Datos\n",
        "\n",
        "---\n",
        "## Ejercícios Semana 7. Validación Cruzada\n"
      ],
      "metadata": {
        "id": "M5MOMyK2PAFN"
      }
    },
    {
      "cell_type": "markdown",
      "source": [
        "## Regresión polinomial con validación cruzada"
      ],
      "metadata": {
        "id": "XaYhhUoU7qh3"
      }
    },
    {
      "cell_type": "markdown",
      "source": [
        "En este ejercicio vamos a trabajar con una versión recortada de un nuevo dataset muy sencillo, \"mtcars\". El mismo contiene datos de 32 modelos de autos y fue extraído de una revista estadounidense de automovilismo de 1974. Esta versión, que pueden descargar de [acá](https://drive.google.com/file/d/1X3AUlr11cQc3U05Tv7NxI8kRYYxPMlPI/view?usp=sharing), contiene sólo tres columnas:\n",
        "\n",
        "\n",
        "\n",
        "*   `mpg`: *Miles per gallon* (consumo de combustible expresado en millas por galón de gasolina)\n",
        "*   `hp`: *horsepower* (caballos de fuerza)\n",
        "*   `disp`: *displacement* (desplazamiento, el volumen de aire desplazado por los cilindros del motor, en pulgadas cúbicas)\n",
        "\n",
        "\n",
        "\n",
        "La idea va a ser hacer una regresión polinomial con algún tipo de regularización (pueden elegir entre usar Ridge o Lasso) y tratar de predecir los valores del consumo de gasolina (`mpg`) en términos de las otras dos. Para ello:\n",
        "\n",
        "**a)** Exploren brevemente los datos, y separenlos en los conjuntos de entrenamiento y testeo.\n",
        "\n",
        "**b)** Armen un pipeline como el que hicimos en clase (que lleva un escalador, el creador de features polinomiales y el modelo que hayan elegido).\n",
        "\n",
        "**c)** Usen GridSearchCV para determinar los hiperparámetros óptimos del modelo usando el (valor negativo del) error cuadrático medio como métrica del puntaje (*score*). (Nota: como son pocos datos, pueden hacer una exploración más exhaustiva de los parámetros respecto de lo que hicimos en clase).\n",
        "\n",
        "**d)** Grafiquen en colores el score del modelo en función de los dos hiperparámetros. ¿Cuál es la mejor combinación? (Recuerden que eso lo puede obtener pidiendo el atributo `.best_params_` del `GridSearchCV`) ¿Cuál es el mejor error cuadrático medio (MSE)?\n",
        "\n",
        "**e)** Evalúen la performance del mejor modelo en el conjunto de testeo.\n",
        "\n"
      ],
      "metadata": {
        "id": "REhD-yzK7wRj"
      }
    },
    {
      "cell_type": "code",
      "source": [],
      "metadata": {
        "id": "8V6MFNKwqaUE"
      },
      "execution_count": null,
      "outputs": []
    }
  ]
}