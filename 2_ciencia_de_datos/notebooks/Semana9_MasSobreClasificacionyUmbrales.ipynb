{
  "nbformat": 4,
  "nbformat_minor": 0,
  "metadata": {
    "colab": {
      "provenance": [],
      "collapsed_sections": [
        "vni_zyl7njfH",
        "5DgwHmJVx-gh",
        "ylJ3BWqqp0-x"
      ]
    },
    "kernelspec": {
      "name": "python3",
      "display_name": "Python 3"
    },
    "language_info": {
      "name": "python"
    }
  },
  "cells": [
    {
      "cell_type": "markdown",
      "source": [
        "## Retomando: predecir progresión de cancer de mama\n",
        "\n",
        "Vamos a usar un dataset compilado y donado por el Dr. William Wolberg de la Universidad de California at Irvine. Es de 1992 y ya hay mucho trabajo sobre uso de este dataset para desarrollar y evaluar algoritmos de predicción (ver referencias).\n",
        "\n",
        "El dataset tiene:\n",
        "Number of Samples: 569\n",
        "Number of Features: 30 numeric, predictive attributes\n",
        "Number of Classes: 2\n",
        "\n",
        "Referencias:\n",
        "\n",
        " - Wolberg, William. (1992). Breast Cancer Wisconsin (Original). UCI Machine Learning Repository. [Original Wisconsin Breast Cancer Database](https://doi.org/10.24432/C5HP4Z).\n",
        " - O. L. Mangasarian and W. H. Wolberg: \"Cancer diagnosis via linear programming\", SIAM News, Volume 23, Number 5, September 1990, pp 1 & 18.\n",
        " - William H. Wolberg and O.L. Mangasarian: \"Multisurface method of pattern separation for medical diagnosis applied to breast cytology\", Proceedings of the National Academy of Sciences, U.S.A., Volume 87, December 1990, pp 9193-9196.\n",
        " - O. L. Mangasarian, R. Setiono, and W.H. Wolberg: \"Pattern recognition via linear programming: Theory and application to medical diagnosis\", in: \"Large-scale numerical optimization\", Thomas F. Coleman and Yuying Li, editors, SIAM Publications, Philadelphia 1990, pp 22-30.\n",
        " - K. P. Bennett & O. L. Mangasarian: \"Robust linear programming discrimination of two linearly inseparable sets\", Optimization Methods and Software 1, 1992, 23-34 (Gordon & Breach Science Publishers)."
      ],
      "metadata": {
        "id": "vni_zyl7njfH"
      }
    },
    {
      "cell_type": "code",
      "source": [
        "import numpy as np\n",
        "import pandas as pd\n",
        "\n",
        "from sklearn.preprocessing import LabelBinarizer\n",
        "from sklearn.ensemble import RandomForestClassifier\n",
        "from sklearn.model_selection import train_test_split, GridSearchCV, StratifiedKFold\n",
        "from sklearn.metrics import roc_curve, precision_recall_curve, auc, make_scorer, recall_score, accuracy_score, precision_score, confusion_matrix\n",
        "\n",
        "import matplotlib.pyplot as plt"
      ],
      "metadata": {
        "id": "ilM97LfN9A1i"
      },
      "execution_count": 179,
      "outputs": []
    },
    {
      "cell_type": "code",
      "source": [
        "# el dataset Wisconsin Breast Cancer (UCI) de Wolberg está en sklearn!\n",
        "from sklearn import datasets\n",
        "\n",
        "# sklearn.datasets nos trae los datos con una estructura particular\n",
        "# sklearn los llama \"bunchs\"\n",
        "# as_frame = True nos devuelve un dataframe pandas embebido en el bunch\n",
        "wbc = datasets.load_breast_cancer(as_frame=True)\n",
        "\n",
        "# y guardamos el dataframe\n",
        "df = wbc.frame"
      ],
      "metadata": {
        "id": "bKcnMr2Co97L"
      },
      "execution_count": 180,
      "outputs": []
    },
    {
      "cell_type": "code",
      "source": [
        "# generamos nuestros vectores x (datos) -- copiamos el dataframe entero y le borramos la columna 'target' con las etiquetas\n",
        "x = df.drop(['target'], axis=1)\n",
        "\n",
        "# y nuestro vector y (etiquetas)\n",
        "y = df['target']\n",
        "x.head()"
      ],
      "metadata": {
        "id": "JLVdBGFP_AJD"
      },
      "execution_count": null,
      "outputs": []
    },
    {
      "cell_type": "code",
      "source": [
        "# normalizar / estandarizar / re-escalar datos\n",
        "import numpy as np\n",
        "\n",
        "from sklearn.preprocessing import MinMaxScaler\n",
        "#n = (x - np.min(x, axis=0)) / ((np.max(x, axis=0)) - np.min(x, axis=0)).values\n",
        "scaler = MinMaxScaler().fit(x)\n",
        "\n",
        "# n son nuestros datos normalizados!\n",
        "n = scaler.transform(x)\n"
      ],
      "metadata": {
        "id": "7e7TD_ONGyf9"
      },
      "execution_count": 182,
      "outputs": []
    },
    {
      "cell_type": "code",
      "source": [
        "from sklearn.model_selection import train_test_split\n",
        "\n",
        "# notar que usamos n en lugar de x (datos normalizados!)\n",
        "x_train, x_test, y_train, y_test = train_test_split(n, y, test_size=0.15, random_state=666)"
      ],
      "metadata": {
        "id": "urwVQUj3B0G5"
      },
      "execution_count": 183,
      "outputs": []
    },
    {
      "cell_type": "code",
      "source": [
        "from sklearn.linear_model import LogisticRegression\n",
        "\n",
        "# y con esto vamos a entrenar\n",
        "lr = LogisticRegression(penalty=\"l2\")\n",
        "lr.fit(x_train,y_train)\n",
        "y_scores = lr.predict_proba(x_test)[:, 1]"
      ],
      "metadata": {
        "id": "E4HakxiYoJMN"
      },
      "execution_count": 187,
      "outputs": []
    },
    {
      "cell_type": "code",
      "source": [
        "precision, recall, thresholds = precision_recall_curve(y_test, y_scores)\n",
        "fpr, tpr, auc_thresholds = roc_curve(y_test, y_scores)"
      ],
      "metadata": {
        "id": "7k3B_6vcEzHb"
      },
      "execution_count": null,
      "outputs": []
    },
    {
      "cell_type": "code",
      "source": [
        "#@title Plotear Curvas ROC + Precision-Recall\n",
        "\n",
        "def ajustar_clases(y_scores, t):\n",
        "    \"\"\"\n",
        "    La funcion ajusta las predicciones de clases / etiquetas\n",
        "    de acuerdo a un umbral (threshold (t)).\n",
        "    Solo funciona para problemas de clasificacion binaria!\n",
        "    \"\"\"\n",
        "    return [1 if y >= t else 0 for y in y_scores]\n",
        "\n",
        "\n",
        "def precision_recall_threshold(precision, recall, thresholds, t=0.5, label=None):\n",
        "    \"\"\"\n",
        "    plotea la curva precision-recall y muestra el punto\n",
        "    donde está el umbral del clasificador.\n",
        "    \"\"\"\n",
        "\n",
        "    # acá generamos nuevas etiquetas / clases (o sea nuestras prediccines)\n",
        "    # en base a un nuevo umbral - el umbral es que que vuelve a redefinir\n",
        "    # TP, TN, FP, FN -- y por lo tanto la nueva matriz de confusion\n",
        "    y_pred_adj = ajustar_clases(y_scores, t)\n",
        "    print(pd.DataFrame(confusion_matrix(y_test, y_pred_adj),\n",
        "                         columns=['pred_neg', 'pred_pos'],\n",
        "                         index=['neg', 'pos']))\n",
        "\n",
        "\n",
        "    # plot the curve\n",
        "    plt.figure(figsize=(8, 3))\n",
        "    lw = 2\n",
        "    plt.subplot(1,1,1)\n",
        "    plt.step(recall, precision, color='orange', where='post')\n",
        "    plt.fill_between(recall, precision, step='post', alpha=0.5, color='orange')\n",
        "    plt.xlabel('Recall')\n",
        "    plt.ylabel('Precision')\n",
        "    plt.ylim([0.0, 1.05])\n",
        "    plt.xlim([0.0, 1.05])\n",
        "    plt.title('Curva Precision-Recall con Umbral')\n",
        "    plt.grid(True)\n",
        "    # plot the current threshold on the line\n",
        "    close_default_clf = np.argmin(np.abs(thresholds - t))\n",
        "    plt.plot(recall[close_default_clf], precision[close_default_clf], 'o', c='red', markersize=8)\n",
        "\n",
        "\n",
        "def plot_roc_curve(fpr, tpr, roc_auc):\n",
        "    \"\"\"\n",
        "    The ROC curve, modified from\n",
        "    Hands-On Machine learning with Scikit-Learn and TensorFlow; p.91\n",
        "    \"\"\"\n",
        "    plt.figure(figsize=(8, 3))\n",
        "    lw = 2\n",
        "    plt.subplot(1,1,1)\n",
        "    plt.plot(fpr, tpr, color='darkorange', lw=lw, label='ROC curve (area = %0.4f)' % roc_auc)\n",
        "    plt.fill_between(fpr,tpr, step='post', alpha=0.5, color='orange')\n",
        "    plt.plot([0, 1], [0, 1], color='navy', lw=lw, linestyle='--')\n",
        "    plt.xlim([0.0, 1.0])\n",
        "    plt.ylim([0.0, 1.05])\n",
        "    plt.xlabel('False Positive Rate')\n",
        "    plt.ylabel('True Positive Rate')\n",
        "    plt.title('ROC Curve')\n",
        "    plt.legend(loc=\"lower right\")\n",
        "    plt.grid(True)\n",
        "\n"
      ],
      "metadata": {
        "cellView": "form",
        "id": "16SuEchmFGxL"
      },
      "execution_count": 234,
      "outputs": []
    },
    {
      "cell_type": "code",
      "source": [
        "#@title Función para plotear matrices de confusión\n",
        "from sklearn.metrics import confusion_matrix\n",
        "import matplotlib.pyplot as plt\n",
        "\n",
        "def plot_confusion_matrix(cf, generica=False):\n",
        "  # cf is the confusion matrix\n",
        "  #\n",
        "  # Plot the confusion matrix using Matplotlib\n",
        "  #\n",
        "  # define fontsize here\n",
        "  fs = 12\n",
        "  #\n",
        "  if (generica):\n",
        "    fig, ax = plt.subplots(figsize=(5, 5))\n",
        "    ax.matshow(cf, cmap=plt.cm.Blues, alpha=0.3)\n",
        "    for i in range(cf.shape[0]):\n",
        "      for j in range(cf.shape[1]):\n",
        "          if (i == j):\n",
        "            texto = \"Clase \" + str(i)\n",
        "            ax.text(x=j, y=i,s=texto, va='center', ha='center', size='x-large')\n",
        "          else:\n",
        "            texto = \"No-\" + str(i)\n",
        "            ax.text(x=j, y=i,s=texto, va='center', ha='center', size='x-large')\n",
        "  else:\n",
        "    fig, ax = plt.subplots(figsize=(5, 5))\n",
        "    ax.matshow(cf, cmap=plt.cm.Greens, alpha=0.3)\n",
        "    for i in range(cf.shape[0]):\n",
        "      for j in range(cf.shape[1]):\n",
        "          ax.text(x=j, y=i,s=cf[i, j], va='center', ha='center', size='x-large')\n",
        "\n",
        "  plt.xlabel('Predicciones', fontsize=fs)\n",
        "  plt.ylabel('Clases Reales', fontsize=fs)\n",
        "  plt.title('Matriz de Aciertos y Confusiones', fontsize=fs)\n",
        "  plt.show()"
      ],
      "metadata": {
        "cellView": "form",
        "id": "4-ehHT9Nfwwm"
      },
      "execution_count": 155,
      "outputs": []
    },
    {
      "cell_type": "code",
      "source": [
        "precision_recall_threshold(precision, recall, thresholds, 0.56)"
      ],
      "metadata": {
        "colab": {
          "base_uri": "https://localhost:8080/",
          "height": 385
        },
        "id": "O8YMMUukFMxz",
        "outputId": "4ce93a29-a6c8-4d9b-cacb-0e895054c218"
      },
      "execution_count": 212,
      "outputs": [
        {
          "output_type": "stream",
          "name": "stdout",
          "text": [
            "     pred_neg  pred_pos\n",
            "neg        32         3\n",
            "pos         1        50\n"
          ]
        },
        {
          "output_type": "display_data",
          "data": {
            "text/plain": [
              "<Figure size 800x300 with 1 Axes>"
            ],
            "image/png": "[encoded data removed]"
          },
          "metadata": {}
        }
      ]
    },
    {
      "cell_type": "code",
      "source": [
        "#@title Funcion para plotear Precision vs Recall vs Umbral\n",
        "def plot_precision_recall_vs_threshold(precisions, recalls, thresholds):\n",
        "    \"\"\"\n",
        "    Modified from:\n",
        "    Hands-On Machine learning with Scikit-Learn\n",
        "    and TensorFlow; p.89\n",
        "    \"\"\"\n",
        "    plt.figure(figsize=(8, 5))\n",
        "    plt.title(\"Precision vs Recall en funcion del Umbral\")\n",
        "    plt.plot(thresholds, precisions[:-1], \"b-\", label=\"Precision\")\n",
        "    plt.plot(thresholds, recalls[:-1], \"m-\", label=\"Recall\")\n",
        "    plt.ylabel(\"Score\")\n",
        "    plt.xlabel(\"Threshold / Umbral\")\n",
        "    plt.legend(loc='best')"
      ],
      "metadata": {
        "cellView": "form",
        "id": "QSd4q69AFakK"
      },
      "execution_count": 200,
      "outputs": []
    },
    {
      "cell_type": "code",
      "source": [
        "# usamos los mismos valores (precision, recall, thresholds) que obtuvimos antes\n",
        "plot_precision_recall_vs_threshold(precision, recall, thresholds)"
      ],
      "metadata": {
        "colab": {
          "base_uri": "https://localhost:8080/",
          "height": 487
        },
        "id": "LjGpUp5VFc90",
        "outputId": "e191de1c-d04e-4f46-a95a-593aacfdb3a2"
      },
      "execution_count": 191,
      "outputs": [
        {
          "output_type": "display_data",
          "data": {
            "text/plain": [
              "<Figure size 800x500 with 1 Axes>"
            ],
            "image/png": "[encoded data removed]"
          },
          "metadata": {}
        }
      ]
    },
    {
      "cell_type": "code",
      "source": [
        "umbral = 0.58\n",
        "y_scores_ajustados = pd.Series(ajustar_clases(y_scores, umbral))\n",
        "fpr, tpr, auc_thresholds = roc_curve(y_test, y_scores_ajustados)\n",
        "# Calculate ROC Area Under the Curve (AUC) from FPR and TPR data points\n",
        "roc_auc = roc_auc_score(y_test, y_scores_ajustados)\n",
        "plot_roc_curve(fpr, tpr, roc_auc)"
      ],
      "metadata": {
        "colab": {
          "base_uri": "https://localhost:8080/",
          "height": 333
        },
        "id": "vqILS2FPtit4",
        "outputId": "10c9aa34-7178-4bad-d2c3-cfaee9ca9cc1"
      },
      "execution_count": 240,
      "outputs": [
        {
          "output_type": "display_data",
          "data": {
            "text/plain": [
              "<Figure size 800x300 with 1 Axes>"
            ],
            "image/png": "[encoded data removed]"
          },
          "metadata": {}
        }
      ]
    },
    {
      "cell_type": "markdown",
      "source": [
        "## Aumentando la confusión\n",
        "\n",
        "Cuando tenemos un problema de clasificación binario, nuestro predictor etiqueta a los datos en dos clases (1, 0); (positivo, negativo); (sano, enfermo).\n",
        "\n",
        "Qué pasa cuando tenemos más clases?\n",
        "\n",
        "Cómo son nuestras matrices de confusión en este caso? ### Tablas de Aciertos y Desaciertos Matrices 3D de\n",
        "\n",
        "The data is the results of a chemical analysis of wines grown in the same\n",
        "region in Italy by three different cultivators. There are thirteen different\n",
        "measurements taken for different constituents found in the three types of\n",
        "wine."
      ],
      "metadata": {
        "id": "zwjoAxcejIY1"
      }
    },
    {
      "cell_type": "code",
      "execution_count": null,
      "metadata": {
        "id": "klmbC92jSEJy"
      },
      "outputs": [],
      "source": [
        "# el dataset Wisconsin Breast Cancer (UCI) de Wolberg está en sklearn!\n",
        "from sklearn import datasets\n",
        "\n",
        "# sklearn.datasets nos trae los datos con una estructura particular\n",
        "# sklearn los llama \"bunchs\"\n",
        "# as_frame = True nos devuelve un dataframe pandas embebido en el bunch\n",
        "wwine = datasets.load_wine(as_frame=True)\n",
        "\n",
        "# y guardamos el dataframe\n",
        "df = wwine.frame\n",
        "df.head()"
      ]
    },
    {
      "cell_type": "code",
      "source": [
        "print(wwine.DESCR)"
      ],
      "metadata": {
        "id": "__JxZIhcb8Ki"
      },
      "execution_count": null,
      "outputs": []
    },
    {
      "cell_type": "code",
      "source": [
        "# veamos las etiquetas de las clases (targets), los 3 cultivares\n",
        "print(wwine.target_names)"
      ],
      "metadata": {
        "id": "NjM_cmHmlKTK"
      },
      "execution_count": null,
      "outputs": []
    },
    {
      "cell_type": "code",
      "source": [
        "# generamos nuestros vectores x (datos) -- copiamos el dataframe entero y le borramos la columna 'target' con las etiquetas\n",
        "x = df.drop(['target'], axis=1)\n",
        "\n",
        "# y nuestro vector y (etiquetas)\n",
        "y = df['target']"
      ],
      "metadata": {
        "id": "zcqe0FK6laHp"
      },
      "execution_count": 2,
      "outputs": []
    },
    {
      "cell_type": "code",
      "source": [
        "# entrenar el modelo\n",
        "from sklearn.linear_model import LogisticRegression\n",
        "from sklearn.linear_model import LogisticRegressionCV\n",
        "from sklearn.model_selection import train_test_split\n",
        "\n",
        "# con pipeline\n",
        "from sklearn.preprocessing import MinMaxScaler\n",
        "from sklearn.preprocessing import StandardScaler\n",
        "from sklearn.pipeline import Pipeline\n",
        "\n",
        "# split entre train / test\n",
        "x_train, x_test, y_train, y_test = train_test_split(x, y, test_size = 0.15, random_state=21)\n",
        "\n",
        "pipe = Pipeline([\n",
        "        ('scale', MinMaxScaler()),\n",
        "        ('logistic_regression', LogisticRegression()),\n",
        "        ])\n",
        "\n",
        "pipe.fit(x_train, y_train)\n",
        "clasificacion = pipe.predict(x_test)\n",
        "probabilidades = pipe.predict_proba(x_test)"
      ],
      "metadata": {
        "id": "xy87DqRmlc-x"
      },
      "execution_count": 33,
      "outputs": []
    },
    {
      "cell_type": "code",
      "source": [
        "lr = pipe.named_steps['logistic_regression']\n",
        "coeficientes = lr.coef_[0]\n",
        "\n",
        "import pandas as pd\n",
        "import numpy as np\n",
        "\n",
        "feature_importance = pd.DataFrame({'Feature': x.columns, 'Importance': np.abs(coeficientes)})\n",
        "feature_importance = feature_importance.sort_values('Importance', ascending=True)\n",
        "feature_importance.plot(x='Feature', y='Importance', kind='barh', figsize=(10, 6))"
      ],
      "metadata": {
        "id": "Jfb4BUWdmC1q"
      },
      "execution_count": null,
      "outputs": []
    },
    {
      "cell_type": "code",
      "source": [
        "from sklearn import metrics\n",
        "from sklearn.metrics import confusion_matrix, accuracy_score, precision_score, recall_score\n",
        "\n",
        "accuracy = round(accuracy_score(y_test, clasificacion), 3)\n",
        "precision = round(precision_score(y_test, clasificacion, average='micro'), 3)\n",
        "recall = round(recall_score(y_test, clasificacion, average='micro'), 3)\n",
        "f1_score = 2 * (precision * recall) / (precision + recall)\n",
        "print(f\"Exactitud (Accuracy): {accuracy}\")\n",
        "print(f\"Precisión: {precision}\")\n",
        "print(f\"Exhaustividad (Recall): {recall}\")\n",
        "print(f\"F1-Score: {f1_score}\")\n"
      ],
      "metadata": {
        "id": "q2QO5gvYlvpi"
      },
      "execution_count": null,
      "outputs": []
    },
    {
      "cell_type": "code",
      "source": [
        "#@title Función para plotear matrices de confusión\n",
        "from sklearn.metrics import confusion_matrix\n",
        "import matplotlib.pyplot as plt\n",
        "\n",
        "def plot_confusion_matrix(cf, generica=False):\n",
        "  # cf is the confusion matrix\n",
        "  #\n",
        "  # Plot the confusion matrix using Matplotlib\n",
        "  #\n",
        "  # define fontsize here\n",
        "  fs = 12\n",
        "  #\n",
        "  if (generica):\n",
        "    fig, ax = plt.subplots(figsize=(5, 5))\n",
        "    ax.matshow(cf, cmap=plt.cm.Blues, alpha=0.3)\n",
        "    for i in range(cf.shape[0]):\n",
        "      for j in range(cf.shape[1]):\n",
        "          if (i == j):\n",
        "            texto = \"Clase \" + str(i)\n",
        "            ax.text(x=j, y=i,s=texto, va='center', ha='center', size='x-large')\n",
        "          else:\n",
        "            texto = \"No-\" + str(i)\n",
        "            ax.text(x=j, y=i,s=texto, va='center', ha='center', size='x-large')\n",
        "  else:\n",
        "    fig, ax = plt.subplots(figsize=(5, 5))\n",
        "    ax.matshow(cf, cmap=plt.cm.Greens, alpha=0.3)\n",
        "    for i in range(cf.shape[0]):\n",
        "      for j in range(cf.shape[1]):\n",
        "          ax.text(x=j, y=i,s=cf[i, j], va='center', ha='center', size='x-large')\n",
        "\n",
        "  plt.xlabel('Predicciones', fontsize=fs)\n",
        "  plt.ylabel('Clases Reales', fontsize=fs)\n",
        "  plt.title('Matriz de Aciertos y Confusiones', fontsize=fs)\n",
        "  plt.show()"
      ],
      "metadata": {
        "cellView": "form",
        "id": "C3orhtDSp54n"
      },
      "execution_count": 8,
      "outputs": []
    },
    {
      "cell_type": "code",
      "source": [
        "# Matriz de confusion\n",
        "matriz_de_confusion = metrics.confusion_matrix(y_test, clasificacion)\n",
        "plot_confusion_matrix(matriz_de_confusion, generica=False)"
      ],
      "metadata": {
        "id": "zWAYCOpUq5cQ"
      },
      "execution_count": null,
      "outputs": []
    },
    {
      "cell_type": "markdown",
      "source": [
        "# Ejercicio: otro caso multilabel\n",
        "\n",
        "En este caso vamos a ver las curvas ROC con un dataset un poco mas dificil (para que las curvas ROC no sean tan perfectas!)"
      ],
      "metadata": {
        "id": "0fMwM16V0Mxi"
      }
    },
    {
      "cell_type": "code",
      "source": [
        "from sklearn.datasets import load_iris\n",
        "from sklearn.model_selection import train_test_split\n",
        "\n",
        "iris = load_iris()\n",
        "target_names = iris.target_names\n",
        "x, y = iris.data, iris.target\n",
        "y = iris.target_names[y]\n",
        "\n",
        "# agregamos un poco de ruido a los datos para hacer el problema mas dificil\n",
        "random_state = np.random.RandomState(0)\n",
        "n_samples, n_features = x.shape\n",
        "n_classes = len(np.unique(y))\n",
        "x = np.concatenate([x, random_state.randn(n_samples, 200 * n_features)], axis=1)\n",
        "(\n",
        "    x_train,\n",
        "    x_test,\n",
        "    y_train,\n",
        "    y_test,\n",
        ") = train_test_split(x, y, test_size=0.5, stratify=y, random_state=0)\n",
        "\n"
      ],
      "metadata": {
        "id": "9W49YsZ70Ysy"
      },
      "execution_count": 251,
      "outputs": []
    },
    {
      "cell_type": "code",
      "source": [
        "from sklearn.linear_model import LogisticRegression\n",
        "\n",
        "classifier = LogisticRegression()\n",
        "y_score = classifier.fit(x_train, y_train).predict_proba(x_test)"
      ],
      "metadata": {
        "id": "RxjqxfwTyRNd"
      },
      "execution_count": 252,
      "outputs": []
    },
    {
      "cell_type": "code",
      "source": [
        "from sklearn.preprocessing import LabelBinarizer\n",
        "\n",
        "label_binarizer = LabelBinarizer().fit(y_train)\n",
        "y_onehot_test = label_binarizer.transform(y_test)\n",
        "y_onehot_test.shape  # (n_samples, n_classes)"
      ],
      "metadata": {
        "id": "p07tNtbPyXST"
      },
      "execution_count": null,
      "outputs": []
    },
    {
      "cell_type": "code",
      "source": [
        "label_binarizer.transform([\"virginica\"])"
      ],
      "metadata": {
        "id": "vsDrO-XG1YQh"
      },
      "execution_count": null,
      "outputs": []
    },
    {
      "cell_type": "code",
      "source": [
        "lr = LogisticRegression()\n",
        "probabilidades = lr.fit(x_train, y_train).predict_proba(x_test)"
      ],
      "metadata": {
        "id": "zfyRDG8803T4"
      },
      "execution_count": 52,
      "outputs": []
    },
    {
      "cell_type": "code",
      "source": [
        "class_of_interest = \"virginica\"\n",
        "class_id = np.flatnonzero(label_binarizer.classes_ == class_of_interest)[0]\n",
        "class_id"
      ],
      "metadata": {
        "id": "yYHRP5WZyfSa"
      },
      "execution_count": null,
      "outputs": []
    },
    {
      "cell_type": "code",
      "source": [
        "import matplotlib.pyplot as plt\n",
        "\n",
        "from sklearn.metrics import RocCurveDisplay\n",
        "\n",
        "RocCurveDisplay.from_predictions(\n",
        "    y_onehot_test[:, class_id],\n",
        "    y_score[:, class_id],\n",
        "    name=f\"{class_of_interest} vs the rest\",\n",
        "    color=\"darkorange\",\n",
        "    #plot_chance_level=True,\n",
        ")\n",
        "plt.axis(\"square\")\n",
        "plt.xlabel(\"False Positive Rate\")\n",
        "plt.ylabel(\"True Positive Rate\")\n",
        "plt.title(\"One-vs-Rest ROC curves:\\nVirginica vs (Setosa & Versicolor)\")\n",
        "plt.legend()\n",
        "plt.show()"
      ],
      "metadata": {
        "id": "qR5XzvxxyhS0"
      },
      "execution_count": null,
      "outputs": []
    },
    {
      "cell_type": "markdown",
      "source": [
        "### Jugando con datos sintéticos\n",
        "\n",
        "## Generamos nuestros datos\n",
        "\n",
        "Vamos a generar dos clases con distribución normal (simétrica, gausiana). En ambos casos las clases muestran distribuciones _balanceadas_.\n",
        "\n",
        "Para imaginar situaciones reales, piensen en que las dos clases pueden ser dos grupos de pacientes (enfermos, sanos). O dos grupos de estudiantes (universitarios _vs_ colegio secundario). O dos grupos de atletas entrenados para correr 100 metros (jamaiquinos _vs_ argentinos).\n",
        "\n",
        "En cualquiera de estos ejemplos, contamos con el resultado numérico de algún un test nos va a permitir (con suerte) separar a estas dos clases. Por ejemplo: velocidad en que corren los 100metros (corredores), resultado de medir algun parámetro en sangre en un análisis bioquímico de laboratorio (pacientes), o resultado de la nota en un examen escrito o multiple choice (alumnos).\n",
        "\n",
        "El test nos da un puntaje numérico con valores entre 0 y 10. En el caso de un examen escrito para estudiantes, no nos cuesta mucho imaginarlo. En el caso de tiempo en correr 100m (atletas) o en el caso de algun análisis diagnóstico de laboratorio, imaginemos que los puntajes fueron _normalizados_ o _re-escalados_ para que entren en este rango."
      ],
      "metadata": {
        "id": "5DgwHmJVx-gh"
      }
    },
    {
      "cell_type": "code",
      "source": [
        "# vmos a generar datos balanceados (10000 por lado)\n",
        "N1 = 10000\n",
        "media1 = 4\n",
        "sigma1 = 1\n",
        "\n",
        "N2 = 10000\n",
        "media2 = 7\n",
        "sigma2 = 1"
      ],
      "metadata": {
        "id": "gkr79AJaAt3v"
      },
      "execution_count": 241,
      "outputs": []
    },
    {
      "metadata": {
        "id": "IIK8xO395lQH",
        "colab": {
          "base_uri": "https://localhost:8080/",
          "height": 0
        },
        "outputId": "9dda055c-7b2e-4633-bc50-2d576298d8bc"
      },
      "cell_type": "code",
      "source": [
        "#@title Generar Datos y Plotear Dataset\n",
        "#\n",
        "from scipy.stats import norm\n",
        "def distribucion_normal(media, sigma, N, bins, label, plt_color, is_plot=True):\n",
        "  # simulamos puntajes con una distribucion a partir de la media, desvio y nro de datos (N)\n",
        "  puntajes = np.sort(norm.rvs(loc=media, scale=sigma, size=N))\n",
        "\n",
        "  # Curva Bell de Referencia\n",
        "  x = np.linspace(-5, 5, N)\n",
        "  # por defecto centrada en 0 y con desvio 1\n",
        "  bell = norm.pdf(x) * N * max(norm.pdf(x))\n",
        "\n",
        "  if is_plot:\n",
        "    plt.hist(puntajes, density=False, color=plt_color, alpha=.5, bins=bins)\n",
        "    plt.plot(x+media, bell, '--', label=label, color=plt_color)\n",
        "\n",
        "  return puntajes, x, bell\n",
        "\n",
        "BINS = 20\n",
        "\n",
        "plt.figure()\n",
        "\n",
        "# Distribucion de datos etiquetados como Negativos\n",
        "label1 = 'Etiquetas Negativas'\n",
        "puntajes1, x1, bell1 = distribucion_normal(media1, sigma1, N1, BINS, label1, plt_color='red')\n",
        "\n",
        "label2 = 'Etiquetas Positivas'\n",
        "puntajes2, x2, bell2 = distribucion_normal(media2, sigma2, N2, BINS, label2, plt_color='green')\n",
        "\n",
        "# Finalmente generamos nuestros vectores x (datos) + y (etiquetas)\n",
        "y = N1*[0] + N2*[1]\n",
        "\n",
        "x = np.concatenate((puntajes1, puntajes2), axis=None).reshape(-1,1)\n",
        "\n",
        "# Plot\n",
        "plt.title(\"Plots de datos etiquetados Negativos y Positivos\")\n",
        "plt.xlabel('Puntaje')\n",
        "plt.ylabel('Numero de eventos')\n",
        "plt.grid(True)\n",
        "plt.legend()\n",
        "plt.show()"
      ],
      "execution_count": 243,
      "outputs": [
        {
          "output_type": "display_data",
          "data": {
            "text/plain": [
              "<Figure size 640x480 with 1 Axes>"
            ],
            "image/png": "[encoded data removed]"
          },
          "metadata": {}
        }
      ]
    },
    {
      "cell_type": "markdown",
      "source": [
        "El código oculto nos genera datos en nuestros vectores `x`(datos, valores) e `y` (clases, etiquetas). Las etiquetas son: POSITIVO (`1`) o NEGATIVO (`0`). Y los puntajes son los valores numéricos que surjen de algún test. Con esta informacion entrenamos un modelo Logistico:"
      ],
      "metadata": {
        "id": "phag_q5GILjJ"
      }
    },
    {
      "cell_type": "code",
      "source": [
        "# entrenar el modelo\n",
        "from sklearn.linear_model import LogisticRegression\n",
        "from sklearn.model_selection import train_test_split\n",
        "\n",
        "# con pipeline\n",
        "from sklearn.preprocessing import MinMaxScaler\n",
        "from sklearn.pipeline import Pipeline\n",
        "\n",
        "# split entre train / test\n",
        "x_train, x_test, y_train, y_test = train_test_split(x, y, test_size = 0.15, random_state=21)\n",
        "\n",
        "pipe = Pipeline([\n",
        "        ('scale', MinMaxScaler()),\n",
        "        ('logistic_regression', LogisticRegression()),\n",
        "        ])\n",
        "\n",
        "pipe.fit(x_train, y_train)\n",
        "clasificacion = pipe.predict(x_test)\n",
        "y_scores = pipe.predict_proba(x_test)\n"
      ],
      "metadata": {
        "id": "iyVeBSfq21o5"
      },
      "execution_count": 245,
      "outputs": []
    },
    {
      "cell_type": "code",
      "source": [
        "from sklearn import metrics\n",
        "from sklearn.metrics import confusion_matrix, accuracy_score, precision_score, recall_score\n",
        "\n",
        "print(f\"Exactitud: {round(accuracy_score(y_test, clasificacion), 3)}      (TP + TN / P + N)\")\n",
        "print(f\"Precisión: {round(precision_score(y_test, clasificacion), 3)}      (TP / TP + FP)\")\n",
        "print(f\"Exhaustividad: {round(recall_score(y_test, clasificacion), 3)}  (TP / TP + FN)\")\n",
        "print(\"\\nMatriz de confusión:\")\n",
        "print(metrics.confusion_matrix(y_test, clasificacion))"
      ],
      "metadata": {
        "id": "rgDnPsvM_QPQ",
        "colab": {
          "base_uri": "https://localhost:8080/"
        },
        "outputId": "f6418e02-a0c9-485f-d2df-21404f360398"
      },
      "execution_count": 246,
      "outputs": [
        {
          "output_type": "stream",
          "name": "stdout",
          "text": [
            "Exactitud: 0.933      (TP + TN / P + N)\n",
            "Precisión: 0.937      (TP / TP + FP)\n",
            "Exhaustividad: 0.931  (TP / TP + FN)\n",
            "\n",
            "Matriz de confusión:\n",
            "[[1392   95]\n",
            " [ 105 1408]]\n"
          ]
        }
      ]
    },
    {
      "cell_type": "markdown",
      "source": [
        "# Apendice\n",
        "\n",
        "## Ejercicios Extra con Cross Validation + Optimizacion de Hiperparámetros\n",
        "\n",
        "A continuación algunos ejercicios más para que prueben Cross Validation y un GridSearch buscando los mejores hiperparámetros"
      ],
      "metadata": {
        "id": "ylJ3BWqqp0-x"
      }
    },
    {
      "cell_type": "code",
      "source": [
        "import numpy as np\n",
        "import pandas as pd\n",
        "\n",
        "from sklearn.preprocessing import LabelBinarizer\n",
        "from sklearn.ensemble import RandomForestClassifier\n",
        "from sklearn.model_selection import train_test_split, GridSearchCV, StratifiedKFold\n",
        "from sklearn.metrics import roc_curve, precision_recall_curve, auc, make_scorer, recall_score, accuracy_score, precision_score, confusion_matrix\n",
        "\n",
        "import matplotlib.pyplot as plt"
      ],
      "metadata": {
        "id": "4k_DcjTvqhIe"
      },
      "execution_count": null,
      "outputs": []
    },
    {
      "cell_type": "code",
      "source": [
        "# el dataset Wisconsin Breast Cancer (UCI) de Wolberg está en sklearn!\n",
        "from sklearn import datasets\n",
        "\n",
        "# sklearn.datasets nos trae los datos con una estructura particular\n",
        "# sklearn los llama \"bunchs\"\n",
        "# as_frame = True nos devuelve un dataframe pandas embebido en el bunch\n",
        "wbc = datasets.load_breast_cancer(as_frame=True)\n",
        "\n",
        "# y guardamos el dataframe\n",
        "df = wbc.frame"
      ],
      "metadata": {
        "id": "MbrjsMRlqhIl"
      },
      "execution_count": null,
      "outputs": []
    },
    {
      "cell_type": "code",
      "source": [
        "# generamos nuestros vectores x (datos) -- copiamos el dataframe entero y le borramos la columna 'target' con las etiquetas\n",
        "x = df.drop(['target'], axis=1)\n",
        "\n",
        "# y nuestro vector y (etiquetas)\n",
        "y = df['target']\n",
        "x.head()"
      ],
      "metadata": {
        "id": "Fha8pf-BqhIl"
      },
      "execution_count": null,
      "outputs": []
    },
    {
      "cell_type": "markdown",
      "source": [
        "Un clasificador que todavía no vimos (RandomForest). Usenlo a ciegas por ahora, comparen resultados con LogisticRegression."
      ],
      "metadata": {
        "id": "2hPN5TBtqjMb"
      }
    },
    {
      "cell_type": "code",
      "source": [
        "# optimizar\n",
        "clf = RandomForestClassifier(n_jobs=-1)\n",
        "\n",
        "param_grid = {\n",
        "    'min_samples_split': [3, 5, 10],\n",
        "    'n_estimators' : [100, 300],\n",
        "    'max_depth': [3, 5, 15, 25],\n",
        "    'max_features': [3, 5, 10, 20]\n",
        "}\n",
        "\n",
        "scorers = {\n",
        "    'precision_score': make_scorer(precision_score),\n",
        "    'recall_score': make_scorer(recall_score),\n",
        "    'accuracy_score': make_scorer(accuracy_score)\n",
        "}"
      ],
      "metadata": {
        "id": "sjEZ-OoC-HP5"
      },
      "execution_count": null,
      "outputs": []
    },
    {
      "cell_type": "markdown",
      "source": [
        "Y acá, escrito en forma de función de python, algo de código que envuelve (wraps) la ejecución de nuestro GridSearch para búsqueda de hiperparametros + parametros. Fijense que está todo acá CrossValidation (`cv=`), Hiperparametros (`param_grid`), y el score que vamos a querer optimizar (`refit=`).\n",
        "\n",
        "La función necesita nuestro clasificador (`clf`), y qué cosa `priorizar` (ver `scorers` arriba). Se usa así:\n",
        "```\n",
        "grid_search_wrapper(clf, priorizar=\"accuracy_score\")\n",
        "```"
      ],
      "metadata": {
        "id": "WV7AjjUmq1fc"
      }
    },
    {
      "cell_type": "code",
      "source": [
        "#@title Wrapper para optimizar parametros para un score particular\n",
        "def grid_search_wrapper(clf, priorizar='precision_score'):\n",
        "    \"\"\"\n",
        "    fitea un clasificador GridSearchCV priorizando un score\n",
        "    en particular (priorizar) para optimizar\n",
        "    devuelve metricas de performance del clasificador\n",
        "    \"\"\"\n",
        "    skf = StratifiedKFold(n_splits=10)\n",
        "    grid_search = GridSearchCV(clf, param_grid, scoring=scorers, refit=priorizar,\n",
        "                           cv=skf, return_train_score=True, n_jobs=-1)\n",
        "    grid_search.fit(x_train.values, y_train.values)\n",
        "\n",
        "    # make the predictions\n",
        "    y_pred = grid_search.predict(x_test.values)\n",
        "\n",
        "    print('Mejores parametros para {}'.format(priorizar))\n",
        "    print(grid_search.best_params_)\n",
        "\n",
        "    # confusion matrix on the test data.\n",
        "    print('\\nMatriz de Confusion optimizada para {} sobre los datos de validación:'.format(priorizar))\n",
        "    print(pd.DataFrame(confusion_matrix(y_test, y_pred),\n",
        "                 columns=['pred_neg', 'pred_pos'], index=['neg', 'pos']))\n",
        "    return grid_search"
      ],
      "metadata": {
        "id": "YUv_wPcX-iMg"
      },
      "execution_count": null,
      "outputs": []
    },
    {
      "cell_type": "code",
      "source": [
        "grid_search_clf = grid_search_wrapper(clf, priorizar='precision_score')\n"
      ],
      "metadata": {
        "id": "y_iRHMwBBpde"
      },
      "execution_count": null,
      "outputs": []
    },
    {
      "cell_type": "code",
      "source": [
        "results = pd.DataFrame(grid_search_clf.cv_results_)\n",
        "results = results.sort_values(by='mean_test_precision_score', ascending=False)\n",
        "results\n"
      ],
      "metadata": {
        "id": "apkK4FI7CEVe"
      },
      "execution_count": null,
      "outputs": []
    },
    {
      "cell_type": "code",
      "source": [
        "y_scores = grid_search_clf.predict_proba(x_test)[:, 1]\n"
      ],
      "metadata": {
        "colab": {
          "base_uri": "https://localhost:8080/"
        },
        "id": "KFCxIu8XEqfk",
        "outputId": "6982152c-2665-4781-a5fc-8160ee8112c3"
      },
      "execution_count": null,
      "outputs": [
        {
          "output_type": "stream",
          "name": "stderr",
          "text": [
            "/usr/local/lib/python3.10/dist-packages/sklearn/base.py:432: UserWarning: X has feature names, but MinMaxScaler was fitted without feature names\n",
            "  warnings.warn(\n"
          ]
        }
      ]
    }
  ]
}