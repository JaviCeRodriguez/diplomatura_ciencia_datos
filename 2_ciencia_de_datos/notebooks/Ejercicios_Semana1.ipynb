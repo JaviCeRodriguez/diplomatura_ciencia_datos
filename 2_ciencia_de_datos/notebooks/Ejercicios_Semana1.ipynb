{
  "nbformat": 4,
  "nbformat_minor": 0,
  "metadata": {
    "colab": {
      "provenance": []
    },
    "kernelspec": {
      "name": "python3",
      "display_name": "Python 3"
    },
    "language_info": {
      "name": "python"
    }
  },
  "cells": [
    {
      "cell_type": "markdown",
      "source": [
        "# Argentina programa 4.0 - Módulo 2: Ciencia de Datos \n",
        "\n",
        "---\n",
        "## Ejercícios Semana 1. Elementos de matemática y probabilidad\n"
      ],
      "metadata": {
        "id": "M5MOMyK2PAFN"
      }
    },
    {
      "cell_type": "markdown",
      "source": [
        "## Funciones "
      ],
      "metadata": {
        "id": "YgnNz8bAjYwQ"
      }
    },
    {
      "cell_type": "markdown",
      "source": [
        "### Ejercicio 1\n",
        "\n",
        "Para cada una de las siguientes funciones matemáticas, escribir funciones de Python que reciban el valor de la variable `x` como input y que devuelvan el valor correspondiente de la variable dependiente `y`. \n",
        "\n",
        " * $y = 3x^2 + 3x - 6$\n",
        " * $y = 3x - 6$\n",
        " * $y = x^3$\n",
        " * $y = \\frac{1}{1 + e^{-x}}$\n",
        " * $y = \\frac{1}{2} x + 1$\n",
        " * $y = x^2 + 1$\n",
        "\n",
        " Para todos los casos graficar las funciones usando matplotlib, con valores de `x` en el rango $-5, 5$."
      ],
      "metadata": {
        "id": "2lz56YPajhM2"
      }
    },
    {
      "cell_type": "markdown",
      "source": [
        "### Ejercicio 2\n",
        "\n",
        "#### Velocidad de cambio de funciones con Numpy gradient\n",
        "\n",
        "NumPy tiene implementados algunos algoritmos de aproximación para encontrar la pendiente de rectas cercanas a la tangente. Como NumPy desconoce la función, hace la estimación solamente en base a los números que existen en el array (ver referencias).\n",
        "\n",
        "Dado un array de números, `numpy.gradient` devuelve un array con valores de derivadas (pendientes) del array original. Los valores negativos indican que la función `decrece` en ese punto. Los valores positivos indican que la función `crece` en ese punto. \n",
        "\n",
        "**Referencias:**\n",
        "\n",
        " * [NumPy gradient](https://numpy.org/doc/stable/reference/generated/numpy.gradient.html)\n",
        " * [Finite difference](https://en.wikipedia.org/wiki/Finite_difference)"
      ],
      "metadata": {
        "id": "IMODNa8-YoW1"
      }
    },
    {
      "cell_type": "markdown",
      "source": [
        "\n",
        "Para las funciones del ejercicio anterior, generar 10, 50, 100 y 1000 valores en el rango $-5, +5$ (tip: `numpy.linspace`) y obtener los correspondientes arrays de pendientes usando `numpy.gradient`. \n",
        "\n",
        "En cada caso, iterar para encontrar el punto de cambio de la función si existe. Informar el valor de $x$ donde la función cambia de signo y si es un mínimo o un máximo. \n",
        "\n",
        "*Obvio que pueden imprimir y mirar el array que devuelve `numpy.gradient` a ojo y encontrar los puntos de cambio de signo de la función pero a modo de ejercitación está bueno encontrarlos programáticamente.*\n",
        "\n",
        "Cómo cambia la estimación del punto de cambio de la función a medida que aumentamos el número de puntos (valores) en nuestro rango de interés? Cuánto se acercan a cero las pendientes a medida que aumentamos el número de puntos?"
      ],
      "metadata": {
        "id": "eYUMzahCvccS"
      }
    },
    {
      "cell_type": "markdown",
      "source": [
        "## Probabilidad"
      ],
      "metadata": {
        "id": "vF6cPa0MO1hZ"
      }
    },
    {
      "cell_type": "markdown",
      "source": [
        "### Ejercicio 1\n",
        "\n",
        "A partir de un estudio realizado por una asociación de conductores de autopista mostró que el 60% de los mismos utilizan el cinturón de seguridad correctamente. Si se selecciona una muestra de 10 conductores en una autopista. ¿Cuál es la probabilidad de que exactamente 7 de ellos lleven el cinturón de seguridad?\n",
        "\n",
        "_Tip_: usar la distribución binomial"
      ],
      "metadata": {
        "id": "OMepdMoDOzzi"
      }
    },
    {
      "cell_type": "code",
      "source": [],
      "metadata": {
        "id": "CvGemMqWQK7z"
      },
      "execution_count": null,
      "outputs": []
    },
    {
      "cell_type": "markdown",
      "source": [
        "### Ejercicio 2:\n",
        "\n",
        "En el examen del final del módulo de Python, los participantes tenían que responder a 10 preguntas multiple-choice con cuatro opciones, siendo solo una de ellas la correcta. \n",
        "\n",
        "a) Simular el experimento de responder a las preguntas aleatoriamente y guardar la cantidad de respuestas correctas en cada caso. Hacer un histograma con los resultados obtenidos.\n",
        "\n",
        "b) Sabiendo que se aprueba con al menos 6 respuestas correctas, ¿Cuál es la probabilidad de aprobar respondiendo aleatoriamente obtenida en el experimento anterior?\n",
        "\n",
        "c) Calcular el valor medio, la mediana y la moda de los resultados obtenidos.\n"
      ],
      "metadata": {
        "id": "tpyUa64oQa8Z"
      }
    },
    {
      "cell_type": "code",
      "source": [],
      "metadata": {
        "id": "lIMZtA_tQdz0"
      },
      "execution_count": null,
      "outputs": []
    },
    {
      "cell_type": "markdown",
      "source": [
        "### Ejercicio 3\n",
        "\n",
        "Los resultados de un examen, cuya nota máxima posible es 100, siguen una distribución normal con media 68 y desviación típica 12.\n",
        "\n",
        "Realice un gráfico de esta distribución normal para el intervalo\n",
        "¿Cuál es la probabilidad de que una persona que se presenta el examen obtenga una calificación superior a 72?\n",
        "Calcular la proporción de estudiantes que tienen puntuaciones que exceden por lo menos en cinco puntos de la puntuación que marca la frontera entre el Apto y el No-Apto; sabiendo que son declarados No-Aptos el 25% de los estudiantes que obtuvieron las puntuaciones más bajas.\n",
        "Si se sabe que la calificación de un estudiante es mayor que 72, ¿cuál es la probabilidad de que su calificación sea, de hecho, superior a 84?"
      ],
      "metadata": {
        "id": "DnWDxXAKqdoh"
      }
    }
  ]
}